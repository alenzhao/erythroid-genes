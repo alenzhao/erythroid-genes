{
 "cells": [
  {
   "cell_type": "markdown",
   "metadata": {},
   "source": [
    "# Erythroid gene lists\n",
    "\n",
    "Ryan Dale, dalerr@niddk.nih.gov\n",
    "\n",
    "There are multiple ways of defining \"erythroid\" genes. Two such methods can be found in [Li et al 2013](http://www.ncbi.nlm.nih.gov/pubmed/23610375) and [Hughes et al 2014](http://www.ncbi.nlm.nih.gov/pubmed/24413732). The goal of this notebook is 1) to compare these gene lists and 2) to get human homologs.\n",
    "\n",
    "Comparing the gene lists should be simple, because all we have to do is look for genes that show up in each list. However, these lists contain typos, mis-identified genes, multiple synonyms for one gene, and other issues preventing them from being compared directly. This notebook documents the work needed in order to simply compare these gene lists. The output consists of lists of erythroid genes in various accessions (Ensembl, MGI symbol, Entrez) in mouse as well as human homologs. These lists are then combined to find erythroid genes unique to one study, genes defined as erythroid in both, and the union of both lists.\n",
    "\n",
    "This notebook describes some issues with the gene list in Li et al's Table S3. Here we explain explain why those results are still valid, and why only now the issues are showing up. The genes in Table S3 were identified with a combined literature search and curation approach which was then used to annotate microarray expression results from Affymetrix Mouse 430 2.0 arrays. Genes from the array as \"erythroid\" if the gene symbol was found in the Table S3, and 71 of the 530 unique symbols in Table S3 were not found in the microarray results. This is not entirely unexpected since there are [known issues](http://www.ncbi.nlm.nih.gov/pubmed/16284200) when using older array designs with recent databases, and these issues were addressed by Li et al by using the latest [BrainArray CustomCDF files](http://brainarray.mbni.med.umich.edu/Brainarray/Database/CustomCDF/genomic_curated_CDF.asp). Those 71 missing genes were attributed to either a lack of probes for the gene in the original array and/or deliberate removal of problematic probesets by the BrainArray CustomCDF group. Either way, calling fewer genes as \"erythroid\" was a more conservative approach for the Li et al. analysis.\n",
    "\n",
    "However, now we'd like to 1) identify homologous erythroid genes in other species and 2) compare with Hughes et al's list of gene symbols. The gene symbols are therefore being compared to the contents of multiple recent databases, and we expect every symbol to be found -- in contrast to looking for presence/absence in microarray data and expecting some fraction to be missing. When symbols are not found, we need to investigate why, and this uncovers issues in the original gene lists.\n",
    "\n",
    "Below we fix the gene lists to maximally match current databases and compare the lists with set operations, finally saving the results for use in downstream analysis."
   ]
  },
  {
   "cell_type": "markdown",
   "metadata": {},
   "source": [
    "## Download data\n",
    "The following downloads the supplemental data from Li et al and Hughes et al into a newly-created `data` directory in the current working directory."
   ]
  },
  {
   "cell_type": "code",
   "execution_count": 1,
   "metadata": {
    "collapsed": false
   },
   "outputs": [],
   "source": [
    "%%script bash\n",
    "mkdir -p \"data/li-2013\"\n",
    "(\n",
    "    cd \"data/li-2013\"\n",
    "    curl -L -J --insecure --silent \\\n",
    "    \"http://www.bloodjournal.org/highwire/filestream/318857/field_highwire_adjunct_files/2/TableS3.xlsx\" \\\n",
    "    > \"TableS3.xlsx\"\n",
    ")"
   ]
  },
  {
   "cell_type": "code",
   "execution_count": 2,
   "metadata": {
    "collapsed": false
   },
   "outputs": [],
   "source": [
    "%%script bash\n",
    "mkdir -p \"data/hughes-2014\"\n",
    "(\n",
    "    cd \"data/hughes-2014\"\n",
    "    curl -L -J --silent --insecure \\\n",
    "    \"http://www.ncbi.nlm.nih.gov/geo/download/?acc=GSE47758&format=file&file=GSE47758_Captured_Regions%2B500bp%2Ebed%2Egz\" \\\n",
    "        > \"GSE47758_Captured_Regions+500bp.bed.gz\"\n",
    ")"
   ]
  },
  {
   "cell_type": "markdown",
   "metadata": {},
   "source": [
    "# Loading and cleaning Hughes 2014 data\n",
    "These data are in the form of a BED file of regions captured by their assay, where the gene symbol is in the \"name\" column (4th column):"
   ]
  },
  {
   "cell_type": "code",
   "execution_count": 3,
   "metadata": {
    "collapsed": false
   },
   "outputs": [
    {
     "name": "stdout",
     "output_type": "stream",
     "text": [
      "chr1\t16608340\t16610364\tUbe2w\r\n",
      "chr1\t36363177\t36365656\tArid5a\r\n",
      "chr1\t59027148\t59031794\tTrak2\r\n",
      "chr1\t75137189\t75139542\t1810031K17Rik\r\n",
      "chr1\t75138735\t75140516\tFam134a\r\n",
      "chr1\t75163989\t75166340\tZfand2b\r\n",
      "chr1\t75174963\t75177940\tAbcb6\r\n",
      "chr1\t75187652\t75189458\tAtg9a\r\n",
      "chr1\t75215328\t75217511\tTuba4a\r\n",
      "chr1\t75232055\t75234432\tDnajb2\r\n"
     ]
    }
   ],
   "source": [
    "!zcat data/hughes-2014/GSE47758_Captured_Regions+500bp.bed.gz | head"
   ]
  },
  {
   "cell_type": "markdown",
   "metadata": {},
   "source": [
    "Let's load that into a pandas DataFrame:"
   ]
  },
  {
   "cell_type": "code",
   "execution_count": 4,
   "metadata": {
    "collapsed": false
   },
   "outputs": [
    {
     "name": "stdout",
     "output_type": "stream",
     "text": [
      "460\n"
     ]
    },
    {
     "data": {
      "text/html": [
       "<div>\n",
       "<table border=\"1\" class=\"dataframe\">\n",
       "  <thead>\n",
       "    <tr style=\"text-align: right;\">\n",
       "      <th></th>\n",
       "      <th>chrom</th>\n",
       "      <th>start</th>\n",
       "      <th>stop</th>\n",
       "      <th>orig_symbol</th>\n",
       "    </tr>\n",
       "  </thead>\n",
       "  <tbody>\n",
       "    <tr>\n",
       "      <th>0</th>\n",
       "      <td>chr1</td>\n",
       "      <td>16608340</td>\n",
       "      <td>16610364</td>\n",
       "      <td>Ube2w</td>\n",
       "    </tr>\n",
       "    <tr>\n",
       "      <th>1</th>\n",
       "      <td>chr1</td>\n",
       "      <td>36363177</td>\n",
       "      <td>36365656</td>\n",
       "      <td>Arid5a</td>\n",
       "    </tr>\n",
       "    <tr>\n",
       "      <th>2</th>\n",
       "      <td>chr1</td>\n",
       "      <td>59027148</td>\n",
       "      <td>59031794</td>\n",
       "      <td>Trak2</td>\n",
       "    </tr>\n",
       "    <tr>\n",
       "      <th>3</th>\n",
       "      <td>chr1</td>\n",
       "      <td>75137189</td>\n",
       "      <td>75139542</td>\n",
       "      <td>1810031K17Rik</td>\n",
       "    </tr>\n",
       "    <tr>\n",
       "      <th>4</th>\n",
       "      <td>chr1</td>\n",
       "      <td>75138735</td>\n",
       "      <td>75140516</td>\n",
       "      <td>Fam134a</td>\n",
       "    </tr>\n",
       "  </tbody>\n",
       "</table>\n",
       "</div>"
      ],
      "text/plain": [
       "  chrom     start      stop    orig_symbol\n",
       "0  chr1  16608340  16610364          Ube2w\n",
       "1  chr1  36363177  36365656         Arid5a\n",
       "2  chr1  59027148  59031794          Trak2\n",
       "3  chr1  75137189  75139542  1810031K17Rik\n",
       "4  chr1  75138735  75140516        Fam134a"
      ]
     },
     "execution_count": 4,
     "metadata": {},
     "output_type": "execute_result"
    }
   ],
   "source": [
    "import pandas\n",
    "import numpy as np\n",
    "hughes_table = pandas.read_table(\n",
    "    'data/hughes-2014/GSE47758_Captured_Regions+500bp.bed.gz',\n",
    "    compression='gzip',\n",
    "    names=['chrom', 'start', 'stop', 'orig_symbol']\n",
    ")\n",
    "print(len(hughes_table))\n",
    "hughes_table.head()"
   ]
  },
  {
   "cell_type": "markdown",
   "metadata": {},
   "source": [
    "Upon closer inspection, some genes had multiple capture regions. These genes have an underscore and an incrementing integer:"
   ]
  },
  {
   "cell_type": "code",
   "execution_count": 5,
   "metadata": {
    "collapsed": false
   },
   "outputs": [
    {
     "name": "stdout",
     "output_type": "stream",
     "text": [
      "37\n"
     ]
    },
    {
     "data": {
      "text/html": [
       "<div>\n",
       "<table border=\"1\" class=\"dataframe\">\n",
       "  <thead>\n",
       "    <tr style=\"text-align: right;\">\n",
       "      <th></th>\n",
       "      <th>chrom</th>\n",
       "      <th>start</th>\n",
       "      <th>stop</th>\n",
       "      <th>orig_symbol</th>\n",
       "    </tr>\n",
       "  </thead>\n",
       "  <tbody>\n",
       "    <tr>\n",
       "      <th>13</th>\n",
       "      <td>chr1</td>\n",
       "      <td>135649423</td>\n",
       "      <td>135650884</td>\n",
       "      <td>Atp2b4_1</td>\n",
       "    </tr>\n",
       "    <tr>\n",
       "      <th>14</th>\n",
       "      <td>chr1</td>\n",
       "      <td>135696735</td>\n",
       "      <td>135698467</td>\n",
       "      <td>Atp2b4_2</td>\n",
       "    </tr>\n",
       "    <tr>\n",
       "      <th>41</th>\n",
       "      <td>chr10</td>\n",
       "      <td>88968283</td>\n",
       "      <td>88970530</td>\n",
       "      <td>Nr1h4_1</td>\n",
       "    </tr>\n",
       "    <tr>\n",
       "      <th>42</th>\n",
       "      <td>chr10</td>\n",
       "      <td>88994894</td>\n",
       "      <td>88997607</td>\n",
       "      <td>Nr1h4_2</td>\n",
       "    </tr>\n",
       "    <tr>\n",
       "      <th>56</th>\n",
       "      <td>chr11</td>\n",
       "      <td>32181947</td>\n",
       "      <td>32185207</td>\n",
       "      <td>Hba-a2_1</td>\n",
       "    </tr>\n",
       "  </tbody>\n",
       "</table>\n",
       "</div>"
      ],
      "text/plain": [
       "    chrom      start       stop orig_symbol\n",
       "13   chr1  135649423  135650884    Atp2b4_1\n",
       "14   chr1  135696735  135698467    Atp2b4_2\n",
       "41  chr10   88968283   88970530     Nr1h4_1\n",
       "42  chr10   88994894   88997607     Nr1h4_2\n",
       "56  chr11   32181947   32185207    Hba-a2_1"
      ]
     },
     "execution_count": 5,
     "metadata": {},
     "output_type": "execute_result"
    }
   ],
   "source": [
    "has_underscore = hughes_table.orig_symbol.apply(lambda x: '_' in x)\n",
    "print(sum(has_underscore))\n",
    "hughes_table[has_underscore].head()"
   ]
  },
  {
   "cell_type": "markdown",
   "metadata": {},
   "source": [
    "Make a new column where these are removed:"
   ]
  },
  {
   "cell_type": "code",
   "execution_count": 6,
   "metadata": {
    "collapsed": false
   },
   "outputs": [
    {
     "data": {
      "text/html": [
       "<div>\n",
       "<table border=\"1\" class=\"dataframe\">\n",
       "  <thead>\n",
       "    <tr style=\"text-align: right;\">\n",
       "      <th></th>\n",
       "      <th>chrom</th>\n",
       "      <th>start</th>\n",
       "      <th>stop</th>\n",
       "      <th>orig_symbol</th>\n",
       "      <th>symbol</th>\n",
       "    </tr>\n",
       "  </thead>\n",
       "  <tbody>\n",
       "    <tr>\n",
       "      <th>13</th>\n",
       "      <td>chr1</td>\n",
       "      <td>135649423</td>\n",
       "      <td>135650884</td>\n",
       "      <td>Atp2b4_1</td>\n",
       "      <td>Atp2b4</td>\n",
       "    </tr>\n",
       "    <tr>\n",
       "      <th>14</th>\n",
       "      <td>chr1</td>\n",
       "      <td>135696735</td>\n",
       "      <td>135698467</td>\n",
       "      <td>Atp2b4_2</td>\n",
       "      <td>Atp2b4</td>\n",
       "    </tr>\n",
       "    <tr>\n",
       "      <th>41</th>\n",
       "      <td>chr10</td>\n",
       "      <td>88968283</td>\n",
       "      <td>88970530</td>\n",
       "      <td>Nr1h4_1</td>\n",
       "      <td>Nr1h4</td>\n",
       "    </tr>\n",
       "    <tr>\n",
       "      <th>42</th>\n",
       "      <td>chr10</td>\n",
       "      <td>88994894</td>\n",
       "      <td>88997607</td>\n",
       "      <td>Nr1h4_2</td>\n",
       "      <td>Nr1h4</td>\n",
       "    </tr>\n",
       "    <tr>\n",
       "      <th>56</th>\n",
       "      <td>chr11</td>\n",
       "      <td>32181947</td>\n",
       "      <td>32185207</td>\n",
       "      <td>Hba-a2_1</td>\n",
       "      <td>Hba-a2</td>\n",
       "    </tr>\n",
       "  </tbody>\n",
       "</table>\n",
       "</div>"
      ],
      "text/plain": [
       "    chrom      start       stop orig_symbol  symbol\n",
       "13   chr1  135649423  135650884    Atp2b4_1  Atp2b4\n",
       "14   chr1  135696735  135698467    Atp2b4_2  Atp2b4\n",
       "41  chr10   88968283   88970530     Nr1h4_1   Nr1h4\n",
       "42  chr10   88994894   88997607     Nr1h4_2   Nr1h4\n",
       "56  chr11   32181947   32185207    Hba-a2_1  Hba-a2"
      ]
     },
     "execution_count": 6,
     "metadata": {},
     "output_type": "execute_result"
    }
   ],
   "source": [
    "hughes_table['symbol'] = hughes_table['orig_symbol'].apply(lambda x: x.split('_')[0])\n",
    "hughes_table[has_underscore].head()"
   ]
  },
  {
   "cell_type": "markdown",
   "metadata": {},
   "source": [
    "How many genes were there with underscores?"
   ]
  },
  {
   "cell_type": "code",
   "execution_count": 7,
   "metadata": {
    "collapsed": false
   },
   "outputs": [
    {
     "name": "stdout",
     "output_type": "stream",
     "text": [
      "symbol\n",
      "Ldb1        2\n",
      "Sox6        2\n",
      "Ptp4a3      2\n",
      "Slc25a38    2\n",
      "Hba-a2      2\n",
      "Arhgap23    2\n",
      "Atp2b4      2\n",
      "Runx3       2\n",
      "Lpin2       2\n",
      "Nr1h4       2\n",
      "Lmo2        2\n",
      "Cbfa2t3     2\n",
      "Asb2        2\n",
      "Epb4.9      2\n",
      "Mllt3       2\n",
      "Fis1        2\n",
      "Runx1       2\n",
      "Ppp1r15a    2\n",
      "Ank1        3\n",
      "Ubb         3\n",
      "Name: orig_symbol, dtype: int64\n"
     ]
    }
   ],
   "source": [
    "x = hughes_table.groupby('symbol').orig_symbol.agg('count').sort_values()\n",
    "print(x[x>1])"
   ]
  },
  {
   "cell_type": "markdown",
   "metadata": {},
   "source": [
    "Were there duplicates?"
   ]
  },
  {
   "cell_type": "code",
   "execution_count": 8,
   "metadata": {
    "collapsed": false
   },
   "outputs": [
    {
     "name": "stdout",
     "output_type": "stream",
     "text": [
      "symbol\n",
      "Slc25a38    2\n",
      "Sox6        2\n",
      "Ptp4a3      2\n",
      "Ldb1        2\n",
      "Atp2b4      2\n",
      "Fis1        2\n",
      "Hba-a2      2\n",
      "Asb2        2\n",
      "Mllt3       2\n",
      "Lpin2       2\n",
      "Epb4.9      2\n",
      "Runx1       2\n",
      "Runx3       2\n",
      "Cbfa2t3     2\n",
      "Nr1h4       2\n",
      "Ank1        3\n",
      "Name: orig_symbol, dtype: int64\n"
     ]
    }
   ],
   "source": [
    "y = hughes_table.groupby('symbol').orig_symbol.agg('nunique').sort_values()\n",
    "print(y[y>1])"
   ]
  },
  {
   "cell_type": "markdown",
   "metadata": {},
   "source": [
    "Hmm, looks like `Ubb` disappeared from the list of duplicates. Maybe some others. Let's check those."
   ]
  },
  {
   "cell_type": "code",
   "execution_count": 9,
   "metadata": {
    "collapsed": false
   },
   "outputs": [
    {
     "data": {
      "text/html": [
       "<div>\n",
       "<table border=\"1\" class=\"dataframe\">\n",
       "  <thead>\n",
       "    <tr style=\"text-align: right;\">\n",
       "      <th></th>\n",
       "      <th>chrom</th>\n",
       "      <th>start</th>\n",
       "      <th>stop</th>\n",
       "      <th>orig_symbol</th>\n",
       "      <th>symbol</th>\n",
       "    </tr>\n",
       "  </thead>\n",
       "  <tbody>\n",
       "    <tr>\n",
       "      <th>85</th>\n",
       "      <td>chr11</td>\n",
       "      <td>97300016</td>\n",
       "      <td>97303384</td>\n",
       "      <td>Arhgap23_1</td>\n",
       "      <td>Arhgap23</td>\n",
       "    </tr>\n",
       "    <tr>\n",
       "      <th>86</th>\n",
       "      <td>chr11</td>\n",
       "      <td>97309412</td>\n",
       "      <td>97314133</td>\n",
       "      <td>Arhgap23_1</td>\n",
       "      <td>Arhgap23</td>\n",
       "    </tr>\n",
       "    <tr>\n",
       "      <th>238</th>\n",
       "      <td>chr2</td>\n",
       "      <td>103795880</td>\n",
       "      <td>103799335</td>\n",
       "      <td>Lmo2_1</td>\n",
       "      <td>Lmo2</td>\n",
       "    </tr>\n",
       "    <tr>\n",
       "      <th>239</th>\n",
       "      <td>chr2</td>\n",
       "      <td>103808783</td>\n",
       "      <td>103811465</td>\n",
       "      <td>Lmo2_1</td>\n",
       "      <td>Lmo2</td>\n",
       "    </tr>\n",
       "    <tr>\n",
       "      <th>363</th>\n",
       "      <td>chr7</td>\n",
       "      <td>52780094</td>\n",
       "      <td>52782292</td>\n",
       "      <td>Ppp1r15a</td>\n",
       "      <td>Ppp1r15a</td>\n",
       "    </tr>\n",
       "    <tr>\n",
       "      <th>364</th>\n",
       "      <td>chr7</td>\n",
       "      <td>52780094</td>\n",
       "      <td>52782567</td>\n",
       "      <td>Ppp1r15a</td>\n",
       "      <td>Ppp1r15a</td>\n",
       "    </tr>\n",
       "    <tr>\n",
       "      <th>73</th>\n",
       "      <td>chr11</td>\n",
       "      <td>62363081</td>\n",
       "      <td>62366156</td>\n",
       "      <td>Ubb</td>\n",
       "      <td>Ubb</td>\n",
       "    </tr>\n",
       "    <tr>\n",
       "      <th>131</th>\n",
       "      <td>chr14</td>\n",
       "      <td>46703148</td>\n",
       "      <td>46704309</td>\n",
       "      <td>Ubb</td>\n",
       "      <td>Ubb</td>\n",
       "    </tr>\n",
       "    <tr>\n",
       "      <th>307</th>\n",
       "      <td>chr5</td>\n",
       "      <td>125869174</td>\n",
       "      <td>125870875</td>\n",
       "      <td>Ubb</td>\n",
       "      <td>Ubb</td>\n",
       "    </tr>\n",
       "  </tbody>\n",
       "</table>\n",
       "</div>"
      ],
      "text/plain": [
       "     chrom      start       stop orig_symbol    symbol\n",
       "85   chr11   97300016   97303384  Arhgap23_1  Arhgap23\n",
       "86   chr11   97309412   97314133  Arhgap23_1  Arhgap23\n",
       "238   chr2  103795880  103799335      Lmo2_1      Lmo2\n",
       "239   chr2  103808783  103811465      Lmo2_1      Lmo2\n",
       "363   chr7   52780094   52782292    Ppp1r15a  Ppp1r15a\n",
       "364   chr7   52780094   52782567    Ppp1r15a  Ppp1r15a\n",
       "73   chr11   62363081   62366156         Ubb       Ubb\n",
       "131  chr14   46703148   46704309         Ubb       Ubb\n",
       "307   chr5  125869174  125870875         Ubb       Ubb"
      ]
     },
     "execution_count": 9,
     "metadata": {},
     "output_type": "execute_result"
    }
   ],
   "source": [
    "xs = x[x>1].index\n",
    "ys = y[y>1].index\n",
    "dups = ~(xs.isin(ys))\n",
    "hughes_table.ix[hughes_table.symbol.isin(xs[dups])].sort_values('symbol')"
   ]
  },
  {
   "cell_type": "markdown",
   "metadata": {},
   "source": [
    "Not sure what's going on with Ubb, but the others could be missing their underscores. Since we only care about gene IDs in this analysis, let's just assume that Ubb is an erythroid gene and not worry about where it actually is."
   ]
  },
  {
   "cell_type": "markdown",
   "metadata": {},
   "source": [
    "Now we make a new dataframe of the unique symbols and copy the \"symbol\" column over as the index."
   ]
  },
  {
   "cell_type": "code",
   "execution_count": 10,
   "metadata": {
    "collapsed": false
   },
   "outputs": [
    {
     "name": "stdout",
     "output_type": "stream",
     "text": [
      "438\n"
     ]
    },
    {
     "data": {
      "text/html": [
       "<div>\n",
       "<table border=\"1\" class=\"dataframe\">\n",
       "  <thead>\n",
       "    <tr style=\"text-align: right;\">\n",
       "      <th></th>\n",
       "      <th>symbol</th>\n",
       "    </tr>\n",
       "    <tr>\n",
       "      <th>symbol</th>\n",
       "      <th></th>\n",
       "    </tr>\n",
       "  </thead>\n",
       "  <tbody>\n",
       "    <tr>\n",
       "      <th>Ube2w</th>\n",
       "      <td>Ube2w</td>\n",
       "    </tr>\n",
       "    <tr>\n",
       "      <th>Arid5a</th>\n",
       "      <td>Arid5a</td>\n",
       "    </tr>\n",
       "    <tr>\n",
       "      <th>Trak2</th>\n",
       "      <td>Trak2</td>\n",
       "    </tr>\n",
       "    <tr>\n",
       "      <th>1810031K17Rik</th>\n",
       "      <td>1810031K17Rik</td>\n",
       "    </tr>\n",
       "    <tr>\n",
       "      <th>Fam134a</th>\n",
       "      <td>Fam134a</td>\n",
       "    </tr>\n",
       "  </tbody>\n",
       "</table>\n",
       "</div>"
      ],
      "text/plain": [
       "                      symbol\n",
       "symbol                      \n",
       "Ube2w                  Ube2w\n",
       "Arid5a                Arid5a\n",
       "Trak2                  Trak2\n",
       "1810031K17Rik  1810031K17Rik\n",
       "Fam134a              Fam134a"
      ]
     },
     "execution_count": 10,
     "metadata": {},
     "output_type": "execute_result"
    }
   ],
   "source": [
    "hughes_unique = pandas.DataFrame(dict(symbol=hughes_table.symbol.drop_duplicates()))\n",
    "hughes_unique.index = hughes_unique.symbol\n",
    "print(len(hughes_unique))\n",
    "hughes_unique.head()"
   ]
  },
  {
   "cell_type": "markdown",
   "metadata": {},
   "source": [
    "So while there were 460 gene IDs in the original file, after removing duplicates and collapsing those with underscores to a single gene, we have 438."
   ]
  },
  {
   "cell_type": "markdown",
   "metadata": {},
   "source": [
    "# Downloading and cleaning Li 2013 data\n",
    "\n",
    "Read in Table S3 from Li et al (see `get-data.bash`). This is a one-column list of erythroid genes."
   ]
  },
  {
   "cell_type": "code",
   "execution_count": 11,
   "metadata": {
    "collapsed": false
   },
   "outputs": [
    {
     "name": "stdout",
     "output_type": "stream",
     "text": [
      "533\n"
     ]
    },
    {
     "data": {
      "text/html": [
       "<div>\n",
       "<table border=\"1\" class=\"dataframe\">\n",
       "  <thead>\n",
       "    <tr style=\"text-align: right;\">\n",
       "      <th></th>\n",
       "      <th>symbol</th>\n",
       "    </tr>\n",
       "  </thead>\n",
       "  <tbody>\n",
       "    <tr>\n",
       "      <th>0</th>\n",
       "      <td>1110006O24Rik</td>\n",
       "    </tr>\n",
       "    <tr>\n",
       "      <th>1</th>\n",
       "      <td>1110017F19Rik</td>\n",
       "    </tr>\n",
       "    <tr>\n",
       "      <th>2</th>\n",
       "      <td>1110018G07Rik</td>\n",
       "    </tr>\n",
       "    <tr>\n",
       "      <th>3</th>\n",
       "      <td>1110018G07Rik</td>\n",
       "    </tr>\n",
       "    <tr>\n",
       "      <th>4</th>\n",
       "      <td>1190007F08Rik</td>\n",
       "    </tr>\n",
       "  </tbody>\n",
       "</table>\n",
       "</div>"
      ],
      "text/plain": [
       "          symbol\n",
       "0  1110006O24Rik\n",
       "1  1110017F19Rik\n",
       "2  1110018G07Rik\n",
       "3  1110018G07Rik\n",
       "4  1190007F08Rik"
      ]
     },
     "execution_count": 11,
     "metadata": {},
     "output_type": "execute_result"
    }
   ],
   "source": [
    "li_table = pandas.read_excel('data/li-2013/TableS3.xlsx', names=['symbol'])\n",
    "print(len(li_table))\n",
    "li_table.head()"
   ]
  },
  {
   "cell_type": "markdown",
   "metadata": {},
   "source": [
    "There were some duplicates in this table; report them and de-dupe."
   ]
  },
  {
   "cell_type": "code",
   "execution_count": 12,
   "metadata": {
    "collapsed": false
   },
   "outputs": [
    {
     "name": "stdout",
     "output_type": "stream",
     "text": [
      "5 duplicates found: ['1110018G07Rik', 'Stxbp4', 'Epdr2', 'Inhbc', '6430706D22Rik']\n"
     ]
    }
   ],
   "source": [
    "li_c = li_table.symbol.value_counts()\n",
    "dups = li_c > 1\n",
    "print(sum(dups), 'duplicates found:', list(li_c[dups].index))"
   ]
  },
  {
   "cell_type": "markdown",
   "metadata": {},
   "source": [
    "Let's remove the duplicates and make a unique dataframe like we did for the Hughes data:"
   ]
  },
  {
   "cell_type": "code",
   "execution_count": 13,
   "metadata": {
    "collapsed": false
   },
   "outputs": [
    {
     "data": {
      "text/html": [
       "<div>\n",
       "<table border=\"1\" class=\"dataframe\">\n",
       "  <thead>\n",
       "    <tr style=\"text-align: right;\">\n",
       "      <th></th>\n",
       "      <th>symbol</th>\n",
       "    </tr>\n",
       "    <tr>\n",
       "      <th>symbol</th>\n",
       "      <th></th>\n",
       "    </tr>\n",
       "  </thead>\n",
       "  <tbody>\n",
       "    <tr>\n",
       "      <th>1110006O24Rik</th>\n",
       "      <td>1110006O24Rik</td>\n",
       "    </tr>\n",
       "    <tr>\n",
       "      <th>1110017F19Rik</th>\n",
       "      <td>1110017F19Rik</td>\n",
       "    </tr>\n",
       "    <tr>\n",
       "      <th>1110018G07Rik</th>\n",
       "      <td>1110018G07Rik</td>\n",
       "    </tr>\n",
       "    <tr>\n",
       "      <th>1190007F08Rik</th>\n",
       "      <td>1190007F08Rik</td>\n",
       "    </tr>\n",
       "    <tr>\n",
       "      <th>1600023N17Rik</th>\n",
       "      <td>1600023N17Rik</td>\n",
       "    </tr>\n",
       "  </tbody>\n",
       "</table>\n",
       "</div>"
      ],
      "text/plain": [
       "                      symbol\n",
       "symbol                      \n",
       "1110006O24Rik  1110006O24Rik\n",
       "1110017F19Rik  1110017F19Rik\n",
       "1110018G07Rik  1110018G07Rik\n",
       "1190007F08Rik  1190007F08Rik\n",
       "1600023N17Rik  1600023N17Rik"
      ]
     },
     "execution_count": 13,
     "metadata": {},
     "output_type": "execute_result"
    }
   ],
   "source": [
    "li_unique = pandas.DataFrame(dict(symbol=li_table.symbol.drop_duplicates()))\n",
    "li_unique.index = li_unique.symbol\n",
    "li_unique.head()"
   ]
  },
  {
   "cell_type": "markdown",
   "metadata": {},
   "source": [
    "At this point, how much overlap is there between the two lists of genes?"
   ]
  },
  {
   "cell_type": "code",
   "execution_count": 14,
   "metadata": {
    "collapsed": false
   },
   "outputs": [
    {
     "name": "stdout",
     "output_type": "stream",
     "text": [
      "Li: 528\n",
      "Hughes: 438\n",
      "Shared: 110\n",
      "Unique to Li et al: 418\n",
      "Unique to Hughes et al: 328\n"
     ]
    }
   ],
   "source": [
    "li_set = set(li_unique.symbol)\n",
    "hughes_set = set(hughes_unique.symbol)\n",
    "print(\"Li:\", len(li_set))\n",
    "print(\"Hughes:\", len(hughes_set))\n",
    "print(\"Shared:\", len(li_set.intersection(hughes_set)))\n",
    "print(\"Unique to Li et al:\", len(li_set.difference(hughes_set)))\n",
    "print(\"Unique to Hughes et al:\", len(hughes_set.difference(li_set)))"
   ]
  },
  {
   "cell_type": "markdown",
   "metadata": {},
   "source": [
    "Hmm, not much overlap. Only a quarter to a third of genes are shared. Gene symbols can be difficult to match up correctly; let's see if we can improve this by mapping gene symbols to another kind of identifier, like Ensembl or Entrez accessions. To do this we'll use the [MyGene.info]( http://mygene.info/) service.\n",
    "\n",
    "MyGene.info aggregates lots of databases and offers an easy-to-use but very powerful API for getting lots of information about a gene. We will be using it quite heavily."
   ]
  },
  {
   "cell_type": "markdown",
   "metadata": {},
   "source": [
    "# Attach MyGene.info data"
   ]
  },
  {
   "cell_type": "code",
   "execution_count": 15,
   "metadata": {
    "collapsed": false
   },
   "outputs": [],
   "source": [
    "import mygene\n",
    "mg = mygene.MyGeneInfo()"
   ]
  },
  {
   "cell_type": "markdown",
   "metadata": {},
   "source": [
    "Let's work with the Li et al data first to see what has to be done. Those identifiers look like gene symbols to me, so let's query MyGene.info and tell to look for those gene symbols:"
   ]
  },
  {
   "cell_type": "code",
   "execution_count": 16,
   "metadata": {
    "collapsed": false
   },
   "outputs": [
    {
     "name": "stdout",
     "output_type": "stream",
     "text": [
      "Finished.\n",
      "4 input query terms found dup hits:\n",
      "\t[('1600023N17Rik', 2), ('1700086O06Rik', 2), ('1110006O24Rik', 2), ('1810053B23Rik', 2)]\n",
      "81 input query terms found no hit:\n",
      "\t['1110017F19Rik', '1110018G07Rik', '1190007F08Rik', '1700051C09Rik', '2010011I20Rik', '2310047B19Rik\n",
      "Pass \"returnall=True\" to return complete lists of duplicate or missing query terms.\n"
     ]
    }
   ],
   "source": [
    "results = mg.querymany(\n",
    "    # the genes we're looking for\n",
    "    list(li_unique.symbol),\n",
    "    \n",
    "    #limit to mouse\n",
    "    species='mouse',\n",
    "    \n",
    "    # what kind of identifiers for the genes we're looking for\n",
    "    scopes='symbol',\n",
    "    \n",
    "    # what we want to get back\n",
    "    fields='symbol,ensembl.gene,entrezgene,name',\n",
    "    \n",
    "    # return as a pandas.DataFrame for convenience\n",
    "    as_dataframe=True)"
   ]
  },
  {
   "cell_type": "markdown",
   "metadata": {},
   "source": [
    "There were some genes that had multiple matches, so we'll have to figure out which one to keep.  Let's check out those duplicate hits."
   ]
  },
  {
   "cell_type": "code",
   "execution_count": 17,
   "metadata": {
    "collapsed": false
   },
   "outputs": [
    {
     "data": {
      "text/html": [
       "<div>\n",
       "<table border=\"1\" class=\"dataframe\">\n",
       "  <thead>\n",
       "    <tr style=\"text-align: right;\">\n",
       "      <th></th>\n",
       "      <th>_id</th>\n",
       "      <th>ensembl</th>\n",
       "      <th>ensembl.gene</th>\n",
       "      <th>entrezgene</th>\n",
       "      <th>name</th>\n",
       "      <th>notfound</th>\n",
       "      <th>symbol</th>\n",
       "    </tr>\n",
       "    <tr>\n",
       "      <th>query</th>\n",
       "      <th></th>\n",
       "      <th></th>\n",
       "      <th></th>\n",
       "      <th></th>\n",
       "      <th></th>\n",
       "      <th></th>\n",
       "      <th></th>\n",
       "    </tr>\n",
       "  </thead>\n",
       "  <tbody>\n",
       "    <tr>\n",
       "      <th>1810053B23Rik</th>\n",
       "      <td>ENSMUSG00000100277</td>\n",
       "      <td>NaN</td>\n",
       "      <td>ENSMUSG00000100277</td>\n",
       "      <td>NaN</td>\n",
       "      <td>RIKEN cDNA 1810053B23 gene</td>\n",
       "      <td>NaN</td>\n",
       "      <td>1810053B23Rik</td>\n",
       "    </tr>\n",
       "    <tr>\n",
       "      <th>1810053B23Rik</th>\n",
       "      <td>69857</td>\n",
       "      <td>NaN</td>\n",
       "      <td>NaN</td>\n",
       "      <td>69857</td>\n",
       "      <td>RIKEN cDNA 1810053B23 gene</td>\n",
       "      <td>NaN</td>\n",
       "      <td>1810053B23Rik</td>\n",
       "    </tr>\n",
       "  </tbody>\n",
       "</table>\n",
       "</div>"
      ],
      "text/plain": [
       "                              _id ensembl        ensembl.gene  entrezgene  \\\n",
       "query                                                                       \n",
       "1810053B23Rik  ENSMUSG00000100277     NaN  ENSMUSG00000100277         NaN   \n",
       "1810053B23Rik               69857     NaN                 NaN       69857   \n",
       "\n",
       "                                     name notfound         symbol  \n",
       "query                                                              \n",
       "1810053B23Rik  RIKEN cDNA 1810053B23 gene      NaN  1810053B23Rik  \n",
       "1810053B23Rik  RIKEN cDNA 1810053B23 gene      NaN  1810053B23Rik  "
      ]
     },
     "execution_count": 17,
     "metadata": {},
     "output_type": "execute_result"
    }
   ],
   "source": [
    "results.ix['1810053B23Rik']"
   ]
  },
  {
   "cell_type": "markdown",
   "metadata": {},
   "source": [
    "Strange. These duplicate hits appear to be the same gene -- the symbol is the same and the name is the same. But for some reason they're not matching up between Ensembl and Entrez. Perhaps this is an issue with the MyGene.info service (since they have different `_id` values) or maybe Entrez and Ensembl aren't talking to each other about this gene. Let's see if the other duplicate had the same issue."
   ]
  },
  {
   "cell_type": "code",
   "execution_count": 18,
   "metadata": {
    "collapsed": false
   },
   "outputs": [
    {
     "data": {
      "text/html": [
       "<div>\n",
       "<table border=\"1\" class=\"dataframe\">\n",
       "  <thead>\n",
       "    <tr style=\"text-align: right;\">\n",
       "      <th></th>\n",
       "      <th>_id</th>\n",
       "      <th>ensembl</th>\n",
       "      <th>ensembl.gene</th>\n",
       "      <th>entrezgene</th>\n",
       "      <th>name</th>\n",
       "      <th>notfound</th>\n",
       "      <th>symbol</th>\n",
       "    </tr>\n",
       "    <tr>\n",
       "      <th>query</th>\n",
       "      <th></th>\n",
       "      <th></th>\n",
       "      <th></th>\n",
       "      <th></th>\n",
       "      <th></th>\n",
       "      <th></th>\n",
       "      <th></th>\n",
       "    </tr>\n",
       "  </thead>\n",
       "  <tbody>\n",
       "    <tr>\n",
       "      <th>1700086O06Rik</th>\n",
       "      <td>ENSMUSG00000097080</td>\n",
       "      <td>NaN</td>\n",
       "      <td>ENSMUSG00000097080</td>\n",
       "      <td>NaN</td>\n",
       "      <td>RIKEN cDNA 1700086O06 gene</td>\n",
       "      <td>NaN</td>\n",
       "      <td>1700086O06Rik</td>\n",
       "    </tr>\n",
       "    <tr>\n",
       "      <th>1700086O06Rik</th>\n",
       "      <td>73516</td>\n",
       "      <td>NaN</td>\n",
       "      <td>NaN</td>\n",
       "      <td>73516</td>\n",
       "      <td>RIKEN cDNA 1700086O06 gene</td>\n",
       "      <td>NaN</td>\n",
       "      <td>1700086O06Rik</td>\n",
       "    </tr>\n",
       "  </tbody>\n",
       "</table>\n",
       "</div>"
      ],
      "text/plain": [
       "                              _id ensembl        ensembl.gene  entrezgene  \\\n",
       "query                                                                       \n",
       "1700086O06Rik  ENSMUSG00000097080     NaN  ENSMUSG00000097080         NaN   \n",
       "1700086O06Rik               73516     NaN                 NaN       73516   \n",
       "\n",
       "                                     name notfound         symbol  \n",
       "query                                                              \n",
       "1700086O06Rik  RIKEN cDNA 1700086O06 gene      NaN  1700086O06Rik  \n",
       "1700086O06Rik  RIKEN cDNA 1700086O06 gene      NaN  1700086O06Rik  "
      ]
     },
     "execution_count": 18,
     "metadata": {},
     "output_type": "execute_result"
    }
   ],
   "source": [
    "results.ix['1700086O06Rik']"
   ]
  },
  {
   "cell_type": "markdown",
   "metadata": {},
   "source": [
    "Yep. We'll probably have to write a merging function to handle these cases.\n",
    "\n",
    "But the 68 genes with no hit is a little more problematic. To help resolve this, we can query MyGene.info for a specific gene to get more information about it -- maybe those missing genes are not actually \"symbols\" but some other accession we don't know about. Let's try searching for that first missing gene:"
   ]
  },
  {
   "cell_type": "code",
   "execution_count": 19,
   "metadata": {
    "collapsed": false
   },
   "outputs": [
    {
     "data": {
      "text/plain": [
       "{'hits': [{'MGI': 'MGI:1915778',\n",
       "   'Vega': 'OTTMUSG00000003652',\n",
       "   '_id': '68528',\n",
       "   'accession': {'genomic': ['AL645647', 'CH466558', 'NC_000077'],\n",
       "    'protein': ['BAE33867', 'EDL34534', 'NP_001156470'],\n",
       "    'rna': ['AK003745', 'AK156823', 'BC038330', 'NM_001162998']},\n",
       "   'alias': '1110017F19Rik',\n",
       "   'ensembl': {'gene': 'ENSMUSG00000075420',\n",
       "    'protein': 'ENSMUSP00000133699',\n",
       "    'transcript': 'ENSMUST00000132961'},\n",
       "   'entrezgene': 68528,\n",
       "   'exons': {'NM_001162998': {'cdsend': 115913559,\n",
       "     'cdsstart': 115913388,\n",
       "     'chr': '11',\n",
       "     'exons': [[115912016, 115912456], [115913382, 115913917]],\n",
       "     'strand': 1,\n",
       "     'txend': 115913917,\n",
       "     'txstart': 115912016}},\n",
       "   'exons_mm9': {'NM_001162998': {'cdsend': 115774873,\n",
       "     'cdsstart': 115774702,\n",
       "     'chr': '11',\n",
       "     'exons': [[115773330, 115773770], [115774696, 115775231]],\n",
       "     'strand': 1,\n",
       "     'txend': 115775231,\n",
       "     'txstart': 115773330}},\n",
       "   'genomic_pos': {'chr': '11',\n",
       "    'end': 115913920,\n",
       "    'start': 115912017,\n",
       "    'strand': 1},\n",
       "   'genomic_pos_mm9': {'chr': '11',\n",
       "    'end': 115775234,\n",
       "    'start': 115773331,\n",
       "    'strand': 1},\n",
       "   'go': {'BP': {'evidence': 'ND',\n",
       "     'id': 'GO:0008150',\n",
       "     'term': 'biological_process'},\n",
       "    'CC': {'evidence': 'ND', 'id': 'GO:0005575', 'term': 'cellular_component'},\n",
       "    'MF': {'evidence': 'ND',\n",
       "     'id': 'GO:0003674',\n",
       "     'term': 'molecular_function'}},\n",
       "   'ipi': 'IPI00652369',\n",
       "   'map_location': '11|11',\n",
       "   'name': 'small integral membrane protein 6',\n",
       "   'refseq': {'genomic': 'NC_000077',\n",
       "    'protein': 'NP_001156470',\n",
       "    'rna': 'NM_001162998'},\n",
       "   'reporter': {'MTA-1_0': 'TC1100001912.mm.1',\n",
       "    'MoEx-1_0': '6785174',\n",
       "    'MoGene-1_1': '10382698',\n",
       "    'MoGene-2_1': '17258451',\n",
       "    'Mouse430_2': '1444262_at'},\n",
       "   'symbol': 'Smim6',\n",
       "   'taxid': 10090,\n",
       "   'type_of_gene': 'protein-coding',\n",
       "   'unigene': 'Mm.441893',\n",
       "   'uniprot': {'TrEMBL': 'Q3U0I6'}}],\n",
       " 'max_score': 1.752485,\n",
       " 'took': 5,\n",
       " 'total': 1}"
      ]
     },
     "execution_count": 19,
     "metadata": {},
     "output_type": "execute_result"
    }
   ],
   "source": [
    "mg.query('1110017F19Rik', fields='all')"
   ]
  },
  {
   "cell_type": "markdown",
   "metadata": {},
   "source": [
    "Aha! MyGene was able to find this gene, and staring at these results, \"1110017F19Rik\" can be found in the \"alias\" field.  I wonder if we were missing a bunch of genes because we told MyGene they were symbols but they were really aliases. Let's re-run the original query, this time telling MyGene.info they could be either:"
   ]
  },
  {
   "cell_type": "code",
   "execution_count": 20,
   "metadata": {
    "collapsed": false
   },
   "outputs": [
    {
     "name": "stdout",
     "output_type": "stream",
     "text": [
      "Finished.\n",
      "36 input query terms found dup hits:\n",
      "\t[('1600023N17Rik', 2), ('Amd1', 3), ('Elf1', 3), ('Add1', 2), ('6430706D22Rik', 2), ('Eif4e', 2), ('\n",
      "9 input query terms found no hit:\n",
      "\t['AI4494419(Pif1)', 'Arlh2', 'BC030863', 'Dig7', 'Digap5', 'Frngtt', 'Galn10', 'LOC433237', 'Nprl3(M\n",
      "Pass \"returnall=True\" to return complete lists of duplicate or missing query terms.\n"
     ]
    }
   ],
   "source": [
    "results = mg.querymany(\n",
    "    list(li_unique.symbol),\n",
    "    species='mouse',\n",
    "    scopes='symbol,alias',\n",
    "    fields='symbol,ensembl.gene,entrezgene,name,alias',\n",
    "    as_dataframe=True)"
   ]
  },
  {
   "cell_type": "markdown",
   "metadata": {},
   "source": [
    "Nice, we went from 68 missing to 9 missing. But we got a lot more duplicates (34 instead of 2) . . . let's check out some of those duplicates."
   ]
  },
  {
   "cell_type": "code",
   "execution_count": 21,
   "metadata": {
    "collapsed": false
   },
   "outputs": [
    {
     "data": {
      "text/html": [
       "<div>\n",
       "<table border=\"1\" class=\"dataframe\">\n",
       "  <thead>\n",
       "    <tr style=\"text-align: right;\">\n",
       "      <th></th>\n",
       "      <th>_id</th>\n",
       "      <th>alias</th>\n",
       "      <th>ensembl</th>\n",
       "      <th>ensembl.gene</th>\n",
       "      <th>entrezgene</th>\n",
       "      <th>name</th>\n",
       "      <th>notfound</th>\n",
       "      <th>symbol</th>\n",
       "    </tr>\n",
       "    <tr>\n",
       "      <th>query</th>\n",
       "      <th></th>\n",
       "      <th></th>\n",
       "      <th></th>\n",
       "      <th></th>\n",
       "      <th></th>\n",
       "      <th></th>\n",
       "      <th></th>\n",
       "      <th></th>\n",
       "    </tr>\n",
       "  </thead>\n",
       "  <tbody>\n",
       "    <tr>\n",
       "      <th>Med1</th>\n",
       "      <td>19014</td>\n",
       "      <td>[AI480703, CRSP210, DRIP205, PBP, Pparbp, TRAP...</td>\n",
       "      <td>NaN</td>\n",
       "      <td>ENSMUSG00000018160</td>\n",
       "      <td>19014</td>\n",
       "      <td>mediator complex subunit 1</td>\n",
       "      <td>NaN</td>\n",
       "      <td>Med1</td>\n",
       "    </tr>\n",
       "    <tr>\n",
       "      <th>Med1</th>\n",
       "      <td>17193</td>\n",
       "      <td>Med1</td>\n",
       "      <td>NaN</td>\n",
       "      <td>ENSMUSG00000030322</td>\n",
       "      <td>17193</td>\n",
       "      <td>methyl-CpG binding domain protein 4</td>\n",
       "      <td>NaN</td>\n",
       "      <td>Mbd4</td>\n",
       "    </tr>\n",
       "    <tr>\n",
       "      <th>Med1</th>\n",
       "      <td>66070</td>\n",
       "      <td>[0610040D20Rik, 2900052N06Rik, Ed1, c11orf5, m...</td>\n",
       "      <td>NaN</td>\n",
       "      <td>ENSMUSG00000004096</td>\n",
       "      <td>66070</td>\n",
       "      <td>CWC15 spliceosome-associated protein</td>\n",
       "      <td>NaN</td>\n",
       "      <td>Cwc15</td>\n",
       "    </tr>\n",
       "  </tbody>\n",
       "</table>\n",
       "</div>"
      ],
      "text/plain": [
       "         _id                                              alias ensembl  \\\n",
       "query                                                                     \n",
       "Med1   19014  [AI480703, CRSP210, DRIP205, PBP, Pparbp, TRAP...     NaN   \n",
       "Med1   17193                                               Med1     NaN   \n",
       "Med1   66070  [0610040D20Rik, 2900052N06Rik, Ed1, c11orf5, m...     NaN   \n",
       "\n",
       "             ensembl.gene  entrezgene                                  name  \\\n",
       "query                                                                         \n",
       "Med1   ENSMUSG00000018160       19014            mediator complex subunit 1   \n",
       "Med1   ENSMUSG00000030322       17193   methyl-CpG binding domain protein 4   \n",
       "Med1   ENSMUSG00000004096       66070  CWC15 spliceosome-associated protein   \n",
       "\n",
       "      notfound symbol  \n",
       "query                  \n",
       "Med1       NaN   Med1  \n",
       "Med1       NaN   Mbd4  \n",
       "Med1       NaN  Cwc15  "
      ]
     },
     "execution_count": 21,
     "metadata": {},
     "output_type": "execute_result"
    }
   ],
   "source": [
    "results.ix['Med1']"
   ]
  },
  {
   "cell_type": "markdown",
   "metadata": {},
   "source": [
    "What's happening here? MyGene found 3 hits when we asked for `Med1`. The first hit (`_id=19014`) has a matching symbol (last column). But the second row shows that \"`Med1`\" is also the alias for a totally different gene (`_id=17193`, `alias` column). Not sure what's going on with that last gene; my guess is that there's a \"Med1\" somewhere in that alias, but it's cut off in the table display here. Let's look more carefully at the alias:"
   ]
  },
  {
   "cell_type": "code",
   "execution_count": 22,
   "metadata": {
    "collapsed": false
   },
   "outputs": [
    {
     "name": "stdout",
     "output_type": "stream",
     "text": [
      "[['0610040D20Rik', '2900052N06Rik', 'Ed1', 'c11orf5', 'mED1']]\n"
     ]
    }
   ],
   "source": [
    "print(list(results.ix[results['_id'] == '66070', 'alias']))"
   ]
  },
  {
   "cell_type": "markdown",
   "metadata": {},
   "source": [
    "OK, I think we can discard this one because the capitialization is different (\"mED1\" vs \"Med1\"). Let's also say that we should discard the second row above because while its alias is \"Med1\", it's symbol is not.\n",
    "\n",
    "How many duplicate genes do we have to go through, and how many duplicate lines are there for each?"
   ]
  },
  {
   "cell_type": "code",
   "execution_count": 23,
   "metadata": {
    "collapsed": false
   },
   "outputs": [
    {
     "name": "stdout",
     "output_type": "stream",
     "text": [
      "Mbp              6\n",
      "Ank              4\n",
      "Sla              3\n",
      "Med1             3\n",
      "Elf1             3\n",
      "Pir              3\n",
      "Amd1             3\n",
      "Tpx2             2\n",
      "1810053B23Rik    2\n",
      "Tpm1             2\n",
      "Bach1            2\n",
      "Lmna             2\n",
      "Pdk1             2\n",
      "Nrf1             2\n",
      "Gdpd1            2\n",
      "6430706D22Rik    2\n",
      "Spic             2\n",
      "Usf1             2\n",
      "Add1             2\n",
      "Trpc2            2\n",
      "1700086O06Rik    2\n",
      "Ppox             2\n",
      "Hrg              2\n",
      "Fn3k             2\n",
      "Eif4e            2\n",
      "Narf             2\n",
      "Tac2             2\n",
      "Acp1             2\n",
      "Ncoa7            2\n",
      "Cit              2\n",
      "1110006O24Rik    2\n",
      "Por              2\n",
      "Ttk              2\n",
      "Mgll             2\n",
      "1600023N17Rik    2\n",
      "Igfbp5           2\n",
      "Name: query, dtype: int64\n",
      "There are 36 genes with duplicate hits.\n"
     ]
    }
   ],
   "source": [
    "c = results.index.value_counts()\n",
    "print(c[c>1])\n",
    "print(\"There are\", sum(results.index.value_counts() > 1), \"genes with duplicate hits.\")"
   ]
  },
  {
   "cell_type": "markdown",
   "metadata": {},
   "source": [
    "## Resolving duplicate search results\n",
    "\n",
    "We need to think about a general rule for which of the duplicate rows to keep. In this case, the rule could be \"keep the row where the symbol matches the query\".\n",
    "\n",
    "To do this, let's ask MyGene to return a list of the duplicates and of the genes that weren't found."
   ]
  },
  {
   "cell_type": "code",
   "execution_count": 24,
   "metadata": {
    "collapsed": false
   },
   "outputs": [
    {
     "name": "stdout",
     "output_type": "stream",
     "text": [
      "Finished.\n",
      "36 input query terms found dup hits:\n",
      "\t[('1600023N17Rik', 2), ('Amd1', 3), ('Elf1', 3), ('Add1', 2), ('6430706D22Rik', 2), ('Eif4e', 2), ('\n",
      "9 input query terms found no hit:\n",
      "\t['AI4494419(Pif1)', 'Arlh2', 'BC030863', 'Dig7', 'Digap5', 'Frngtt', 'Galn10', 'LOC433237', 'Nprl3(M\n",
      "keys in results: ['dup', 'missing', 'out']\n"
     ]
    }
   ],
   "source": [
    "results = mg.querymany(\n",
    "    list(li_unique.symbol),\n",
    "    species='mouse',\n",
    "    scopes='symbol,alias',\n",
    "    fields='symbol,ensembl.gene,entrezgene,name,alias',\n",
    "    as_dataframe=True,\n",
    "    returnall=True,\n",
    ")\n",
    "print(\"keys in results:\", list(results.keys()))\n",
    "\n",
    "\n",
    "\n",
    "# Get a list of duplicate symbols\n",
    "dup_symbols = [i[0] for i in results['dup']]\n",
    "\n",
    "# Select rows for those symbols\n",
    "dups = results['out'].ix[dup_symbols]\n",
    "\n",
    "# Identify where query ('index') matches symbol\n",
    "query_matches_symbol = dups.index == dups.symbol\n",
    "\n",
    "# Double-check that the strategy worked: after de-duping, \n",
    "# we should still have the same genes and only one row for each\n",
    "orig = set(dups.index)\n",
    "fixed = set(dups.index[query_matches_symbol])\n",
    "assert orig == fixed\n",
    "assert len(orig) == len(fixed) == len(dup_symbols)\n",
    "\n",
    "# Drop the duplicates from the full results, and then concatenate on fixed version of the duplicates\n",
    "deduped = pandas.concat((results['out'].drop(dup_symbols), dups[query_matches_symbol]))"
   ]
  },
  {
   "cell_type": "markdown",
   "metadata": {},
   "source": [
    "Let's do some double-checks. We should have a one-to-one mapping of `_id` to `symbol` -- at least for those genes that MyGene could find."
   ]
  },
  {
   "cell_type": "code",
   "execution_count": 25,
   "metadata": {
    "collapsed": false
   },
   "outputs": [
    {
     "name": "stdout",
     "output_type": "stream",
     "text": [
      "528 symbols in original list\n",
      "9 ID not found\n",
      "497 unique IDs in results\n",
      "493 unique symbols in results\n",
      "532 total rows in results\n"
     ]
    }
   ],
   "source": [
    "print(len(li_unique), \"symbols in original list\")\n",
    "print(len(results['missing']), \"ID not found\")\n",
    "print(len(deduped._id.unique()), \"unique IDs in results\")\n",
    "print(len(deduped.symbol.unique()), \"unique symbols in results\")\n",
    "print(len(deduped), \"total rows in results\")"
   ]
  },
  {
   "cell_type": "markdown",
   "metadata": {},
   "source": [
    "Let's take a closer look at the deduped results, focusing on cases where we have the same symbol multple times."
   ]
  },
  {
   "cell_type": "code",
   "execution_count": 26,
   "metadata": {
    "collapsed": false
   },
   "outputs": [
    {
     "data": {
      "text/html": [
       "<div>\n",
       "<table border=\"1\" class=\"dataframe\">\n",
       "  <thead>\n",
       "    <tr style=\"text-align: right;\">\n",
       "      <th></th>\n",
       "      <th>_id</th>\n",
       "      <th>alias</th>\n",
       "      <th>ensembl</th>\n",
       "      <th>ensembl.gene</th>\n",
       "      <th>entrezgene</th>\n",
       "      <th>name</th>\n",
       "      <th>notfound</th>\n",
       "      <th>symbol</th>\n",
       "    </tr>\n",
       "    <tr>\n",
       "      <th>query</th>\n",
       "      <th></th>\n",
       "      <th></th>\n",
       "      <th></th>\n",
       "      <th></th>\n",
       "      <th></th>\n",
       "      <th></th>\n",
       "      <th></th>\n",
       "      <th></th>\n",
       "    </tr>\n",
       "  </thead>\n",
       "  <tbody>\n",
       "    <tr>\n",
       "      <th>1110006O24Rik</th>\n",
       "      <td>66123</td>\n",
       "      <td>NaN</td>\n",
       "      <td>NaN</td>\n",
       "      <td>NaN</td>\n",
       "      <td>66123</td>\n",
       "      <td>RIKEN cDNA 1110006O24 gene</td>\n",
       "      <td>NaN</td>\n",
       "      <td>1110006O24Rik</td>\n",
       "    </tr>\n",
       "    <tr>\n",
       "      <th>1110006O24Rik</th>\n",
       "      <td>ENSMUSG00000107121</td>\n",
       "      <td>NaN</td>\n",
       "      <td>NaN</td>\n",
       "      <td>ENSMUSG00000107121</td>\n",
       "      <td>NaN</td>\n",
       "      <td>RIKEN cDNA 1110006O24 gene</td>\n",
       "      <td>NaN</td>\n",
       "      <td>1110006O24Rik</td>\n",
       "    </tr>\n",
       "    <tr>\n",
       "      <th>1600023N17Rik</th>\n",
       "      <td>69788</td>\n",
       "      <td>AV119442</td>\n",
       "      <td>NaN</td>\n",
       "      <td>NaN</td>\n",
       "      <td>69788</td>\n",
       "      <td>RIKEN cDNA 1600023N17 gene</td>\n",
       "      <td>NaN</td>\n",
       "      <td>1600023N17Rik</td>\n",
       "    </tr>\n",
       "    <tr>\n",
       "      <th>1600023N17Rik</th>\n",
       "      <td>ENSMUSG00000104986</td>\n",
       "      <td>NaN</td>\n",
       "      <td>NaN</td>\n",
       "      <td>ENSMUSG00000104986</td>\n",
       "      <td>NaN</td>\n",
       "      <td>RIKEN cDNA 1600023N17 gene</td>\n",
       "      <td>NaN</td>\n",
       "      <td>1600023N17Rik</td>\n",
       "    </tr>\n",
       "    <tr>\n",
       "      <th>1700086O06Rik</th>\n",
       "      <td>73516</td>\n",
       "      <td>NaN</td>\n",
       "      <td>NaN</td>\n",
       "      <td>NaN</td>\n",
       "      <td>73516</td>\n",
       "      <td>RIKEN cDNA 1700086O06 gene</td>\n",
       "      <td>NaN</td>\n",
       "      <td>1700086O06Rik</td>\n",
       "    </tr>\n",
       "    <tr>\n",
       "      <th>1700086O06Rik</th>\n",
       "      <td>ENSMUSG00000097080</td>\n",
       "      <td>NaN</td>\n",
       "      <td>NaN</td>\n",
       "      <td>ENSMUSG00000097080</td>\n",
       "      <td>NaN</td>\n",
       "      <td>RIKEN cDNA 1700086O06 gene</td>\n",
       "      <td>NaN</td>\n",
       "      <td>1700086O06Rik</td>\n",
       "    </tr>\n",
       "    <tr>\n",
       "      <th>1810053B23Rik</th>\n",
       "      <td>69857</td>\n",
       "      <td>[1810008L18Rik, 1810056K14Rik]</td>\n",
       "      <td>NaN</td>\n",
       "      <td>NaN</td>\n",
       "      <td>69857</td>\n",
       "      <td>RIKEN cDNA 1810053B23 gene</td>\n",
       "      <td>NaN</td>\n",
       "      <td>1810053B23Rik</td>\n",
       "    </tr>\n",
       "    <tr>\n",
       "      <th>1810053B23Rik</th>\n",
       "      <td>ENSMUSG00000100277</td>\n",
       "      <td>NaN</td>\n",
       "      <td>NaN</td>\n",
       "      <td>ENSMUSG00000100277</td>\n",
       "      <td>NaN</td>\n",
       "      <td>RIKEN cDNA 1810053B23 gene</td>\n",
       "      <td>NaN</td>\n",
       "      <td>1810053B23Rik</td>\n",
       "    </tr>\n",
       "    <tr>\n",
       "      <th>Dfy</th>\n",
       "      <td>13349</td>\n",
       "      <td>[AA162249, CCBP1, CD234, Darc, Dfy, ESTM35, FY...</td>\n",
       "      <td>NaN</td>\n",
       "      <td>ENSMUSG00000037872</td>\n",
       "      <td>13349</td>\n",
       "      <td>atypical chemokine receptor 1 (Duffy blood group)</td>\n",
       "      <td>NaN</td>\n",
       "      <td>Ackr1</td>\n",
       "    </tr>\n",
       "    <tr>\n",
       "      <th>Darc</th>\n",
       "      <td>13349</td>\n",
       "      <td>[AA162249, CCBP1, CD234, Darc, Dfy, ESTM35, FY...</td>\n",
       "      <td>NaN</td>\n",
       "      <td>ENSMUSG00000037872</td>\n",
       "      <td>13349</td>\n",
       "      <td>atypical chemokine receptor 1 (Duffy blood group)</td>\n",
       "      <td>NaN</td>\n",
       "      <td>Ackr1</td>\n",
       "    </tr>\n",
       "    <tr>\n",
       "      <th>Ankle1</th>\n",
       "      <td>234396</td>\n",
       "      <td>[8430438L13Rik, Ankrd41, C430003I23, Lem3]</td>\n",
       "      <td>NaN</td>\n",
       "      <td>ENSMUSG00000046295</td>\n",
       "      <td>234396</td>\n",
       "      <td>ankyrin repeat and LEM domain containing 1</td>\n",
       "      <td>NaN</td>\n",
       "      <td>Ankle1</td>\n",
       "    </tr>\n",
       "    <tr>\n",
       "      <th>Ankrd41</th>\n",
       "      <td>234396</td>\n",
       "      <td>[8430438L13Rik, Ankrd41, C430003I23, Lem3]</td>\n",
       "      <td>NaN</td>\n",
       "      <td>ENSMUSG00000046295</td>\n",
       "      <td>234396</td>\n",
       "      <td>ankyrin repeat and LEM domain containing 1</td>\n",
       "      <td>NaN</td>\n",
       "      <td>Ankle1</td>\n",
       "    </tr>\n",
       "    <tr>\n",
       "      <th>Arhgap33</th>\n",
       "      <td>233071</td>\n",
       "      <td>[AW324378, NOMA-GAP, Snx26, TCGAP]</td>\n",
       "      <td>NaN</td>\n",
       "      <td>ENSMUSG00000036882</td>\n",
       "      <td>233071</td>\n",
       "      <td>Rho GTPase activating protein 33</td>\n",
       "      <td>NaN</td>\n",
       "      <td>Arhgap33</td>\n",
       "    </tr>\n",
       "    <tr>\n",
       "      <th>Snx26</th>\n",
       "      <td>233071</td>\n",
       "      <td>[AW324378, NOMA-GAP, Snx26, TCGAP]</td>\n",
       "      <td>NaN</td>\n",
       "      <td>ENSMUSG00000036882</td>\n",
       "      <td>233071</td>\n",
       "      <td>Rho GTPase activating protein 33</td>\n",
       "      <td>NaN</td>\n",
       "      <td>Arhgap33</td>\n",
       "    </tr>\n",
       "    <tr>\n",
       "      <th>Gm566</th>\n",
       "      <td>229672</td>\n",
       "      <td>[Bfk, Gm566]</td>\n",
       "      <td>NaN</td>\n",
       "      <td>ENSMUSG00000044165</td>\n",
       "      <td>229672</td>\n",
       "      <td>BCLl2-like 15</td>\n",
       "      <td>NaN</td>\n",
       "      <td>Bcl2l15</td>\n",
       "    </tr>\n",
       "    <tr>\n",
       "      <th>Bcl2l15</th>\n",
       "      <td>229672</td>\n",
       "      <td>[Bfk, Gm566]</td>\n",
       "      <td>NaN</td>\n",
       "      <td>ENSMUSG00000044165</td>\n",
       "      <td>229672</td>\n",
       "      <td>BCLl2-like 15</td>\n",
       "      <td>NaN</td>\n",
       "      <td>Bcl2l15</td>\n",
       "    </tr>\n",
       "    <tr>\n",
       "      <th>Vwcd1</th>\n",
       "      <td>320508</td>\n",
       "      <td>[1190007F10Rik, AI852726, B430218L07Rik, Vwcd1...</td>\n",
       "      <td>NaN</td>\n",
       "      <td>ENSMUSG00000028532</td>\n",
       "      <td>320508</td>\n",
       "      <td>cache domain containing 1</td>\n",
       "      <td>NaN</td>\n",
       "      <td>Cachd1</td>\n",
       "    </tr>\n",
       "    <tr>\n",
       "      <th>Cachd1</th>\n",
       "      <td>320508</td>\n",
       "      <td>[1190007F10Rik, AI852726, B430218L07Rik, Vwcd1...</td>\n",
       "      <td>NaN</td>\n",
       "      <td>ENSMUSG00000028532</td>\n",
       "      <td>320508</td>\n",
       "      <td>cache domain containing 1</td>\n",
       "      <td>NaN</td>\n",
       "      <td>Cachd1</td>\n",
       "    </tr>\n",
       "    <tr>\n",
       "      <th>Cdk16</th>\n",
       "      <td>18555</td>\n",
       "      <td>[Crk5, Pctaire1, Pctk1]</td>\n",
       "      <td>NaN</td>\n",
       "      <td>ENSMUSG00000031065</td>\n",
       "      <td>18555</td>\n",
       "      <td>cyclin-dependent kinase 16</td>\n",
       "      <td>NaN</td>\n",
       "      <td>Cdk16</td>\n",
       "    </tr>\n",
       "    <tr>\n",
       "      <th>Pctk1</th>\n",
       "      <td>18555</td>\n",
       "      <td>[Crk5, Pctaire1, Pctk1]</td>\n",
       "      <td>NaN</td>\n",
       "      <td>ENSMUSG00000031065</td>\n",
       "      <td>18555</td>\n",
       "      <td>cyclin-dependent kinase 16</td>\n",
       "      <td>NaN</td>\n",
       "      <td>Cdk16</td>\n",
       "    </tr>\n",
       "    <tr>\n",
       "      <th>Cela1</th>\n",
       "      <td>109901</td>\n",
       "      <td>[1810009A17Rik, 1810062B19Rik, Ela-1, Ela1, PC...</td>\n",
       "      <td>NaN</td>\n",
       "      <td>ENSMUSG00000023031</td>\n",
       "      <td>109901</td>\n",
       "      <td>chymotrypsin-like elastase family, member 1</td>\n",
       "      <td>NaN</td>\n",
       "      <td>Cela1</td>\n",
       "    </tr>\n",
       "    <tr>\n",
       "      <th>Ela1</th>\n",
       "      <td>109901</td>\n",
       "      <td>[1810009A17Rik, 1810062B19Rik, Ela-1, Ela1, PC...</td>\n",
       "      <td>NaN</td>\n",
       "      <td>ENSMUSG00000023031</td>\n",
       "      <td>109901</td>\n",
       "      <td>chymotrypsin-like elastase family, member 1</td>\n",
       "      <td>NaN</td>\n",
       "      <td>Cela1</td>\n",
       "    </tr>\n",
       "    <tr>\n",
       "      <th>Cenpi</th>\n",
       "      <td>102920</td>\n",
       "      <td>[CENP-I, Fshprh1]</td>\n",
       "      <td>NaN</td>\n",
       "      <td>ENSMUSG00000031262</td>\n",
       "      <td>102920</td>\n",
       "      <td>centromere protein I</td>\n",
       "      <td>NaN</td>\n",
       "      <td>Cenpi</td>\n",
       "    </tr>\n",
       "    <tr>\n",
       "      <th>Fshprh1</th>\n",
       "      <td>102920</td>\n",
       "      <td>[CENP-I, Fshprh1]</td>\n",
       "      <td>NaN</td>\n",
       "      <td>ENSMUSG00000031262</td>\n",
       "      <td>102920</td>\n",
       "      <td>centromere protein I</td>\n",
       "      <td>NaN</td>\n",
       "      <td>Cenpi</td>\n",
       "    </tr>\n",
       "    <tr>\n",
       "      <th>Cercam</th>\n",
       "      <td>99151</td>\n",
       "      <td>[2600006K01Rik, AL024097, Ceecam1]</td>\n",
       "      <td>NaN</td>\n",
       "      <td>ENSMUSG00000039787</td>\n",
       "      <td>99151</td>\n",
       "      <td>cerebral endothelial cell adhesion molecule</td>\n",
       "      <td>NaN</td>\n",
       "      <td>Cercam</td>\n",
       "    </tr>\n",
       "    <tr>\n",
       "      <th>Ceecam1</th>\n",
       "      <td>99151</td>\n",
       "      <td>[2600006K01Rik, AL024097, Ceecam1]</td>\n",
       "      <td>NaN</td>\n",
       "      <td>ENSMUSG00000039787</td>\n",
       "      <td>99151</td>\n",
       "      <td>cerebral endothelial cell adhesion molecule</td>\n",
       "      <td>NaN</td>\n",
       "      <td>Cercam</td>\n",
       "    </tr>\n",
       "    <tr>\n",
       "      <th>1700051C09Rik</th>\n",
       "      <td>68107</td>\n",
       "      <td>[1700051C09Rik, 4921513J16Rik, 5430417M23Rik, ...</td>\n",
       "      <td>NaN</td>\n",
       "      <td>ENSMUSG00000078653</td>\n",
       "      <td>68107</td>\n",
       "      <td>cyclin N-terminal domain containing 1</td>\n",
       "      <td>NaN</td>\n",
       "      <td>Cntd1</td>\n",
       "    </tr>\n",
       "    <tr>\n",
       "      <th>Cntd1</th>\n",
       "      <td>68107</td>\n",
       "      <td>[1700051C09Rik, 4921513J16Rik, 5430417M23Rik, ...</td>\n",
       "      <td>NaN</td>\n",
       "      <td>ENSMUSG00000078653</td>\n",
       "      <td>68107</td>\n",
       "      <td>cyclin N-terminal domain containing 1</td>\n",
       "      <td>NaN</td>\n",
       "      <td>Cntd1</td>\n",
       "    </tr>\n",
       "    <tr>\n",
       "      <th>Tes3</th>\n",
       "      <td>114893</td>\n",
       "      <td>[Rp42, SCCRO, Tes3, pTes3]</td>\n",
       "      <td>NaN</td>\n",
       "      <td>ENSMUSG00000027708</td>\n",
       "      <td>114893</td>\n",
       "      <td>DCN1, defective in cullin neddylation 1, domai...</td>\n",
       "      <td>NaN</td>\n",
       "      <td>Dcun1d1</td>\n",
       "    </tr>\n",
       "    <tr>\n",
       "      <th>Dcun1d1</th>\n",
       "      <td>114893</td>\n",
       "      <td>[Rp42, SCCRO, Tes3, pTes3]</td>\n",
       "      <td>NaN</td>\n",
       "      <td>ENSMUSG00000027708</td>\n",
       "      <td>114893</td>\n",
       "      <td>DCN1, defective in cullin neddylation 1, domai...</td>\n",
       "      <td>NaN</td>\n",
       "      <td>Dcun1d1</td>\n",
       "    </tr>\n",
       "    <tr>\n",
       "      <th>...</th>\n",
       "      <td>...</td>\n",
       "      <td>...</td>\n",
       "      <td>...</td>\n",
       "      <td>...</td>\n",
       "      <td>...</td>\n",
       "      <td>...</td>\n",
       "      <td>...</td>\n",
       "      <td>...</td>\n",
       "    </tr>\n",
       "    <tr>\n",
       "      <th>Epdr1</th>\n",
       "      <td>105298</td>\n",
       "      <td>[AU040950, AV006210, Epdm2, Epdr2, MERP-1, MER...</td>\n",
       "      <td>NaN</td>\n",
       "      <td>ENSMUSG00000002808</td>\n",
       "      <td>105298</td>\n",
       "      <td>ependymin related protein 1 (zebrafish)</td>\n",
       "      <td>NaN</td>\n",
       "      <td>Epdr1</td>\n",
       "    </tr>\n",
       "    <tr>\n",
       "      <th>Epdr2</th>\n",
       "      <td>105298</td>\n",
       "      <td>[AU040950, AV006210, Epdm2, Epdr2, MERP-1, MER...</td>\n",
       "      <td>NaN</td>\n",
       "      <td>ENSMUSG00000002808</td>\n",
       "      <td>105298</td>\n",
       "      <td>ependymin related protein 1 (zebrafish)</td>\n",
       "      <td>NaN</td>\n",
       "      <td>Epdr1</td>\n",
       "    </tr>\n",
       "    <tr>\n",
       "      <th>Fam160b2</th>\n",
       "      <td>239170</td>\n",
       "      <td>[G430067P06Rik, Rai16]</td>\n",
       "      <td>NaN</td>\n",
       "      <td>ENSMUSG00000022095</td>\n",
       "      <td>239170</td>\n",
       "      <td>family with sequence similarity 160, member B2</td>\n",
       "      <td>NaN</td>\n",
       "      <td>Fam160b2</td>\n",
       "    </tr>\n",
       "    <tr>\n",
       "      <th>Rai16</th>\n",
       "      <td>239170</td>\n",
       "      <td>[G430067P06Rik, Rai16]</td>\n",
       "      <td>NaN</td>\n",
       "      <td>ENSMUSG00000022095</td>\n",
       "      <td>239170</td>\n",
       "      <td>family with sequence similarity 160, member B2</td>\n",
       "      <td>NaN</td>\n",
       "      <td>Fam160b2</td>\n",
       "    </tr>\n",
       "    <tr>\n",
       "      <th>Fam59a</th>\n",
       "      <td>381126</td>\n",
       "      <td>[C86169, Fam59a, Garem1, Gm944, mKIAA4238]</td>\n",
       "      <td>NaN</td>\n",
       "      <td>ENSMUSG00000042680</td>\n",
       "      <td>381126</td>\n",
       "      <td>GRB2 associated, regulator of MAPK1</td>\n",
       "      <td>NaN</td>\n",
       "      <td>Garem</td>\n",
       "    </tr>\n",
       "    <tr>\n",
       "      <th>Gm944</th>\n",
       "      <td>381126</td>\n",
       "      <td>[C86169, Fam59a, Garem1, Gm944, mKIAA4238]</td>\n",
       "      <td>NaN</td>\n",
       "      <td>ENSMUSG00000042680</td>\n",
       "      <td>381126</td>\n",
       "      <td>GRB2 associated, regulator of MAPK1</td>\n",
       "      <td>NaN</td>\n",
       "      <td>Garem</td>\n",
       "    </tr>\n",
       "    <tr>\n",
       "      <th>Zfpn1a1</th>\n",
       "      <td>22778</td>\n",
       "      <td>[5832432G11Rik, Ikaros, LyF-1, Zfpn1a1, Znfn1a...</td>\n",
       "      <td>NaN</td>\n",
       "      <td>ENSMUSG00000018654</td>\n",
       "      <td>22778</td>\n",
       "      <td>IKAROS family zinc finger 1</td>\n",
       "      <td>NaN</td>\n",
       "      <td>Ikzf1</td>\n",
       "    </tr>\n",
       "    <tr>\n",
       "      <th>Ikzf1</th>\n",
       "      <td>22778</td>\n",
       "      <td>[5832432G11Rik, Ikaros, LyF-1, Zfpn1a1, Znfn1a...</td>\n",
       "      <td>NaN</td>\n",
       "      <td>ENSMUSG00000018654</td>\n",
       "      <td>22778</td>\n",
       "      <td>IKAROS family zinc finger 1</td>\n",
       "      <td>NaN</td>\n",
       "      <td>Ikzf1</td>\n",
       "    </tr>\n",
       "    <tr>\n",
       "      <th>Gpr73</th>\n",
       "      <td>58182</td>\n",
       "      <td>[EG-VEGFR1, Gpr73, Pkr1]</td>\n",
       "      <td>NaN</td>\n",
       "      <td>ENSMUSG00000049409</td>\n",
       "      <td>58182</td>\n",
       "      <td>prokineticin receptor 1</td>\n",
       "      <td>NaN</td>\n",
       "      <td>Prokr1</td>\n",
       "    </tr>\n",
       "    <tr>\n",
       "      <th>Prokr1</th>\n",
       "      <td>58182</td>\n",
       "      <td>[EG-VEGFR1, Gpr73, Pkr1]</td>\n",
       "      <td>NaN</td>\n",
       "      <td>ENSMUSG00000049409</td>\n",
       "      <td>58182</td>\n",
       "      <td>prokineticin receptor 1</td>\n",
       "      <td>NaN</td>\n",
       "      <td>Prokr1</td>\n",
       "    </tr>\n",
       "    <tr>\n",
       "      <th>Gm817</th>\n",
       "      <td>329207</td>\n",
       "      <td>Gm817</td>\n",
       "      <td>NaN</td>\n",
       "      <td>ENSMUSG00000070732</td>\n",
       "      <td>329207</td>\n",
       "      <td>RNA binding motif protein 44</td>\n",
       "      <td>NaN</td>\n",
       "      <td>Rbm44</td>\n",
       "    </tr>\n",
       "    <tr>\n",
       "      <th>Rbm44</th>\n",
       "      <td>329207</td>\n",
       "      <td>Gm817</td>\n",
       "      <td>NaN</td>\n",
       "      <td>ENSMUSG00000070732</td>\n",
       "      <td>329207</td>\n",
       "      <td>RNA binding motif protein 44</td>\n",
       "      <td>NaN</td>\n",
       "      <td>Rbm44</td>\n",
       "    </tr>\n",
       "    <tr>\n",
       "      <th>Reep6</th>\n",
       "      <td>70335</td>\n",
       "      <td>[0610011M24Rik, Dp1l1]</td>\n",
       "      <td>NaN</td>\n",
       "      <td>ENSMUSG00000035504</td>\n",
       "      <td>70335</td>\n",
       "      <td>receptor accessory protein 6</td>\n",
       "      <td>NaN</td>\n",
       "      <td>Reep6</td>\n",
       "    </tr>\n",
       "    <tr>\n",
       "      <th>Dp1l1</th>\n",
       "      <td>70335</td>\n",
       "      <td>[0610011M24Rik, Dp1l1]</td>\n",
       "      <td>NaN</td>\n",
       "      <td>ENSMUSG00000035504</td>\n",
       "      <td>70335</td>\n",
       "      <td>receptor accessory protein 6</td>\n",
       "      <td>NaN</td>\n",
       "      <td>Reep6</td>\n",
       "    </tr>\n",
       "    <tr>\n",
       "      <th>Rundc3a</th>\n",
       "      <td>51799</td>\n",
       "      <td>[RPIP-8, Rap2ip, Rpip8]</td>\n",
       "      <td>NaN</td>\n",
       "      <td>ENSMUSG00000006575</td>\n",
       "      <td>51799</td>\n",
       "      <td>RUN domain containing 3A</td>\n",
       "      <td>NaN</td>\n",
       "      <td>Rundc3a</td>\n",
       "    </tr>\n",
       "    <tr>\n",
       "      <th>Rap2ip</th>\n",
       "      <td>51799</td>\n",
       "      <td>[RPIP-8, Rap2ip, Rpip8]</td>\n",
       "      <td>NaN</td>\n",
       "      <td>ENSMUSG00000006575</td>\n",
       "      <td>51799</td>\n",
       "      <td>RUN domain containing 3A</td>\n",
       "      <td>NaN</td>\n",
       "      <td>Rundc3a</td>\n",
       "    </tr>\n",
       "    <tr>\n",
       "      <th>Runx1t1</th>\n",
       "      <td>12395</td>\n",
       "      <td>[Cbfa2t1h, ETO, MTG8]</td>\n",
       "      <td>NaN</td>\n",
       "      <td>ENSMUSG00000006586</td>\n",
       "      <td>12395</td>\n",
       "      <td>runt-related transcription factor 1; transloca...</td>\n",
       "      <td>NaN</td>\n",
       "      <td>Runx1t1</td>\n",
       "    </tr>\n",
       "    <tr>\n",
       "      <th>Cbfa2t1h</th>\n",
       "      <td>12395</td>\n",
       "      <td>[Cbfa2t1h, ETO, MTG8]</td>\n",
       "      <td>NaN</td>\n",
       "      <td>ENSMUSG00000006586</td>\n",
       "      <td>12395</td>\n",
       "      <td>runt-related transcription factor 1; transloca...</td>\n",
       "      <td>NaN</td>\n",
       "      <td>Runx1t1</td>\n",
       "    </tr>\n",
       "    <tr>\n",
       "      <th>BC010801</th>\n",
       "      <td>208638</td>\n",
       "      <td>[AV019094, BC010801, appoptosin]</td>\n",
       "      <td>NaN</td>\n",
       "      <td>ENSMUSG00000032519</td>\n",
       "      <td>208638</td>\n",
       "      <td>solute carrier family 25, member 38</td>\n",
       "      <td>NaN</td>\n",
       "      <td>Slc25a38</td>\n",
       "    </tr>\n",
       "    <tr>\n",
       "      <th>Slc25a38</th>\n",
       "      <td>208638</td>\n",
       "      <td>[AV019094, BC010801, appoptosin]</td>\n",
       "      <td>NaN</td>\n",
       "      <td>ENSMUSG00000032519</td>\n",
       "      <td>208638</td>\n",
       "      <td>solute carrier family 25, member 38</td>\n",
       "      <td>NaN</td>\n",
       "      <td>Slc25a38</td>\n",
       "    </tr>\n",
       "    <tr>\n",
       "      <th>Slc25a39</th>\n",
       "      <td>68066</td>\n",
       "      <td>[3010027G13Rik, D11Ertd333e]</td>\n",
       "      <td>NaN</td>\n",
       "      <td>ENSMUSG00000018677</td>\n",
       "      <td>68066</td>\n",
       "      <td>solute carrier family 25, member 39</td>\n",
       "      <td>NaN</td>\n",
       "      <td>Slc25a39</td>\n",
       "    </tr>\n",
       "    <tr>\n",
       "      <th>D11Ertd333e</th>\n",
       "      <td>68066</td>\n",
       "      <td>[3010027G13Rik, D11Ertd333e]</td>\n",
       "      <td>NaN</td>\n",
       "      <td>ENSMUSG00000018677</td>\n",
       "      <td>68066</td>\n",
       "      <td>solute carrier family 25, member 39</td>\n",
       "      <td>NaN</td>\n",
       "      <td>Slc25a39</td>\n",
       "    </tr>\n",
       "    <tr>\n",
       "      <th>Tspo2</th>\n",
       "      <td>70026</td>\n",
       "      <td>[2510027D20Rik, Bzrpl1]</td>\n",
       "      <td>NaN</td>\n",
       "      <td>ENSMUSG00000023995</td>\n",
       "      <td>70026</td>\n",
       "      <td>translocator protein 2</td>\n",
       "      <td>NaN</td>\n",
       "      <td>Tspo2</td>\n",
       "    </tr>\n",
       "    <tr>\n",
       "      <th>Bzrpl1</th>\n",
       "      <td>70026</td>\n",
       "      <td>[2510027D20Rik, Bzrpl1]</td>\n",
       "      <td>NaN</td>\n",
       "      <td>ENSMUSG00000023995</td>\n",
       "      <td>70026</td>\n",
       "      <td>translocator protein 2</td>\n",
       "      <td>NaN</td>\n",
       "      <td>Tspo2</td>\n",
       "    </tr>\n",
       "    <tr>\n",
       "      <th>Wnk1</th>\n",
       "      <td>232341</td>\n",
       "      <td>[6430573H23Rik, EG406236, Hsn2, Prkwnk1, mKIAA...</td>\n",
       "      <td>NaN</td>\n",
       "      <td>ENSMUSG00000045962</td>\n",
       "      <td>232341</td>\n",
       "      <td>WNK lysine deficient protein kinase 1</td>\n",
       "      <td>NaN</td>\n",
       "      <td>Wnk1</td>\n",
       "    </tr>\n",
       "    <tr>\n",
       "      <th>Prkwnk1</th>\n",
       "      <td>232341</td>\n",
       "      <td>[6430573H23Rik, EG406236, Hsn2, Prkwnk1, mKIAA...</td>\n",
       "      <td>NaN</td>\n",
       "      <td>ENSMUSG00000045962</td>\n",
       "      <td>232341</td>\n",
       "      <td>WNK lysine deficient protein kinase 1</td>\n",
       "      <td>NaN</td>\n",
       "      <td>Wnk1</td>\n",
       "    </tr>\n",
       "    <tr>\n",
       "      <th>Zfp420</th>\n",
       "      <td>233058</td>\n",
       "      <td>[B230119D13, B230312I18Rik, mszf59-1, mszf70]</td>\n",
       "      <td>NaN</td>\n",
       "      <td>ENSMUSG00000058402</td>\n",
       "      <td>233058</td>\n",
       "      <td>zinc finger protein 420</td>\n",
       "      <td>NaN</td>\n",
       "      <td>Zfp420</td>\n",
       "    </tr>\n",
       "    <tr>\n",
       "      <th>B230312I18Rik</th>\n",
       "      <td>233058</td>\n",
       "      <td>[B230119D13, B230312I18Rik, mszf59-1, mszf70]</td>\n",
       "      <td>NaN</td>\n",
       "      <td>ENSMUSG00000058402</td>\n",
       "      <td>233058</td>\n",
       "      <td>zinc finger protein 420</td>\n",
       "      <td>NaN</td>\n",
       "      <td>Zfp420</td>\n",
       "    </tr>\n",
       "    <tr>\n",
       "      <th>Zfp949</th>\n",
       "      <td>71640</td>\n",
       "      <td>4930422I07Rik</td>\n",
       "      <td>NaN</td>\n",
       "      <td>ENSMUSG00000032425</td>\n",
       "      <td>71640</td>\n",
       "      <td>zinc finger protein 949</td>\n",
       "      <td>NaN</td>\n",
       "      <td>Zfp949</td>\n",
       "    </tr>\n",
       "    <tr>\n",
       "      <th>4930422I07Rik</th>\n",
       "      <td>71640</td>\n",
       "      <td>4930422I07Rik</td>\n",
       "      <td>NaN</td>\n",
       "      <td>ENSMUSG00000032425</td>\n",
       "      <td>71640</td>\n",
       "      <td>zinc finger protein 949</td>\n",
       "      <td>NaN</td>\n",
       "      <td>Zfp949</td>\n",
       "    </tr>\n",
       "  </tbody>\n",
       "</table>\n",
       "<p>62 rows × 8 columns</p>\n",
       "</div>"
      ],
      "text/plain": [
       "                              _id  \\\n",
       "query                               \n",
       "1110006O24Rik               66123   \n",
       "1110006O24Rik  ENSMUSG00000107121   \n",
       "1600023N17Rik               69788   \n",
       "1600023N17Rik  ENSMUSG00000104986   \n",
       "1700086O06Rik               73516   \n",
       "1700086O06Rik  ENSMUSG00000097080   \n",
       "1810053B23Rik               69857   \n",
       "1810053B23Rik  ENSMUSG00000100277   \n",
       "Dfy                         13349   \n",
       "Darc                        13349   \n",
       "Ankle1                     234396   \n",
       "Ankrd41                    234396   \n",
       "Arhgap33                   233071   \n",
       "Snx26                      233071   \n",
       "Gm566                      229672   \n",
       "Bcl2l15                    229672   \n",
       "Vwcd1                      320508   \n",
       "Cachd1                     320508   \n",
       "Cdk16                       18555   \n",
       "Pctk1                       18555   \n",
       "Cela1                      109901   \n",
       "Ela1                       109901   \n",
       "Cenpi                      102920   \n",
       "Fshprh1                    102920   \n",
       "Cercam                      99151   \n",
       "Ceecam1                     99151   \n",
       "1700051C09Rik               68107   \n",
       "Cntd1                       68107   \n",
       "Tes3                       114893   \n",
       "Dcun1d1                    114893   \n",
       "...                           ...   \n",
       "Epdr1                      105298   \n",
       "Epdr2                      105298   \n",
       "Fam160b2                   239170   \n",
       "Rai16                      239170   \n",
       "Fam59a                     381126   \n",
       "Gm944                      381126   \n",
       "Zfpn1a1                     22778   \n",
       "Ikzf1                       22778   \n",
       "Gpr73                       58182   \n",
       "Prokr1                      58182   \n",
       "Gm817                      329207   \n",
       "Rbm44                      329207   \n",
       "Reep6                       70335   \n",
       "Dp1l1                       70335   \n",
       "Rundc3a                     51799   \n",
       "Rap2ip                      51799   \n",
       "Runx1t1                     12395   \n",
       "Cbfa2t1h                    12395   \n",
       "BC010801                   208638   \n",
       "Slc25a38                   208638   \n",
       "Slc25a39                    68066   \n",
       "D11Ertd333e                 68066   \n",
       "Tspo2                       70026   \n",
       "Bzrpl1                      70026   \n",
       "Wnk1                       232341   \n",
       "Prkwnk1                    232341   \n",
       "Zfp420                     233058   \n",
       "B230312I18Rik              233058   \n",
       "Zfp949                      71640   \n",
       "4930422I07Rik               71640   \n",
       "\n",
       "                                                           alias ensembl  \\\n",
       "query                                                                      \n",
       "1110006O24Rik                                                NaN     NaN   \n",
       "1110006O24Rik                                                NaN     NaN   \n",
       "1600023N17Rik                                           AV119442     NaN   \n",
       "1600023N17Rik                                                NaN     NaN   \n",
       "1700086O06Rik                                                NaN     NaN   \n",
       "1700086O06Rik                                                NaN     NaN   \n",
       "1810053B23Rik                     [1810008L18Rik, 1810056K14Rik]     NaN   \n",
       "1810053B23Rik                                                NaN     NaN   \n",
       "Dfy            [AA162249, CCBP1, CD234, Darc, Dfy, ESTM35, FY...     NaN   \n",
       "Darc           [AA162249, CCBP1, CD234, Darc, Dfy, ESTM35, FY...     NaN   \n",
       "Ankle1                [8430438L13Rik, Ankrd41, C430003I23, Lem3]     NaN   \n",
       "Ankrd41               [8430438L13Rik, Ankrd41, C430003I23, Lem3]     NaN   \n",
       "Arhgap33                      [AW324378, NOMA-GAP, Snx26, TCGAP]     NaN   \n",
       "Snx26                         [AW324378, NOMA-GAP, Snx26, TCGAP]     NaN   \n",
       "Gm566                                               [Bfk, Gm566]     NaN   \n",
       "Bcl2l15                                             [Bfk, Gm566]     NaN   \n",
       "Vwcd1          [1190007F10Rik, AI852726, B430218L07Rik, Vwcd1...     NaN   \n",
       "Cachd1         [1190007F10Rik, AI852726, B430218L07Rik, Vwcd1...     NaN   \n",
       "Cdk16                                    [Crk5, Pctaire1, Pctk1]     NaN   \n",
       "Pctk1                                    [Crk5, Pctaire1, Pctk1]     NaN   \n",
       "Cela1          [1810009A17Rik, 1810062B19Rik, Ela-1, Ela1, PC...     NaN   \n",
       "Ela1           [1810009A17Rik, 1810062B19Rik, Ela-1, Ela1, PC...     NaN   \n",
       "Cenpi                                          [CENP-I, Fshprh1]     NaN   \n",
       "Fshprh1                                        [CENP-I, Fshprh1]     NaN   \n",
       "Cercam                        [2600006K01Rik, AL024097, Ceecam1]     NaN   \n",
       "Ceecam1                       [2600006K01Rik, AL024097, Ceecam1]     NaN   \n",
       "1700051C09Rik  [1700051C09Rik, 4921513J16Rik, 5430417M23Rik, ...     NaN   \n",
       "Cntd1          [1700051C09Rik, 4921513J16Rik, 5430417M23Rik, ...     NaN   \n",
       "Tes3                                  [Rp42, SCCRO, Tes3, pTes3]     NaN   \n",
       "Dcun1d1                               [Rp42, SCCRO, Tes3, pTes3]     NaN   \n",
       "...                                                          ...     ...   \n",
       "Epdr1          [AU040950, AV006210, Epdm2, Epdr2, MERP-1, MER...     NaN   \n",
       "Epdr2          [AU040950, AV006210, Epdm2, Epdr2, MERP-1, MER...     NaN   \n",
       "Fam160b2                                  [G430067P06Rik, Rai16]     NaN   \n",
       "Rai16                                     [G430067P06Rik, Rai16]     NaN   \n",
       "Fam59a                [C86169, Fam59a, Garem1, Gm944, mKIAA4238]     NaN   \n",
       "Gm944                 [C86169, Fam59a, Garem1, Gm944, mKIAA4238]     NaN   \n",
       "Zfpn1a1        [5832432G11Rik, Ikaros, LyF-1, Zfpn1a1, Znfn1a...     NaN   \n",
       "Ikzf1          [5832432G11Rik, Ikaros, LyF-1, Zfpn1a1, Znfn1a...     NaN   \n",
       "Gpr73                                   [EG-VEGFR1, Gpr73, Pkr1]     NaN   \n",
       "Prokr1                                  [EG-VEGFR1, Gpr73, Pkr1]     NaN   \n",
       "Gm817                                                      Gm817     NaN   \n",
       "Rbm44                                                      Gm817     NaN   \n",
       "Reep6                                     [0610011M24Rik, Dp1l1]     NaN   \n",
       "Dp1l1                                     [0610011M24Rik, Dp1l1]     NaN   \n",
       "Rundc3a                                  [RPIP-8, Rap2ip, Rpip8]     NaN   \n",
       "Rap2ip                                   [RPIP-8, Rap2ip, Rpip8]     NaN   \n",
       "Runx1t1                                    [Cbfa2t1h, ETO, MTG8]     NaN   \n",
       "Cbfa2t1h                                   [Cbfa2t1h, ETO, MTG8]     NaN   \n",
       "BC010801                        [AV019094, BC010801, appoptosin]     NaN   \n",
       "Slc25a38                        [AV019094, BC010801, appoptosin]     NaN   \n",
       "Slc25a39                            [3010027G13Rik, D11Ertd333e]     NaN   \n",
       "D11Ertd333e                         [3010027G13Rik, D11Ertd333e]     NaN   \n",
       "Tspo2                                    [2510027D20Rik, Bzrpl1]     NaN   \n",
       "Bzrpl1                                   [2510027D20Rik, Bzrpl1]     NaN   \n",
       "Wnk1           [6430573H23Rik, EG406236, Hsn2, Prkwnk1, mKIAA...     NaN   \n",
       "Prkwnk1        [6430573H23Rik, EG406236, Hsn2, Prkwnk1, mKIAA...     NaN   \n",
       "Zfp420             [B230119D13, B230312I18Rik, mszf59-1, mszf70]     NaN   \n",
       "B230312I18Rik      [B230119D13, B230312I18Rik, mszf59-1, mszf70]     NaN   \n",
       "Zfp949                                             4930422I07Rik     NaN   \n",
       "4930422I07Rik                                      4930422I07Rik     NaN   \n",
       "\n",
       "                     ensembl.gene  entrezgene  \\\n",
       "query                                           \n",
       "1110006O24Rik                 NaN       66123   \n",
       "1110006O24Rik  ENSMUSG00000107121         NaN   \n",
       "1600023N17Rik                 NaN       69788   \n",
       "1600023N17Rik  ENSMUSG00000104986         NaN   \n",
       "1700086O06Rik                 NaN       73516   \n",
       "1700086O06Rik  ENSMUSG00000097080         NaN   \n",
       "1810053B23Rik                 NaN       69857   \n",
       "1810053B23Rik  ENSMUSG00000100277         NaN   \n",
       "Dfy            ENSMUSG00000037872       13349   \n",
       "Darc           ENSMUSG00000037872       13349   \n",
       "Ankle1         ENSMUSG00000046295      234396   \n",
       "Ankrd41        ENSMUSG00000046295      234396   \n",
       "Arhgap33       ENSMUSG00000036882      233071   \n",
       "Snx26          ENSMUSG00000036882      233071   \n",
       "Gm566          ENSMUSG00000044165      229672   \n",
       "Bcl2l15        ENSMUSG00000044165      229672   \n",
       "Vwcd1          ENSMUSG00000028532      320508   \n",
       "Cachd1         ENSMUSG00000028532      320508   \n",
       "Cdk16          ENSMUSG00000031065       18555   \n",
       "Pctk1          ENSMUSG00000031065       18555   \n",
       "Cela1          ENSMUSG00000023031      109901   \n",
       "Ela1           ENSMUSG00000023031      109901   \n",
       "Cenpi          ENSMUSG00000031262      102920   \n",
       "Fshprh1        ENSMUSG00000031262      102920   \n",
       "Cercam         ENSMUSG00000039787       99151   \n",
       "Ceecam1        ENSMUSG00000039787       99151   \n",
       "1700051C09Rik  ENSMUSG00000078653       68107   \n",
       "Cntd1          ENSMUSG00000078653       68107   \n",
       "Tes3           ENSMUSG00000027708      114893   \n",
       "Dcun1d1        ENSMUSG00000027708      114893   \n",
       "...                           ...         ...   \n",
       "Epdr1          ENSMUSG00000002808      105298   \n",
       "Epdr2          ENSMUSG00000002808      105298   \n",
       "Fam160b2       ENSMUSG00000022095      239170   \n",
       "Rai16          ENSMUSG00000022095      239170   \n",
       "Fam59a         ENSMUSG00000042680      381126   \n",
       "Gm944          ENSMUSG00000042680      381126   \n",
       "Zfpn1a1        ENSMUSG00000018654       22778   \n",
       "Ikzf1          ENSMUSG00000018654       22778   \n",
       "Gpr73          ENSMUSG00000049409       58182   \n",
       "Prokr1         ENSMUSG00000049409       58182   \n",
       "Gm817          ENSMUSG00000070732      329207   \n",
       "Rbm44          ENSMUSG00000070732      329207   \n",
       "Reep6          ENSMUSG00000035504       70335   \n",
       "Dp1l1          ENSMUSG00000035504       70335   \n",
       "Rundc3a        ENSMUSG00000006575       51799   \n",
       "Rap2ip         ENSMUSG00000006575       51799   \n",
       "Runx1t1        ENSMUSG00000006586       12395   \n",
       "Cbfa2t1h       ENSMUSG00000006586       12395   \n",
       "BC010801       ENSMUSG00000032519      208638   \n",
       "Slc25a38       ENSMUSG00000032519      208638   \n",
       "Slc25a39       ENSMUSG00000018677       68066   \n",
       "D11Ertd333e    ENSMUSG00000018677       68066   \n",
       "Tspo2          ENSMUSG00000023995       70026   \n",
       "Bzrpl1         ENSMUSG00000023995       70026   \n",
       "Wnk1           ENSMUSG00000045962      232341   \n",
       "Prkwnk1        ENSMUSG00000045962      232341   \n",
       "Zfp420         ENSMUSG00000058402      233058   \n",
       "B230312I18Rik  ENSMUSG00000058402      233058   \n",
       "Zfp949         ENSMUSG00000032425       71640   \n",
       "4930422I07Rik  ENSMUSG00000032425       71640   \n",
       "\n",
       "                                                            name notfound  \\\n",
       "query                                                                       \n",
       "1110006O24Rik                         RIKEN cDNA 1110006O24 gene      NaN   \n",
       "1110006O24Rik                         RIKEN cDNA 1110006O24 gene      NaN   \n",
       "1600023N17Rik                         RIKEN cDNA 1600023N17 gene      NaN   \n",
       "1600023N17Rik                         RIKEN cDNA 1600023N17 gene      NaN   \n",
       "1700086O06Rik                         RIKEN cDNA 1700086O06 gene      NaN   \n",
       "1700086O06Rik                         RIKEN cDNA 1700086O06 gene      NaN   \n",
       "1810053B23Rik                         RIKEN cDNA 1810053B23 gene      NaN   \n",
       "1810053B23Rik                         RIKEN cDNA 1810053B23 gene      NaN   \n",
       "Dfy            atypical chemokine receptor 1 (Duffy blood group)      NaN   \n",
       "Darc           atypical chemokine receptor 1 (Duffy blood group)      NaN   \n",
       "Ankle1                ankyrin repeat and LEM domain containing 1      NaN   \n",
       "Ankrd41               ankyrin repeat and LEM domain containing 1      NaN   \n",
       "Arhgap33                        Rho GTPase activating protein 33      NaN   \n",
       "Snx26                           Rho GTPase activating protein 33      NaN   \n",
       "Gm566                                              BCLl2-like 15      NaN   \n",
       "Bcl2l15                                            BCLl2-like 15      NaN   \n",
       "Vwcd1                                  cache domain containing 1      NaN   \n",
       "Cachd1                                 cache domain containing 1      NaN   \n",
       "Cdk16                                 cyclin-dependent kinase 16      NaN   \n",
       "Pctk1                                 cyclin-dependent kinase 16      NaN   \n",
       "Cela1                chymotrypsin-like elastase family, member 1      NaN   \n",
       "Ela1                 chymotrypsin-like elastase family, member 1      NaN   \n",
       "Cenpi                                       centromere protein I      NaN   \n",
       "Fshprh1                                     centromere protein I      NaN   \n",
       "Cercam               cerebral endothelial cell adhesion molecule      NaN   \n",
       "Ceecam1              cerebral endothelial cell adhesion molecule      NaN   \n",
       "1700051C09Rik              cyclin N-terminal domain containing 1      NaN   \n",
       "Cntd1                      cyclin N-terminal domain containing 1      NaN   \n",
       "Tes3           DCN1, defective in cullin neddylation 1, domai...      NaN   \n",
       "Dcun1d1        DCN1, defective in cullin neddylation 1, domai...      NaN   \n",
       "...                                                          ...      ...   \n",
       "Epdr1                    ependymin related protein 1 (zebrafish)      NaN   \n",
       "Epdr2                    ependymin related protein 1 (zebrafish)      NaN   \n",
       "Fam160b2          family with sequence similarity 160, member B2      NaN   \n",
       "Rai16             family with sequence similarity 160, member B2      NaN   \n",
       "Fam59a                       GRB2 associated, regulator of MAPK1      NaN   \n",
       "Gm944                        GRB2 associated, regulator of MAPK1      NaN   \n",
       "Zfpn1a1                              IKAROS family zinc finger 1      NaN   \n",
       "Ikzf1                                IKAROS family zinc finger 1      NaN   \n",
       "Gpr73                                    prokineticin receptor 1      NaN   \n",
       "Prokr1                                   prokineticin receptor 1      NaN   \n",
       "Gm817                               RNA binding motif protein 44      NaN   \n",
       "Rbm44                               RNA binding motif protein 44      NaN   \n",
       "Reep6                               receptor accessory protein 6      NaN   \n",
       "Dp1l1                               receptor accessory protein 6      NaN   \n",
       "Rundc3a                                 RUN domain containing 3A      NaN   \n",
       "Rap2ip                                  RUN domain containing 3A      NaN   \n",
       "Runx1t1        runt-related transcription factor 1; transloca...      NaN   \n",
       "Cbfa2t1h       runt-related transcription factor 1; transloca...      NaN   \n",
       "BC010801                     solute carrier family 25, member 38      NaN   \n",
       "Slc25a38                     solute carrier family 25, member 38      NaN   \n",
       "Slc25a39                     solute carrier family 25, member 39      NaN   \n",
       "D11Ertd333e                  solute carrier family 25, member 39      NaN   \n",
       "Tspo2                                     translocator protein 2      NaN   \n",
       "Bzrpl1                                    translocator protein 2      NaN   \n",
       "Wnk1                       WNK lysine deficient protein kinase 1      NaN   \n",
       "Prkwnk1                    WNK lysine deficient protein kinase 1      NaN   \n",
       "Zfp420                                   zinc finger protein 420      NaN   \n",
       "B230312I18Rik                            zinc finger protein 420      NaN   \n",
       "Zfp949                                   zinc finger protein 949      NaN   \n",
       "4930422I07Rik                            zinc finger protein 949      NaN   \n",
       "\n",
       "                      symbol  \n",
       "query                         \n",
       "1110006O24Rik  1110006O24Rik  \n",
       "1110006O24Rik  1110006O24Rik  \n",
       "1600023N17Rik  1600023N17Rik  \n",
       "1600023N17Rik  1600023N17Rik  \n",
       "1700086O06Rik  1700086O06Rik  \n",
       "1700086O06Rik  1700086O06Rik  \n",
       "1810053B23Rik  1810053B23Rik  \n",
       "1810053B23Rik  1810053B23Rik  \n",
       "Dfy                    Ackr1  \n",
       "Darc                   Ackr1  \n",
       "Ankle1                Ankle1  \n",
       "Ankrd41               Ankle1  \n",
       "Arhgap33            Arhgap33  \n",
       "Snx26               Arhgap33  \n",
       "Gm566                Bcl2l15  \n",
       "Bcl2l15              Bcl2l15  \n",
       "Vwcd1                 Cachd1  \n",
       "Cachd1                Cachd1  \n",
       "Cdk16                  Cdk16  \n",
       "Pctk1                  Cdk16  \n",
       "Cela1                  Cela1  \n",
       "Ela1                   Cela1  \n",
       "Cenpi                  Cenpi  \n",
       "Fshprh1                Cenpi  \n",
       "Cercam                Cercam  \n",
       "Ceecam1               Cercam  \n",
       "1700051C09Rik          Cntd1  \n",
       "Cntd1                  Cntd1  \n",
       "Tes3                 Dcun1d1  \n",
       "Dcun1d1              Dcun1d1  \n",
       "...                      ...  \n",
       "Epdr1                  Epdr1  \n",
       "Epdr2                  Epdr1  \n",
       "Fam160b2            Fam160b2  \n",
       "Rai16               Fam160b2  \n",
       "Fam59a                 Garem  \n",
       "Gm944                  Garem  \n",
       "Zfpn1a1                Ikzf1  \n",
       "Ikzf1                  Ikzf1  \n",
       "Gpr73                 Prokr1  \n",
       "Prokr1                Prokr1  \n",
       "Gm817                  Rbm44  \n",
       "Rbm44                  Rbm44  \n",
       "Reep6                  Reep6  \n",
       "Dp1l1                  Reep6  \n",
       "Rundc3a              Rundc3a  \n",
       "Rap2ip               Rundc3a  \n",
       "Runx1t1              Runx1t1  \n",
       "Cbfa2t1h             Runx1t1  \n",
       "BC010801            Slc25a38  \n",
       "Slc25a38            Slc25a38  \n",
       "Slc25a39            Slc25a39  \n",
       "D11Ertd333e         Slc25a39  \n",
       "Tspo2                  Tspo2  \n",
       "Bzrpl1                 Tspo2  \n",
       "Wnk1                    Wnk1  \n",
       "Prkwnk1                 Wnk1  \n",
       "Zfp420                Zfp420  \n",
       "B230312I18Rik         Zfp420  \n",
       "Zfp949                Zfp949  \n",
       "4930422I07Rik         Zfp949  \n",
       "\n",
       "[62 rows x 8 columns]"
      ]
     },
     "execution_count": 26,
     "metadata": {},
     "output_type": "execute_result"
    }
   ],
   "source": [
    "multiple = deduped.symbol.value_counts()\n",
    "multiple = set(multiple[multiple > 1].index)\n",
    "deduped[deduped.symbol.isin(multiple)].sort_values('symbol')"
   ]
  },
  {
   "cell_type": "markdown",
   "metadata": {},
   "source": [
    "The first four rows are the duplicates we looked at before. MyGene found two different entries for each of them. That's fine, we'll deal with them later.\n",
    "\n",
    "Other rows, however, show the same `symbol` showing up for multiple `query` entries. For example, we asked for `Darc` and `Dfy`, but MyGene tells us these are really the same gene (`Ackr1`).\n",
    "\n",
    "Similarly, we asked for `Ankle1` and `Ankrd41`, but MyGene tells us they are the same gene (`Ankle1`).\n",
    "\n",
    "For each set of duplicates, let's assume it doesn't really matter which symbol we choose since we're really after the `_id` column. In that case, we can use the `pandas drop_duplicates` to only keep the first row in each set of duplicate `_id`s:"
   ]
  },
  {
   "cell_type": "code",
   "execution_count": 27,
   "metadata": {
    "collapsed": false
   },
   "outputs": [],
   "source": [
    "deduped2 = deduped.drop_duplicates(subset=['_id'])"
   ]
  },
  {
   "cell_type": "markdown",
   "metadata": {},
   "source": [
    "Lets re-do our check. Recall that before we had a lot more total rows than unique symbols. Now we're expecting there to be exactly as many rows as unique symbols, plus an extra 2 for those genes with duplicate hits (`1700086O06Rik` and `1810053B23Rik`)."
   ]
  },
  {
   "cell_type": "code",
   "execution_count": 28,
   "metadata": {
    "collapsed": false
   },
   "outputs": [
    {
     "name": "stdout",
     "output_type": "stream",
     "text": [
      "528 symbols in original list\n",
      "9 ID not found\n",
      "497 unique IDs in results\n",
      "493 unique symbols in results\n",
      "497 total rows in results\n"
     ]
    }
   ],
   "source": [
    "print(len(li_unique), \"symbols in original list\")\n",
    "print(len(results['missing']), \"ID not found\")\n",
    "print(len(deduped2._id.unique()), \"unique IDs in results\")\n",
    "print(len(deduped2.symbol.unique()), \"unique symbols in results\")\n",
    "print(len(deduped2), \"total rows in results\")"
   ]
  },
  {
   "cell_type": "markdown",
   "metadata": {},
   "source": [
    "Excellent! Let's recap . . .\n",
    "\n",
    "## Recap\n",
    "We queried MyGene.info using the list of genes from the supplemental table. When we told MyGene that our gene list contained \"symbol\", it couldn't find 68 genes. Inspecting those results, we found that some gene identifiers in our starting list were actually \"alias\". When we included \"alias\" in our search, we were able to identify another 59 genes, with 9 remaining unidentified.\n",
    "\n",
    "This came with a cost: we got more duplicates. But we came up with a strategy to resolve those duplicates.\n",
    "\n",
    "Then we figured out that the original gene list had synonyms in it, so we worked out how to fix that.\n",
    "\n",
    "Next we need to work on those 9 remaining unidentified genes. For each one, we will figure out if there is a different identifier we should be using and keep track of what the new one should be.\n",
    "\n",
    "Some of them we'll be able to assign a new name that MyGene can use; others we may have to completely remove. We'll use the `to_fix` dictionary to keep track of the former case, and the `to_remove` list for the latter."
   ]
  },
  {
   "cell_type": "code",
   "execution_count": 29,
   "metadata": {
    "collapsed": false
   },
   "outputs": [],
   "source": [
    "to_fix = dict()\n",
    "to_remove = []"
   ]
  },
  {
   "cell_type": "markdown",
   "metadata": {},
   "source": [
    "Recall that above we could query MyGene for a single gene, without telling it what kind of identifier we were giving it. That's how we figured out we needed to tell MyGene we had \"alias\" and \"symbol\" in our list. For each gene, we'll try the same strategy to get more info. Failing that, we try google to figure out what gene we really mean.\n",
    "\n",
    "## Resolving the missing genes\n",
    "\n",
    "### AI4494419(Pif1)"
   ]
  },
  {
   "cell_type": "code",
   "execution_count": 30,
   "metadata": {
    "collapsed": false
   },
   "outputs": [
    {
     "name": "stdout",
     "output_type": "stream",
     "text": [
      "symbol: Pif1\n"
     ]
    }
   ],
   "source": [
    "mg.query('AI4494419(Pif1)', species='mouse', fields='accession,alias,ipi,name,refseq,reporter,symbol,unigene,uniprot')\n",
    "\n",
    "# Try just the first part of the identifier?\n",
    "mg.query('AI4494419', species='mouse', fields='accession,alias,ipi,name,refseq,reporter,symbol,unigene,uniprot')\n",
    "\n",
    "# Nope. Last part?\n",
    "res = mg.query('Pif1', species='mouse');\n",
    "\n",
    "# That was a hit, but to simplify the output I'm showing only the relevant part.\n",
    "print(\"symbol:\", res['hits'][0]['symbol'])"
   ]
  },
  {
   "cell_type": "markdown",
   "metadata": {},
   "source": [
    "Success! Deleting the first part of the symbol seems to have worked.\n",
    "\n",
    "Let's make sure `Pif1` is not already in our list:"
   ]
  },
  {
   "cell_type": "code",
   "execution_count": 31,
   "metadata": {
    "collapsed": false
   },
   "outputs": [
    {
     "data": {
      "text/plain": [
       "True"
      ]
     },
     "execution_count": 31,
     "metadata": {},
     "output_type": "execute_result"
    }
   ],
   "source": [
    "'Pif1' in li_unique.symbol"
   ]
  },
  {
   "cell_type": "markdown",
   "metadata": {},
   "source": [
    "Oh wait, it's already there. So we should add `AI4494419(Pif1)` to the list of genes to remove since it's a duplicate with the existing `Pif1`."
   ]
  },
  {
   "cell_type": "code",
   "execution_count": 32,
   "metadata": {
    "collapsed": false
   },
   "outputs": [],
   "source": [
    "to_remove.append('AI4494419(Pif1)')"
   ]
  },
  {
   "cell_type": "markdown",
   "metadata": {},
   "source": [
    "### Arlh2"
   ]
  },
  {
   "cell_type": "code",
   "execution_count": 33,
   "metadata": {
    "collapsed": false
   },
   "outputs": [
    {
     "data": {
      "text/plain": [
       "{'hits': [], 'max_score': None, 'took': 2, 'total': 0}"
      ]
     },
     "execution_count": 33,
     "metadata": {},
     "output_type": "execute_result"
    }
   ],
   "source": [
    "mg.query('Arlh2')"
   ]
  },
  {
   "cell_type": "markdown",
   "metadata": {},
   "source": [
    "This is a sneaky one. I googled around for a bit. I found [a patent](http://www.google.com/patents/WO2012045157A1?cl=en) that refers once to a gene \"Arlh2\" , but in the rest of the document it's referring to \"Arih2\". So there's a typo in the patent, and I think this is a typo in the supplemental table. Do we get anything for \"Arih2\"?"
   ]
  },
  {
   "cell_type": "code",
   "execution_count": 34,
   "metadata": {
    "collapsed": false
   },
   "outputs": [
    {
     "data": {
      "text/plain": [
       "{'hits': [{'_id': '23807',\n",
       "   'entrezgene': 23807,\n",
       "   'name': 'ariadne RBR E3 ubiquitin protein ligase 2',\n",
       "   'symbol': 'Arih2',\n",
       "   'taxid': 10090}],\n",
       " 'max_score': 353.691,\n",
       " 'took': 2,\n",
       " 'total': 1}"
      ]
     },
     "execution_count": 34,
     "metadata": {},
     "output_type": "execute_result"
    }
   ],
   "source": [
    "mg.query('Arih2', species='mouse')"
   ]
  },
  {
   "cell_type": "markdown",
   "metadata": {},
   "source": [
    "Success! Make sure it's not in the list already:"
   ]
  },
  {
   "cell_type": "code",
   "execution_count": 35,
   "metadata": {
    "collapsed": false
   },
   "outputs": [
    {
     "name": "stdout",
     "output_type": "stream",
     "text": [
      "False\n"
     ]
    }
   ],
   "source": [
    "print('Arih2' in li_unique.symbol)"
   ]
  },
  {
   "cell_type": "markdown",
   "metadata": {},
   "source": [
    "Great, we'll add it to the list of gene names to fix:"
   ]
  },
  {
   "cell_type": "code",
   "execution_count": 36,
   "metadata": {
    "collapsed": false
   },
   "outputs": [],
   "source": [
    "to_fix['Arlh2'] = 'Arih2'"
   ]
  },
  {
   "cell_type": "markdown",
   "metadata": {},
   "source": [
    "### BC030863"
   ]
  },
  {
   "cell_type": "code",
   "execution_count": 37,
   "metadata": {
    "collapsed": false
   },
   "outputs": [
    {
     "name": "stdout",
     "output_type": "stream",
     "text": [
      "accession: BC030863\n",
      "symbol: Mical3\n"
     ]
    }
   ],
   "source": [
    "res = mg.query('BC030863', species='mouse', fields='all')\n",
    "\n",
    "# Got a hit; I'm only showing the relevant entry here\n",
    "print('accession:', res['hits'][0]['accession']['rna'][12])\n",
    "print('symbol:', res['hits'][0]['symbol'])"
   ]
  },
  {
   "cell_type": "markdown",
   "metadata": {},
   "source": [
    "Looks like `BC030863` is the accession of a cDNA of the `Mical3` gene. Do we already have this in the original?"
   ]
  },
  {
   "cell_type": "code",
   "execution_count": 38,
   "metadata": {
    "collapsed": false
   },
   "outputs": [
    {
     "data": {
      "text/plain": [
       "False"
      ]
     },
     "execution_count": 38,
     "metadata": {},
     "output_type": "execute_result"
    }
   ],
   "source": [
    "'Mical3' in li_unique.symbol"
   ]
  },
  {
   "cell_type": "markdown",
   "metadata": {},
   "source": [
    "OK, add it to the list of genes to fix:"
   ]
  },
  {
   "cell_type": "code",
   "execution_count": 39,
   "metadata": {
    "collapsed": false
   },
   "outputs": [],
   "source": [
    "to_fix['BC030863'] = 'Mical3'"
   ]
  },
  {
   "cell_type": "markdown",
   "metadata": {},
   "source": [
    "### Dig7"
   ]
  },
  {
   "cell_type": "code",
   "execution_count": 40,
   "metadata": {
    "collapsed": false
   },
   "outputs": [
    {
     "data": {
      "text/plain": [
       "{'hits': [], 'max_score': None, 'took': 2, 'total': 0}"
      ]
     },
     "execution_count": 40,
     "metadata": {},
     "output_type": "execute_result"
    }
   ],
   "source": [
    "mg.query('Dig7', species='mouse', fields='all')"
   ]
  },
  {
   "cell_type": "markdown",
   "metadata": {},
   "source": [
    "I can't find any information about `Dig7`. However, recognizing that there was a `l` -> `i` typo from `Alrh2` above, let's try the reverse typo:"
   ]
  },
  {
   "cell_type": "code",
   "execution_count": 41,
   "metadata": {
    "collapsed": false
   },
   "outputs": [
    {
     "name": "stdout",
     "output_type": "stream",
     "text": [
      "symbol: Dlgap5\n",
      "alias: ['C77459', 'C86398', 'Dap-5', 'Dlg7', 'Hurp', 'mKIAA0008']\n"
     ]
    }
   ],
   "source": [
    "res = mg.query('Dlg7', species='mouse', fields='all')\n",
    "\n",
    "# Got a hit, only show relevant info\n",
    "print(\"symbol:\", res['hits'][0]['symbol'])\n",
    "print(\"alias:\", res['hits'][0]['alias'])"
   ]
  },
  {
   "cell_type": "markdown",
   "metadata": {},
   "source": [
    "Let's call this a success -- one of the PubMed text reference search results talks about `Dlg7` in the context of regenerating liver."
   ]
  },
  {
   "cell_type": "code",
   "execution_count": 42,
   "metadata": {
    "collapsed": false
   },
   "outputs": [
    {
     "name": "stdout",
     "output_type": "stream",
     "text": [
      "False\n"
     ]
    }
   ],
   "source": [
    "print('Dlgap5' in li_unique.symbol)\n",
    "\n",
    "to_fix['Dig7'] = 'Dlgap5'"
   ]
  },
  {
   "cell_type": "markdown",
   "metadata": {},
   "source": [
    "### Digap5"
   ]
  },
  {
   "cell_type": "code",
   "execution_count": 43,
   "metadata": {
    "collapsed": false
   },
   "outputs": [],
   "source": [
    "mg.query('Digap5', species='mouse', fields='all');"
   ]
  },
  {
   "cell_type": "code",
   "execution_count": 44,
   "metadata": {
    "collapsed": false
   },
   "outputs": [],
   "source": [
    "res = mg.query('Dlgap5', species='mouse', fields='all')"
   ]
  },
  {
   "cell_type": "markdown",
   "metadata": {},
   "source": [
    "Got a hit, only show relevant info"
   ]
  },
  {
   "cell_type": "code",
   "execution_count": 45,
   "metadata": {
    "collapsed": false
   },
   "outputs": [
    {
     "name": "stdout",
     "output_type": "stream",
     "text": [
      "symbol: Dlgap5\n",
      "alias: ['C77459', 'C86398', 'Dap-5', 'Dlg7', 'Hurp', 'mKIAA0008']\n"
     ]
    }
   ],
   "source": [
    "print(\"symbol:\", res['hits'][0]['symbol'])\n",
    "print(\"alias:\", res['hits'][0]['alias'])"
   ]
  },
  {
   "cell_type": "markdown",
   "metadata": {},
   "source": [
    "However, note the gene symbol is the same as the gene we were just working on.  `Dlg7` (nee `Dig7`) and `Dlgap5` (nee `Digap5`) refer to the same gene. So let's add it to the list of genes to remove from the table:"
   ]
  },
  {
   "cell_type": "code",
   "execution_count": 46,
   "metadata": {
    "collapsed": false
   },
   "outputs": [],
   "source": [
    "to_remove.append('Digap5')"
   ]
  },
  {
   "cell_type": "markdown",
   "metadata": {},
   "source": [
    "### Frngtt"
   ]
  },
  {
   "cell_type": "code",
   "execution_count": 47,
   "metadata": {
    "collapsed": false
   },
   "outputs": [
    {
     "data": {
      "text/plain": [
       "{'hits': [], 'max_score': None, 'took': 1, 'total': 0}"
      ]
     },
     "execution_count": 47,
     "metadata": {},
     "output_type": "execute_result"
    }
   ],
   "source": [
    "mg.query('Frngtt', species='mouse', fields='all')"
   ]
  },
  {
   "cell_type": "markdown",
   "metadata": {},
   "source": [
    "Googling doesn't yield anything useful. Then I tried knocking off letters from the gene name:"
   ]
  },
  {
   "cell_type": "code",
   "execution_count": 48,
   "metadata": {
    "collapsed": false
   },
   "outputs": [
    {
     "name": "stdout",
     "output_type": "stream",
     "text": [
      "symbol: Rngtt\n",
      "alias: ['AU020997', 'HCE', 'MCE1']\n"
     ]
    }
   ],
   "source": [
    "mg.query('Frngt', species='mouse', fields='all')\n",
    "\n",
    "res = mg.query('rngtt', species='mouse', fields='all')\n",
    "# Got a hit, only show relevant info\n",
    "print(\"symbol:\", res['hits'][0]['symbol'])\n",
    "print(\"alias:\", res['hits'][0]['alias'])"
   ]
  },
  {
   "cell_type": "markdown",
   "metadata": {},
   "source": [
    "Hmm, this seems questionable. The info on `Rngtt` doesn't have anything obviously erythroid-like, and \"adding an extra F\" doesn't seem like a common typo.\n",
    "\n",
    "Is it already in the list?"
   ]
  },
  {
   "cell_type": "code",
   "execution_count": 49,
   "metadata": {
    "collapsed": false
   },
   "outputs": [
    {
     "data": {
      "text/plain": [
       "True"
      ]
     },
     "execution_count": 49,
     "metadata": {},
     "output_type": "execute_result"
    }
   ],
   "source": [
    "'Rngtt' in li_unique.symbol"
   ]
  },
  {
   "cell_type": "markdown",
   "metadata": {},
   "source": [
    "Ah. It's already there. Since I can't figure out what other gene it could be, let's remove this version with a \"F\" in front of it."
   ]
  },
  {
   "cell_type": "code",
   "execution_count": 50,
   "metadata": {
    "collapsed": false
   },
   "outputs": [],
   "source": [
    "to_remove.append('Frngtt')"
   ]
  },
  {
   "cell_type": "markdown",
   "metadata": {},
   "source": [
    "### Galn10"
   ]
  },
  {
   "cell_type": "code",
   "execution_count": 51,
   "metadata": {
    "collapsed": false
   },
   "outputs": [
    {
     "data": {
      "text/plain": [
       "{'hits': [], 'max_score': None, 'took': 2, 'total': 0}"
      ]
     },
     "execution_count": 51,
     "metadata": {},
     "output_type": "execute_result"
    }
   ],
   "source": [
    "mg.query('Galn10', species='mouse', fields='all')"
   ]
  },
  {
   "cell_type": "markdown",
   "metadata": {},
   "source": [
    "Nothing easy, and nothing showing up in google either. Let's try changing or removing characters to see if we get any hits."
   ]
  },
  {
   "cell_type": "code",
   "execution_count": 52,
   "metadata": {
    "collapsed": false
   },
   "outputs": [
    {
     "name": "stdout",
     "output_type": "stream",
     "text": [
      "symbol: Gal\n",
      "alias: Galn\n"
     ]
    }
   ],
   "source": [
    "mg.query('Gain10', species='mouse', fields='all')\n",
    "\n",
    "\n",
    "\n",
    "mg.query('aln10', species='mouse', fields='all')\n",
    "\n",
    "\n",
    "\n",
    "res = mg.query('Galn', species='mouse', fields='all')\n",
    "# Got a hit, only show relevant info\n",
    "print(\"symbol:\", res['hits'][0]['symbol'])\n",
    "print(\"alias:\", res['hits'][0]['alias'])"
   ]
  },
  {
   "cell_type": "markdown",
   "metadata": {},
   "source": [
    "Wow, looking at the full output it looks like `Galn` is involved in many things. Given all its roles in the nervous system it's certainly not erythroid-specific, but maybe it's expressed in erythroid?  If we want to assume `Galn` is the name for `Galn10` then we can keep it for now, otherwise we can remove it later."
   ]
  },
  {
   "cell_type": "code",
   "execution_count": 53,
   "metadata": {
    "collapsed": false
   },
   "outputs": [
    {
     "name": "stdout",
     "output_type": "stream",
     "text": [
      "False\n"
     ]
    }
   ],
   "source": [
    "print('Galn' in li_unique.symbol)\n",
    "\n",
    "\n",
    "\n",
    "to_fix['Galn10'] = 'Galn'\n",
    "# to_remove.append('Galn10')"
   ]
  },
  {
   "cell_type": "markdown",
   "metadata": {},
   "source": [
    "### LOC433237"
   ]
  },
  {
   "cell_type": "code",
   "execution_count": 54,
   "metadata": {
    "collapsed": false
   },
   "outputs": [
    {
     "data": {
      "text/plain": [
       "{'hits': [], 'max_score': None, 'took': 2, 'total': 0}"
      ]
     },
     "execution_count": 54,
     "metadata": {},
     "output_type": "execute_result"
    }
   ],
   "source": [
    "mg.query('LOC433237', species='mouse', fields='all')"
   ]
  },
  {
   "cell_type": "markdown",
   "metadata": {},
   "source": [
    "Tricky. I was able to find a `LOC433237` in the Allen Brain Atlas, which I guess MyGene.info doesn't integrate as a data source. From ABA, it says the gene symbol is `Gm9895`."
   ]
  },
  {
   "cell_type": "code",
   "execution_count": 55,
   "metadata": {
    "collapsed": false
   },
   "outputs": [
    {
     "name": "stdout",
     "output_type": "stream",
     "text": [
      "symbol: Gm9895\n"
     ]
    }
   ],
   "source": [
    "res = mg.query('Gm9895', species='mouse', fields='all')\n",
    "print(\"symbol:\", res['hits'][0]['symbol'])"
   ]
  },
  {
   "cell_type": "markdown",
   "metadata": {},
   "source": [
    "Not much known here -- looking at the full output, it's a predicted ncRNA. I think we should remove it."
   ]
  },
  {
   "cell_type": "code",
   "execution_count": 56,
   "metadata": {
    "collapsed": false
   },
   "outputs": [
    {
     "data": {
      "text/plain": [
       "False"
      ]
     },
     "execution_count": 56,
     "metadata": {},
     "output_type": "execute_result"
    }
   ],
   "source": [
    "'Gm9895' in li_unique.symbol"
   ]
  },
  {
   "cell_type": "code",
   "execution_count": 57,
   "metadata": {
    "collapsed": false
   },
   "outputs": [],
   "source": [
    "to_remove.append('LOC433237')"
   ]
  },
  {
   "cell_type": "markdown",
   "metadata": {},
   "source": [
    "### Nprl3(Mare)\t"
   ]
  },
  {
   "cell_type": "code",
   "execution_count": 58,
   "metadata": {
    "collapsed": false
   },
   "outputs": [
    {
     "name": "stdout",
     "output_type": "stream",
     "text": [
      "symbol: Nprl3\n",
      "alias: ['Aag', 'CGTHBA', 'HS-26', 'HS-40', 'Mare', 'Phg', 'Prox1', 'm(alpha)RE']\n"
     ]
    }
   ],
   "source": [
    "res = mg.query('Nprl3(Mare)', species='mouse', fields='all')\n",
    "\n",
    "print(\"symbol:\", res['hits'][0]['symbol'])\n",
    "print(\"alias:\", res['hits'][0]['alias'])"
   ]
  },
  {
   "cell_type": "markdown",
   "metadata": {},
   "source": [
    "This one was pretty easy. The original identifier was a mashup of the symbol and one of the aliases."
   ]
  },
  {
   "cell_type": "code",
   "execution_count": 59,
   "metadata": {
    "collapsed": false
   },
   "outputs": [],
   "source": [
    "to_fix['Nprl3(Mare)'] = 'Nprl3'"
   ]
  },
  {
   "cell_type": "markdown",
   "metadata": {},
   "source": [
    "## Recap on problematic genes\n",
    "We've gone through one-by-one to figure out why genes were not being found by MyGene.info. In some cases it was a typo, in others it was a mashup of multiple identifiers, and some were duplicates. Here's what we figured out:"
   ]
  },
  {
   "cell_type": "code",
   "execution_count": 60,
   "metadata": {
    "collapsed": false
   },
   "outputs": [
    {
     "data": {
      "text/plain": [
       "{'Arlh2': 'Arih2',\n",
       " 'BC030863': 'Mical3',\n",
       " 'Dig7': 'Dlgap5',\n",
       " 'Galn10': 'Galn',\n",
       " 'Nprl3(Mare)': 'Nprl3'}"
      ]
     },
     "execution_count": 60,
     "metadata": {},
     "output_type": "execute_result"
    }
   ],
   "source": [
    "to_fix"
   ]
  },
  {
   "cell_type": "code",
   "execution_count": 61,
   "metadata": {
    "collapsed": false
   },
   "outputs": [
    {
     "data": {
      "text/plain": [
       "['AI4494419(Pif1)', 'Digap5', 'Frngtt', 'LOC433237']"
      ]
     },
     "execution_count": 61,
     "metadata": {},
     "output_type": "execute_result"
    }
   ],
   "source": [
    "to_remove"
   ]
  },
  {
   "cell_type": "markdown",
   "metadata": {},
   "source": [
    "Let's make a function that will fix a list of genes. And then run it:"
   ]
  },
  {
   "cell_type": "code",
   "execution_count": 62,
   "metadata": {
    "collapsed": false
   },
   "outputs": [],
   "source": [
    "def fix(gene_list, to_fix, to_remove):\n",
    "    \"\"\"\n",
    "    Converts and/or removes genes from `gene_list`.\n",
    "    \"\"\"\n",
    "    fixed = []\n",
    "    for gene in gene_list:\n",
    "        if gene in to_remove:\n",
    "            continue\n",
    "        if gene in to_fix:\n",
    "            gene = to_fix[gene]\n",
    "        fixed.append(gene)\n",
    "    return fixed\n",
    "\n",
    "\n",
    "\n",
    "li_fixed = fix(li_unique.symbol, to_fix, to_remove)        "
   ]
  },
  {
   "cell_type": "markdown",
   "metadata": {},
   "source": [
    "With our newly-fixed list of genes, we can re-run the query. We're still expecting to get duplicates, but we've worked out how to fix them already. We're mostly making sure that we find all genes we're looking for:"
   ]
  },
  {
   "cell_type": "code",
   "execution_count": 63,
   "metadata": {
    "collapsed": false
   },
   "outputs": [
    {
     "name": "stdout",
     "output_type": "stream",
     "text": [
      "Finished.\n",
      "36 input query terms found dup hits:\n",
      "\t[('1600023N17Rik', 2), ('Amd1', 3), ('Elf1', 3), ('Add1', 2), ('6430706D22Rik', 2), ('Eif4e', 2), ('\n"
     ]
    }
   ],
   "source": [
    "results = mg.querymany(\n",
    "    li_fixed,\n",
    "    species='mouse',\n",
    "    scopes='symbol,alias',\n",
    "    fields='symbol,ensembl.gene,entrezgene,name,alias',\n",
    "    as_dataframe=True,\n",
    "    returnall=True\n",
    ")"
   ]
  },
  {
   "cell_type": "markdown",
   "metadata": {},
   "source": [
    "Looks good -- we don't have any missing genes! Now let's create a function that performs all the de-duplicating stuff we worked out earlier. To recap, there are two kinds of \"duplicates\". \n",
    "\n",
    "1. The first is when MyGene finds multiple hits for a single gene. For example, we gave `Med1` above and MyGene found the text `Med1` in the symbol field of one gene, the alias field of another, and the text `mED1` in the alias field of another. We fix these by only keeping those where `symbol` in the result matches the query (in the `Med1` case, the gene with `symbol=Med1`).\n",
    "2. The second is when different genes in the query find the same hit in MyGene (synonyms in the query). We fix these by only keeping one of the returned rows."
   ]
  },
  {
   "cell_type": "code",
   "execution_count": 64,
   "metadata": {
    "collapsed": false
   },
   "outputs": [],
   "source": [
    "def dedup_multiple_hits(results):\n",
    "    \"\"\"\n",
    "    Addresses the problem of multiple hits for one gene. This can \n",
    "    happen, for example, if a query shows up in multiple genes'\n",
    "    alias field.\n",
    "    \n",
    "    This is resolved by looking at the duplicate rows, keeping only\n",
    "    those where the query matches the symbol, and replacing the\n",
    "    duplicate rows in results['out'] with the uniqued rows.\n",
    "    \n",
    "    Assumes `results` is the output from MyGene.querymany()\n",
    "    using the `returnall=True` arg such that::\n",
    "    \n",
    "        results.keys() = ['dup', 'out', 'missing']\n",
    "        \n",
    "    Returns a de-duplicated DataFrame.\n",
    "    \"\"\"\n",
    "\n",
    "    # Get a list of duplicate symbols\n",
    "    dup_symbols = [i[0] for i in results['dup']]\n",
    "\n",
    "    # Select rows for those symbols\n",
    "    dups = results['out'].ix[dup_symbols]\n",
    "\n",
    "    # Identify where query ('index') matches symbol\n",
    "    query_matches_symbol = dups.index == dups.symbol\n",
    "\n",
    "    # Double-check that the strategy worked: after de-duping, \n",
    "    # we should still have the same genes and only one row for each\n",
    "    orig = set(dups.index)\n",
    "    fixed = set(dups.index[query_matches_symbol])\n",
    "    assert orig == fixed\n",
    "    assert len(orig) == len(fixed) == len(dup_symbols)\n",
    "\n",
    "    # Keep only those duplicates whose symbol matches the query\n",
    "    deduped = dups[query_matches_symbol]\n",
    "    \n",
    "    return pandas.concat(\n",
    "        (results['out'].drop(dup_symbols),\n",
    "         deduped)\n",
    "    )\n",
    "\n",
    "\n",
    "def remove_synonyms(df):\n",
    "    # Due to synonyms in the input query list, we may\n",
    "    # have duplicate IDs. Just keep the first one.\n",
    "    return df.drop_duplicates(subset=['_id'])\n",
    "\n",
    "\n",
    "def check(orig, results, to_check):\n",
    "    \"\"\"\n",
    "    Prints out some info about the total and unique symbols and IDs.\n",
    "    \n",
    "    Returns a DataFrame where there are still remaining symbols.\n",
    "    \"\"\"\n",
    "    print(len(orig), \"symbols in original list\")\n",
    "    print(len(results['missing']), \"ID not found\")\n",
    "    print(len(to_check._id.unique()), \"unique IDs in results\")\n",
    "    print(len(to_check.symbol.unique()), \"unique symbols in results\")\n",
    "    print(len(to_check), \"total rows in results\")\n",
    "    remaining = pandas.DataFrame()\n",
    "    for _id, group in to_check.groupby('symbol'):\n",
    "        if len(group) > 1:\n",
    "            remaining = pandas.concat((remaining, group))\n",
    "    return remaining\n",
    "   \n",
    "\n",
    "\n",
    "\n",
    "deduped = dedup_multiple_hits(results)"
   ]
  },
  {
   "cell_type": "markdown",
   "metadata": {},
   "source": [
    "Our new function, `check()`, returns the cases where multiple rows have the same symbol. Let's run it on the new `deduped` dataframe. We're still expecting synonyms to be in here, since we haven't run our new `remove_synonyms` function yet."
   ]
  },
  {
   "cell_type": "code",
   "execution_count": 65,
   "metadata": {
    "collapsed": false
   },
   "outputs": [
    {
     "name": "stdout",
     "output_type": "stream",
     "text": [
      "524 symbols in original list\n",
      "0 ID not found\n",
      "501 unique IDs in results\n",
      "497 unique symbols in results\n",
      "528 total rows in results\n"
     ]
    }
   ],
   "source": [
    "check(li_fixed, results, deduped);"
   ]
  },
  {
   "cell_type": "markdown",
   "metadata": {},
   "source": [
    "Now let's see how well we do after removing synonyms:"
   ]
  },
  {
   "cell_type": "code",
   "execution_count": 66,
   "metadata": {
    "collapsed": false
   },
   "outputs": [
    {
     "name": "stdout",
     "output_type": "stream",
     "text": [
      "524 symbols in original list\n",
      "0 ID not found\n",
      "501 unique IDs in results\n",
      "497 unique symbols in results\n",
      "501 total rows in results\n"
     ]
    },
    {
     "data": {
      "text/html": [
       "<div>\n",
       "<table border=\"1\" class=\"dataframe\">\n",
       "  <thead>\n",
       "    <tr style=\"text-align: right;\">\n",
       "      <th></th>\n",
       "      <th>_id</th>\n",
       "      <th>alias</th>\n",
       "      <th>ensembl</th>\n",
       "      <th>ensembl.gene</th>\n",
       "      <th>entrezgene</th>\n",
       "      <th>name</th>\n",
       "      <th>symbol</th>\n",
       "    </tr>\n",
       "    <tr>\n",
       "      <th>query</th>\n",
       "      <th></th>\n",
       "      <th></th>\n",
       "      <th></th>\n",
       "      <th></th>\n",
       "      <th></th>\n",
       "      <th></th>\n",
       "      <th></th>\n",
       "    </tr>\n",
       "  </thead>\n",
       "  <tbody>\n",
       "    <tr>\n",
       "      <th>1110006O24Rik</th>\n",
       "      <td>ENSMUSG00000107121</td>\n",
       "      <td>NaN</td>\n",
       "      <td>NaN</td>\n",
       "      <td>ENSMUSG00000107121</td>\n",
       "      <td>NaN</td>\n",
       "      <td>RIKEN cDNA 1110006O24 gene</td>\n",
       "      <td>1110006O24Rik</td>\n",
       "    </tr>\n",
       "    <tr>\n",
       "      <th>1110006O24Rik</th>\n",
       "      <td>66123</td>\n",
       "      <td>NaN</td>\n",
       "      <td>NaN</td>\n",
       "      <td>NaN</td>\n",
       "      <td>66123</td>\n",
       "      <td>RIKEN cDNA 1110006O24 gene</td>\n",
       "      <td>1110006O24Rik</td>\n",
       "    </tr>\n",
       "    <tr>\n",
       "      <th>1600023N17Rik</th>\n",
       "      <td>ENSMUSG00000104986</td>\n",
       "      <td>NaN</td>\n",
       "      <td>NaN</td>\n",
       "      <td>ENSMUSG00000104986</td>\n",
       "      <td>NaN</td>\n",
       "      <td>RIKEN cDNA 1600023N17 gene</td>\n",
       "      <td>1600023N17Rik</td>\n",
       "    </tr>\n",
       "    <tr>\n",
       "      <th>1600023N17Rik</th>\n",
       "      <td>69788</td>\n",
       "      <td>AV119442</td>\n",
       "      <td>NaN</td>\n",
       "      <td>NaN</td>\n",
       "      <td>69788</td>\n",
       "      <td>RIKEN cDNA 1600023N17 gene</td>\n",
       "      <td>1600023N17Rik</td>\n",
       "    </tr>\n",
       "    <tr>\n",
       "      <th>1700086O06Rik</th>\n",
       "      <td>ENSMUSG00000097080</td>\n",
       "      <td>NaN</td>\n",
       "      <td>NaN</td>\n",
       "      <td>ENSMUSG00000097080</td>\n",
       "      <td>NaN</td>\n",
       "      <td>RIKEN cDNA 1700086O06 gene</td>\n",
       "      <td>1700086O06Rik</td>\n",
       "    </tr>\n",
       "    <tr>\n",
       "      <th>1700086O06Rik</th>\n",
       "      <td>73516</td>\n",
       "      <td>NaN</td>\n",
       "      <td>NaN</td>\n",
       "      <td>NaN</td>\n",
       "      <td>73516</td>\n",
       "      <td>RIKEN cDNA 1700086O06 gene</td>\n",
       "      <td>1700086O06Rik</td>\n",
       "    </tr>\n",
       "    <tr>\n",
       "      <th>1810053B23Rik</th>\n",
       "      <td>ENSMUSG00000100277</td>\n",
       "      <td>NaN</td>\n",
       "      <td>NaN</td>\n",
       "      <td>ENSMUSG00000100277</td>\n",
       "      <td>NaN</td>\n",
       "      <td>RIKEN cDNA 1810053B23 gene</td>\n",
       "      <td>1810053B23Rik</td>\n",
       "    </tr>\n",
       "    <tr>\n",
       "      <th>1810053B23Rik</th>\n",
       "      <td>69857</td>\n",
       "      <td>[1810008L18Rik, 1810056K14Rik]</td>\n",
       "      <td>NaN</td>\n",
       "      <td>NaN</td>\n",
       "      <td>69857</td>\n",
       "      <td>RIKEN cDNA 1810053B23 gene</td>\n",
       "      <td>1810053B23Rik</td>\n",
       "    </tr>\n",
       "  </tbody>\n",
       "</table>\n",
       "</div>"
      ],
      "text/plain": [
       "                              _id                           alias ensembl  \\\n",
       "query                                                                       \n",
       "1110006O24Rik  ENSMUSG00000107121                             NaN     NaN   \n",
       "1110006O24Rik               66123                             NaN     NaN   \n",
       "1600023N17Rik  ENSMUSG00000104986                             NaN     NaN   \n",
       "1600023N17Rik               69788                        AV119442     NaN   \n",
       "1700086O06Rik  ENSMUSG00000097080                             NaN     NaN   \n",
       "1700086O06Rik               73516                             NaN     NaN   \n",
       "1810053B23Rik  ENSMUSG00000100277                             NaN     NaN   \n",
       "1810053B23Rik               69857  [1810008L18Rik, 1810056K14Rik]     NaN   \n",
       "\n",
       "                     ensembl.gene  entrezgene                        name  \\\n",
       "query                                                                       \n",
       "1110006O24Rik  ENSMUSG00000107121         NaN  RIKEN cDNA 1110006O24 gene   \n",
       "1110006O24Rik                 NaN       66123  RIKEN cDNA 1110006O24 gene   \n",
       "1600023N17Rik  ENSMUSG00000104986         NaN  RIKEN cDNA 1600023N17 gene   \n",
       "1600023N17Rik                 NaN       69788  RIKEN cDNA 1600023N17 gene   \n",
       "1700086O06Rik  ENSMUSG00000097080         NaN  RIKEN cDNA 1700086O06 gene   \n",
       "1700086O06Rik                 NaN       73516  RIKEN cDNA 1700086O06 gene   \n",
       "1810053B23Rik  ENSMUSG00000100277         NaN  RIKEN cDNA 1810053B23 gene   \n",
       "1810053B23Rik                 NaN       69857  RIKEN cDNA 1810053B23 gene   \n",
       "\n",
       "                      symbol  \n",
       "query                         \n",
       "1110006O24Rik  1110006O24Rik  \n",
       "1110006O24Rik  1110006O24Rik  \n",
       "1600023N17Rik  1600023N17Rik  \n",
       "1600023N17Rik  1600023N17Rik  \n",
       "1700086O06Rik  1700086O06Rik  \n",
       "1700086O06Rik  1700086O06Rik  \n",
       "1810053B23Rik  1810053B23Rik  \n",
       "1810053B23Rik  1810053B23Rik  "
      ]
     },
     "execution_count": 66,
     "metadata": {},
     "output_type": "execute_result"
    }
   ],
   "source": [
    "rm_syn = remove_synonyms(deduped)\n",
    "check(li_fixed, results, rm_syn)"
   ]
  },
  {
   "cell_type": "markdown",
   "metadata": {},
   "source": [
    "Not bad. We got our original two problematic symbols, but also `Mical3`. Looking closer, this should be fine -- `Mical3`  appears to have the same problem as the other two original genes: Ensembl and Entrez don't match up. So now we can write something to merge the information in each set of duplicate rows."
   ]
  },
  {
   "cell_type": "code",
   "execution_count": 67,
   "metadata": {
    "collapsed": false
   },
   "outputs": [],
   "source": [
    "def fill_in_missing_info(x):\n",
    "    \"\"\"\n",
    "    Given a subsetted dataframe, fill in NaNs by borrowing\n",
    "    information from neighboring rows.\n",
    "    \n",
    "    Expects all rows in this subset to be from the same gene and\n",
    "    that exactly one row's `_id` field is not an Ensembl ID.\n",
    "    \"\"\"\n",
    "    # First back-fill any missing values, then front-fill\n",
    "    x = x.fillna(method='bfill')\n",
    "    x = x.fillna(method='ffill')\n",
    "    keep_ind = x._id.apply(lambda j: 'ENS' not in j)\n",
    "    return x[keep_ind]\n",
    "\n",
    "def fix_duplicate_hits(x):\n",
    "    \"\"\"\n",
    "    Subset the dataframe `x` and fill in missing info within each subset\n",
    "    \"\"\"\n",
    "    z = x.groupby(x.index, as_index=False).apply(fill_in_missing_info)\n",
    "    z.index.droplevel()\n",
    "    return z"
   ]
  },
  {
   "cell_type": "markdown",
   "metadata": {},
   "source": [
    "Let's run those new functions on the synonyms-removed data. Hopefully running the `check()` function will return an empty dataframe of unresolved genes, and show a one-to-one mapping of ID to symbol:"
   ]
  },
  {
   "cell_type": "code",
   "execution_count": 68,
   "metadata": {
    "collapsed": false
   },
   "outputs": [
    {
     "name": "stdout",
     "output_type": "stream",
     "text": [
      "528 symbols in original list\n",
      "0 ID not found\n",
      "497 unique IDs in results\n",
      "497 unique symbols in results\n",
      "497 total rows in results\n"
     ]
    },
    {
     "data": {
      "text/html": [
       "<div>\n",
       "<table border=\"1\" class=\"dataframe\">\n",
       "  <thead>\n",
       "    <tr style=\"text-align: right;\">\n",
       "      <th></th>\n",
       "    </tr>\n",
       "  </thead>\n",
       "  <tbody>\n",
       "  </tbody>\n",
       "</table>\n",
       "</div>"
      ],
      "text/plain": [
       "Empty DataFrame\n",
       "Columns: []\n",
       "Index: []"
      ]
     },
     "execution_count": 68,
     "metadata": {},
     "output_type": "execute_result"
    }
   ],
   "source": [
    "final = fix_duplicate_hits(rm_syn)\n",
    "check(li_unique, results, final)"
   ]
  },
  {
   "cell_type": "markdown",
   "metadata": {},
   "source": [
    "Excellent. Let's write a do-it-all function that simply calls our other functions in succession:"
   ]
  },
  {
   "cell_type": "code",
   "execution_count": 69,
   "metadata": {
    "collapsed": false
   },
   "outputs": [],
   "source": [
    "def corrected_results(results):\n",
    "    \"\"\"\n",
    "    Runs the data wrangling functions in order:\n",
    "    \n",
    "        - dedup_multiple_hits\n",
    "        - remove_synonyms\n",
    "        - fix_duplicate_hits\n",
    "    \"\"\"\n",
    "    deduped = dedup_multiple_hits(results)\n",
    "    rm_syn = remove_synonyms(deduped)\n",
    "    return fix_duplicate_hits(rm_syn).reset_index(level=0, drop=True)\n",
    "    \n",
    "\n",
    "\n",
    "\n",
    "final = corrected_results(results)"
   ]
  },
  {
   "cell_type": "markdown",
   "metadata": {},
   "source": [
    "# Hughes et al 2014 genes\n",
    "\n",
    "We'll apply the same sorts of things we learned with the Li et al data on the Hughes et al data. First let's try the easy way: assume we have gene symbols:"
   ]
  },
  {
   "cell_type": "code",
   "execution_count": 70,
   "metadata": {
    "collapsed": false
   },
   "outputs": [
    {
     "name": "stdout",
     "output_type": "stream",
     "text": [
      "Finished.\n",
      "6 input query terms found dup hits:\n",
      "\t[('Snhg1', 2), ('Mir144', 2), ('Cebpd', 2), ('Neat1', 2), ('1810058I24Rik', 2), ('AI662270', 2)]\n",
      "26 input query terms found no hit:\n",
      "\t['1810031K17Rik', 'Spna1', '1110038D17Rik', 'E130309D14Rik', 'AK020764', 'Spnb1', '1110018G07Rik', '\n"
     ]
    }
   ],
   "source": [
    "results = mg.querymany(\n",
    "    list(hughes_unique.symbol),\n",
    "    species='mouse',\n",
    "    scopes='symbol',\n",
    "    fields='symbol,ensembl.gene,entrezgene,name',\n",
    "    as_dataframe=True,\n",
    "    returnall=True\n",
    ")"
   ]
  },
  {
   "cell_type": "markdown",
   "metadata": {},
   "source": [
    "Nope. As we saw above, manually checking genes with no hit is complex and time-consuming. Let's see if we can cut down on the number of genes with no hit by using \"alias\" as an additional scope, like we did before:"
   ]
  },
  {
   "cell_type": "code",
   "execution_count": 71,
   "metadata": {
    "collapsed": false
   },
   "outputs": [
    {
     "name": "stdout",
     "output_type": "stream",
     "text": [
      "Finished.\n",
      "24 input query terms found dup hits:\n",
      "\t[('Snhg1', 2), ('Mir144', 2), ('Fbxo30', 2), ('Sp2', 2), ('Mpg', 2), ('Mpl', 3), ('Cebpd', 2), ('Cat\n",
      "4 input query terms found no hit:\n",
      "\t['AK020764', 'AK043267', '1110020G09Rik', 'AK172315']\n"
     ]
    }
   ],
   "source": [
    "results = mg.querymany(\n",
    "    list(hughes_unique.symbol),\n",
    "    species='mouse',\n",
    "    scopes='symbol,alias',\n",
    "    fields='symbol,ensembl.gene,entrezgene,name',\n",
    "    as_dataframe=True,\n",
    "    returnall=True)"
   ]
  },
  {
   "cell_type": "markdown",
   "metadata": {},
   "source": [
    "Much better! Next we have to see if our `resolve_duplicates` works on these duplicates as well."
   ]
  },
  {
   "cell_type": "code",
   "execution_count": 72,
   "metadata": {
    "collapsed": false
   },
   "outputs": [
    {
     "name": "stdout",
     "output_type": "stream",
     "text": [
      "438 symbols in original list\n",
      "4 ID not found\n",
      "469 unique IDs in results\n",
      "463 unique symbols in results\n",
      "473 total rows in results\n"
     ]
    },
    {
     "data": {
      "text/html": [
       "<div>\n",
       "<table border=\"1\" class=\"dataframe\">\n",
       "  <thead>\n",
       "    <tr style=\"text-align: right;\">\n",
       "      <th></th>\n",
       "      <th>_id</th>\n",
       "      <th>ensembl</th>\n",
       "      <th>ensembl.gene</th>\n",
       "      <th>entrezgene</th>\n",
       "      <th>name</th>\n",
       "      <th>notfound</th>\n",
       "      <th>symbol</th>\n",
       "    </tr>\n",
       "    <tr>\n",
       "      <th>query</th>\n",
       "      <th></th>\n",
       "      <th></th>\n",
       "      <th></th>\n",
       "      <th></th>\n",
       "      <th></th>\n",
       "      <th></th>\n",
       "      <th></th>\n",
       "    </tr>\n",
       "  </thead>\n",
       "  <tbody>\n",
       "    <tr>\n",
       "      <th>1810058I24Rik</th>\n",
       "      <td>ENSMUSG00000073155</td>\n",
       "      <td>NaN</td>\n",
       "      <td>ENSMUSG00000073155</td>\n",
       "      <td>NaN</td>\n",
       "      <td>RIKEN cDNA 1810058I24 gene</td>\n",
       "      <td>NaN</td>\n",
       "      <td>1810058I24Rik</td>\n",
       "    </tr>\n",
       "    <tr>\n",
       "      <th>1810058I24Rik</th>\n",
       "      <td>67705</td>\n",
       "      <td>NaN</td>\n",
       "      <td>NaN</td>\n",
       "      <td>67705</td>\n",
       "      <td>RIKEN cDNA 1810058I24 gene</td>\n",
       "      <td>NaN</td>\n",
       "      <td>1810058I24Rik</td>\n",
       "    </tr>\n",
       "    <tr>\n",
       "      <th>AI662270</th>\n",
       "      <td>ENSMUSG00000087107</td>\n",
       "      <td>NaN</td>\n",
       "      <td>ENSMUSG00000087107</td>\n",
       "      <td>NaN</td>\n",
       "      <td>expressed sequence AI662270</td>\n",
       "      <td>NaN</td>\n",
       "      <td>AI662270</td>\n",
       "    </tr>\n",
       "    <tr>\n",
       "      <th>AI662270</th>\n",
       "      <td>100043636</td>\n",
       "      <td>NaN</td>\n",
       "      <td>NaN</td>\n",
       "      <td>100043636</td>\n",
       "      <td>expressed sequence AI662270</td>\n",
       "      <td>NaN</td>\n",
       "      <td>AI662270</td>\n",
       "    </tr>\n",
       "    <tr>\n",
       "      <th>Cebpd</th>\n",
       "      <td>ENSMUSG00000071637</td>\n",
       "      <td>NaN</td>\n",
       "      <td>ENSMUSG00000071637</td>\n",
       "      <td>NaN</td>\n",
       "      <td>CCAAT/enhancer binding protein (C/EBP), delta</td>\n",
       "      <td>NaN</td>\n",
       "      <td>Cebpd</td>\n",
       "    </tr>\n",
       "    <tr>\n",
       "      <th>Cebpd</th>\n",
       "      <td>12609</td>\n",
       "      <td>NaN</td>\n",
       "      <td>NaN</td>\n",
       "      <td>12609</td>\n",
       "      <td>CCAAT/enhancer binding protein (C/EBP), delta</td>\n",
       "      <td>NaN</td>\n",
       "      <td>Cebpd</td>\n",
       "    </tr>\n",
       "    <tr>\n",
       "      <th>Fn3krp</th>\n",
       "      <td>238024</td>\n",
       "      <td>NaN</td>\n",
       "      <td>ENSMUSG00000039253</td>\n",
       "      <td>238024</td>\n",
       "      <td>fructosamine 3 kinase related protein</td>\n",
       "      <td>NaN</td>\n",
       "      <td>Fn3krp</td>\n",
       "    </tr>\n",
       "    <tr>\n",
       "      <th>Fn3k</th>\n",
       "      <td>238024</td>\n",
       "      <td>NaN</td>\n",
       "      <td>ENSMUSG00000039253</td>\n",
       "      <td>238024</td>\n",
       "      <td>fructosamine 3 kinase related protein</td>\n",
       "      <td>NaN</td>\n",
       "      <td>Fn3krp</td>\n",
       "    </tr>\n",
       "    <tr>\n",
       "      <th>Mir144</th>\n",
       "      <td>ENSMUSG00000065401</td>\n",
       "      <td>NaN</td>\n",
       "      <td>ENSMUSG00000065401</td>\n",
       "      <td>NaN</td>\n",
       "      <td>microRNA 144</td>\n",
       "      <td>NaN</td>\n",
       "      <td>Mir144</td>\n",
       "    </tr>\n",
       "    <tr>\n",
       "      <th>Mir144</th>\n",
       "      <td>387162</td>\n",
       "      <td>NaN</td>\n",
       "      <td>NaN</td>\n",
       "      <td>387162</td>\n",
       "      <td>microRNA 144</td>\n",
       "      <td>NaN</td>\n",
       "      <td>Mir144</td>\n",
       "    </tr>\n",
       "    <tr>\n",
       "      <th>Neat1</th>\n",
       "      <td>66961</td>\n",
       "      <td>NaN</td>\n",
       "      <td>NaN</td>\n",
       "      <td>66961</td>\n",
       "      <td>nuclear paraspeckle assembly transcript 1 (non...</td>\n",
       "      <td>NaN</td>\n",
       "      <td>Neat1</td>\n",
       "    </tr>\n",
       "    <tr>\n",
       "      <th>Neat1</th>\n",
       "      <td>ENSMUSG00000092274</td>\n",
       "      <td>NaN</td>\n",
       "      <td>ENSMUSG00000092274</td>\n",
       "      <td>NaN</td>\n",
       "      <td>nuclear paraspeckle assembly transcript 1 (non...</td>\n",
       "      <td>NaN</td>\n",
       "      <td>Neat1</td>\n",
       "    </tr>\n",
       "    <tr>\n",
       "      <th>Snhg1</th>\n",
       "      <td>83673</td>\n",
       "      <td>NaN</td>\n",
       "      <td>NaN</td>\n",
       "      <td>83673</td>\n",
       "      <td>small nucleolar RNA host gene 1</td>\n",
       "      <td>NaN</td>\n",
       "      <td>Snhg1</td>\n",
       "    </tr>\n",
       "    <tr>\n",
       "      <th>Snhg1</th>\n",
       "      <td>ENSMUSG00000108414</td>\n",
       "      <td>NaN</td>\n",
       "      <td>ENSMUSG00000108414</td>\n",
       "      <td>NaN</td>\n",
       "      <td>small nucleolar RNA host gene 1</td>\n",
       "      <td>NaN</td>\n",
       "      <td>Snhg1</td>\n",
       "    </tr>\n",
       "  </tbody>\n",
       "</table>\n",
       "</div>"
      ],
      "text/plain": [
       "                              _id ensembl        ensembl.gene  entrezgene  \\\n",
       "query                                                                       \n",
       "1810058I24Rik  ENSMUSG00000073155     NaN  ENSMUSG00000073155         NaN   \n",
       "1810058I24Rik               67705     NaN                 NaN       67705   \n",
       "AI662270       ENSMUSG00000087107     NaN  ENSMUSG00000087107         NaN   \n",
       "AI662270                100043636     NaN                 NaN   100043636   \n",
       "Cebpd          ENSMUSG00000071637     NaN  ENSMUSG00000071637         NaN   \n",
       "Cebpd                       12609     NaN                 NaN       12609   \n",
       "Fn3krp                     238024     NaN  ENSMUSG00000039253      238024   \n",
       "Fn3k                       238024     NaN  ENSMUSG00000039253      238024   \n",
       "Mir144         ENSMUSG00000065401     NaN  ENSMUSG00000065401         NaN   \n",
       "Mir144                     387162     NaN                 NaN      387162   \n",
       "Neat1                       66961     NaN                 NaN       66961   \n",
       "Neat1          ENSMUSG00000092274     NaN  ENSMUSG00000092274         NaN   \n",
       "Snhg1                       83673     NaN                 NaN       83673   \n",
       "Snhg1          ENSMUSG00000108414     NaN  ENSMUSG00000108414         NaN   \n",
       "\n",
       "                                                            name notfound  \\\n",
       "query                                                                       \n",
       "1810058I24Rik                         RIKEN cDNA 1810058I24 gene      NaN   \n",
       "1810058I24Rik                         RIKEN cDNA 1810058I24 gene      NaN   \n",
       "AI662270                             expressed sequence AI662270      NaN   \n",
       "AI662270                             expressed sequence AI662270      NaN   \n",
       "Cebpd              CCAAT/enhancer binding protein (C/EBP), delta      NaN   \n",
       "Cebpd              CCAAT/enhancer binding protein (C/EBP), delta      NaN   \n",
       "Fn3krp                     fructosamine 3 kinase related protein      NaN   \n",
       "Fn3k                       fructosamine 3 kinase related protein      NaN   \n",
       "Mir144                                              microRNA 144      NaN   \n",
       "Mir144                                              microRNA 144      NaN   \n",
       "Neat1          nuclear paraspeckle assembly transcript 1 (non...      NaN   \n",
       "Neat1          nuclear paraspeckle assembly transcript 1 (non...      NaN   \n",
       "Snhg1                            small nucleolar RNA host gene 1      NaN   \n",
       "Snhg1                            small nucleolar RNA host gene 1      NaN   \n",
       "\n",
       "                      symbol  \n",
       "query                         \n",
       "1810058I24Rik  1810058I24Rik  \n",
       "1810058I24Rik  1810058I24Rik  \n",
       "AI662270            AI662270  \n",
       "AI662270            AI662270  \n",
       "Cebpd                  Cebpd  \n",
       "Cebpd                  Cebpd  \n",
       "Fn3krp                Fn3krp  \n",
       "Fn3k                  Fn3krp  \n",
       "Mir144                Mir144  \n",
       "Mir144                Mir144  \n",
       "Neat1                  Neat1  \n",
       "Neat1                  Neat1  \n",
       "Snhg1                  Snhg1  \n",
       "Snhg1                  Snhg1  "
      ]
     },
     "execution_count": 72,
     "metadata": {},
     "output_type": "execute_result"
    }
   ],
   "source": [
    "check(hughes_unique, results, results['out'])"
   ]
  },
  {
   "cell_type": "markdown",
   "metadata": {},
   "source": [
    "It would be great if our do-it-all function would work on this. Let's try it:"
   ]
  },
  {
   "cell_type": "code",
   "execution_count": 73,
   "metadata": {
    "collapsed": false
   },
   "outputs": [
    {
     "name": "stdout",
     "output_type": "stream",
     "text": [
      "Traceback (most recent call last):\n",
      "  File \"<ipython-input-73-f726fcd472ff>\", line 2, in <module>\n",
      "    final_hughes = corrected_results(results)\n",
      "  File \"<ipython-input-69-22be1fa25ad1>\", line 9, in corrected_results\n",
      "    deduped = dedup_multiple_hits(results)\n",
      "  File \"<ipython-input-64-01196277322d>\", line 32, in dedup_multiple_hits\n",
      "    assert orig == fixed\n",
      "AssertionError\n",
      "\n"
     ]
    }
   ],
   "source": [
    "try:\n",
    "    final_hughes = corrected_results(results)\n",
    "except:\n",
    "    import traceback, sys\n",
    "    print(traceback.format_exc())\n",
    "    "
   ]
  },
  {
   "cell_type": "markdown",
   "metadata": {},
   "source": [
    "*Sigh*. It looks like our assertion in the `dedup_multiple_hits` failed. Let's revisit the body of that function, re-running things up to the point where the assertion failed."
   ]
  },
  {
   "cell_type": "code",
   "execution_count": 74,
   "metadata": {
    "collapsed": false
   },
   "outputs": [],
   "source": [
    "# Get a list of duplicate symbols\n",
    "dup_symbols = [i[0] for i in results['dup']]\n",
    "\n",
    "# Select rows for those symbols\n",
    "dups = results['out'].ix[dup_symbols]\n",
    "\n",
    "# Identify where query ('index') matches symbol\n",
    "query_matches_symbol = dups.index == dups.symbol\n",
    "\n",
    "# Double-check that the strategy worked: after de-duping, \n",
    "# we should still have the same genes and only one row for each\n",
    "orig = set(dups.index)\n",
    "fixed = set(dups.index[query_matches_symbol])\n",
    "\n",
    "# This assertion failed:\n",
    "#assert orig == fixed"
   ]
  },
  {
   "cell_type": "markdown",
   "metadata": {},
   "source": [
    "Now we check `orig` (the set of original identifiers we provided for which MyGene found multiple hits) and `fixed` (those remaining after keeping only the hit whose symbol matched the asked-for identifier). What's different?"
   ]
  },
  {
   "cell_type": "code",
   "execution_count": 75,
   "metadata": {
    "collapsed": false
   },
   "outputs": [
    {
     "data": {
      "text/plain": [
       "{'Beta-s'}"
      ]
     },
     "execution_count": 75,
     "metadata": {},
     "output_type": "execute_result"
    }
   ],
   "source": [
    "set(orig).difference(fixed)"
   ]
  },
  {
   "cell_type": "code",
   "execution_count": 76,
   "metadata": {
    "collapsed": false
   },
   "outputs": [
    {
     "data": {
      "text/html": [
       "<div>\n",
       "<table border=\"1\" class=\"dataframe\">\n",
       "  <thead>\n",
       "    <tr style=\"text-align: right;\">\n",
       "      <th></th>\n",
       "      <th>_id</th>\n",
       "      <th>ensembl</th>\n",
       "      <th>ensembl.gene</th>\n",
       "      <th>entrezgene</th>\n",
       "      <th>name</th>\n",
       "      <th>notfound</th>\n",
       "      <th>symbol</th>\n",
       "    </tr>\n",
       "    <tr>\n",
       "      <th>query</th>\n",
       "      <th></th>\n",
       "      <th></th>\n",
       "      <th></th>\n",
       "      <th></th>\n",
       "      <th></th>\n",
       "      <th></th>\n",
       "      <th></th>\n",
       "    </tr>\n",
       "  </thead>\n",
       "  <tbody>\n",
       "    <tr>\n",
       "      <th>Beta-s</th>\n",
       "      <td>100503605</td>\n",
       "      <td>NaN</td>\n",
       "      <td>ENSMUSG00000052305</td>\n",
       "      <td>100503605</td>\n",
       "      <td>hemoglobin, beta adult s chain</td>\n",
       "      <td>NaN</td>\n",
       "      <td>Hbb-bs</td>\n",
       "    </tr>\n",
       "    <tr>\n",
       "      <th>Beta-s</th>\n",
       "      <td>54195</td>\n",
       "      <td>NaN</td>\n",
       "      <td>ENSMUSG00000028005</td>\n",
       "      <td>54195</td>\n",
       "      <td>guanylate cyclase 1, soluble, beta 3</td>\n",
       "      <td>NaN</td>\n",
       "      <td>Gucy1b3</td>\n",
       "    </tr>\n",
       "  </tbody>\n",
       "</table>\n",
       "</div>"
      ],
      "text/plain": [
       "              _id ensembl        ensembl.gene  entrezgene  \\\n",
       "query                                                       \n",
       "Beta-s  100503605     NaN  ENSMUSG00000052305   100503605   \n",
       "Beta-s      54195     NaN  ENSMUSG00000028005       54195   \n",
       "\n",
       "                                        name notfound   symbol  \n",
       "query                                                           \n",
       "Beta-s        hemoglobin, beta adult s chain      NaN   Hbb-bs  \n",
       "Beta-s  guanylate cyclase 1, soluble, beta 3      NaN  Gucy1b3  "
      ]
     },
     "execution_count": 76,
     "metadata": {},
     "output_type": "execute_result"
    }
   ],
   "source": [
    "results['out'].ix['Beta-s']"
   ]
  },
  {
   "cell_type": "markdown",
   "metadata": {},
   "source": [
    "Aha! It found multiple hits for `Beta-s`, but neither of them actually had `Beta-s` in the `symbol` field.  We should be able to fix this the same way we made fixes to the Li et al data: by using a `to_fix` dictionary to re-name genes before we send them to MyGene.\n",
    "\n",
    "So let's return to the missing genes:"
   ]
  },
  {
   "cell_type": "code",
   "execution_count": 77,
   "metadata": {
    "collapsed": false
   },
   "outputs": [
    {
     "data": {
      "text/plain": [
       "['AK020764', 'AK043267', '1110020G09Rik', 'AK172315']"
      ]
     },
     "execution_count": 77,
     "metadata": {},
     "output_type": "execute_result"
    }
   ],
   "source": [
    "results['missing']"
   ]
  },
  {
   "cell_type": "markdown",
   "metadata": {},
   "source": [
    "Let's set up our `to_fix` dictionary and our `to_remove` list, and immediately add `Beta-s`:"
   ]
  },
  {
   "cell_type": "code",
   "execution_count": 78,
   "metadata": {
    "collapsed": false
   },
   "outputs": [],
   "source": [
    "to_fix = dict()\n",
    "to_remove = []\n",
    "to_fix['Beta-s'] = 'Hbb-bs'"
   ]
  },
  {
   "cell_type": "markdown",
   "metadata": {},
   "source": [
    "Same drill as before for figuring out how to find missing genes: we try to resolve these genes by doing a more sensitive MyGene.info query.\n",
    "\n",
    "## AK020764"
   ]
  },
  {
   "cell_type": "code",
   "execution_count": 79,
   "metadata": {
    "collapsed": false
   },
   "outputs": [
    {
     "name": "stdout",
     "output_type": "stream",
     "text": [
      "RNA accession: ['AA254104', 'AI021175', 'AK020764', 'AW909330', 'BE136127']\n",
      "symbol: Mir142hg\n"
     ]
    }
   ],
   "source": [
    "res = mg.query('AK020764', species='mouse', fields='all')\n",
    "\n",
    "# Got a hit; print relevant info\n",
    "print(\"RNA accession:\", res['hits'][0]['accession']['rna'])\n",
    "print(\"symbol:\", res['hits'][0]['symbol'])"
   ]
  },
  {
   "cell_type": "markdown",
   "metadata": {},
   "source": [
    "Looking at the full output, this is a microRNA. Is this already in the list?"
   ]
  },
  {
   "cell_type": "code",
   "execution_count": 80,
   "metadata": {
    "collapsed": false
   },
   "outputs": [
    {
     "name": "stdout",
     "output_type": "stream",
     "text": [
      "False\n"
     ]
    }
   ],
   "source": [
    "print('Mir142hg' in hughes_unique)"
   ]
  },
  {
   "cell_type": "markdown",
   "metadata": {},
   "source": [
    "Nope, let's add it to the list of genes to fix:"
   ]
  },
  {
   "cell_type": "code",
   "execution_count": 81,
   "metadata": {
    "collapsed": false
   },
   "outputs": [],
   "source": [
    "to_fix['AK020764'] = 'Mir142hg'"
   ]
  },
  {
   "cell_type": "markdown",
   "metadata": {},
   "source": [
    "## AK043267"
   ]
  },
  {
   "cell_type": "code",
   "execution_count": 82,
   "metadata": {
    "collapsed": false
   },
   "outputs": [
    {
     "name": "stdout",
     "output_type": "stream",
     "text": [
      "RNA accession: ['AK009139', 'AK036940', 'AK043267', 'AK044589', 'AK044643', 'AK047994', 'AK077371', 'AK077603', 'AK132573', 'AK156916', 'AK172512', 'AK172537', 'BC026841', 'BC037731', 'BC057650', 'CJ155464', 'L13171', 'NM_001170537', 'NM_025282', 'XM_006517120', 'XM_006517121', 'XM_006517122', 'XM_006517123', 'XM_006517124', 'XM_006517126', 'XM_006517127', 'XM_006517128', 'XM_006517129', 'XM_006517130', 'XM_006517131', 'XM_006517132', 'XM_011244492', 'XM_011244495', 'XM_017315405', 'XM_017315406', 'XM_017315407', 'XM_017315408', 'XM_017315409', 'XM_017315410', 'XM_017315411']\n",
      "symbol: Mef2c\n"
     ]
    }
   ],
   "source": [
    "res = mg.query('AK043267', species='mouse', fields='all')\n",
    "\n",
    "# Got a hit\n",
    "print(\"RNA accession:\", res['hits'][0]['accession']['rna'])\n",
    "print(\"symbol:\", res['hits'][0]['symbol'])"
   ]
  },
  {
   "cell_type": "code",
   "execution_count": 83,
   "metadata": {
    "collapsed": false
   },
   "outputs": [
    {
     "name": "stdout",
     "output_type": "stream",
     "text": [
      "False\n"
     ]
    }
   ],
   "source": [
    "print('Mef2c' in hughes_unique)"
   ]
  },
  {
   "cell_type": "markdown",
   "metadata": {},
   "source": [
    "Another strightforward one; add it to the list:"
   ]
  },
  {
   "cell_type": "code",
   "execution_count": 84,
   "metadata": {
    "collapsed": false
   },
   "outputs": [],
   "source": [
    "to_fix['AK043267'] = 'Mef2c'"
   ]
  },
  {
   "cell_type": "markdown",
   "metadata": {},
   "source": [
    "## AK172315"
   ]
  },
  {
   "cell_type": "code",
   "execution_count": 85,
   "metadata": {
    "collapsed": false
   },
   "outputs": [
    {
     "name": "stdout",
     "output_type": "stream",
     "text": [
      "RNA accession: ['AK036383', 'AK044300', 'AK078660', 'AK083998', 'AK085774', 'AK086145', 'AK156747', 'AK172062', 'AK172315', 'BC011430', 'NR_030671']\n",
      "symbol: AW011738\n"
     ]
    }
   ],
   "source": [
    "res = mg.query('AK172315', species='mouse', fields='all')\n",
    "\n",
    "# Got a hit\n",
    "print(\"RNA accession:\", res['hits'][0]['accession']['rna'])\n",
    "print(\"symbol:\", res['hits'][0]['symbol'])"
   ]
  },
  {
   "cell_type": "code",
   "execution_count": 86,
   "metadata": {
    "collapsed": false
   },
   "outputs": [
    {
     "name": "stdout",
     "output_type": "stream",
     "text": [
      "False\n"
     ]
    }
   ],
   "source": [
    "print('AW011738' in hughes_unique)"
   ]
  },
  {
   "cell_type": "markdown",
   "metadata": {},
   "source": [
    "So far so good. Add this one too:"
   ]
  },
  {
   "cell_type": "code",
   "execution_count": 87,
   "metadata": {
    "collapsed": false
   },
   "outputs": [],
   "source": [
    "to_fix['AK172315'] = 'AW011738'"
   ]
  },
  {
   "cell_type": "markdown",
   "metadata": {},
   "source": [
    "## 1110020G09Rik"
   ]
  },
  {
   "cell_type": "code",
   "execution_count": 88,
   "metadata": {
    "collapsed": false
   },
   "outputs": [
    {
     "data": {
      "text/plain": [
       "{'hits': [], 'max_score': None, 'took': 1, 'total': 0}"
      ]
     },
     "execution_count": 88,
     "metadata": {},
     "output_type": "execute_result"
    }
   ],
   "source": [
    "mg.query('1110020G09Rik', species='mouse', fields='all')"
   ]
  },
  {
   "cell_type": "markdown",
   "metadata": {},
   "source": [
    "No easy fix. Googling for this finds it in MGI -- strange that MyGene doesn't find it. This gene is also called Nadk2; NBCI calls it `BC115776` and also refers to the RIKEN cDNA name. UCSC shows the `BC115776` clone mapping to the Nadk2 gene. Based on all of that, we can infer that this identifier refers to the `Nadk2` gene. Let's make sure we can find it in MyGene:"
   ]
  },
  {
   "cell_type": "code",
   "execution_count": 89,
   "metadata": {
    "collapsed": false
   },
   "outputs": [
    {
     "name": "stdout",
     "output_type": "stream",
     "text": [
      "symbol: Nadk2\n"
     ]
    }
   ],
   "source": [
    "res = mg.query('Nadk2', species='mouse', fields='all')\n",
    "# Got a hit\n",
    "print(\"symbol:\", res['hits'][0]['symbol'])"
   ]
  },
  {
   "cell_type": "code",
   "execution_count": 90,
   "metadata": {
    "collapsed": false
   },
   "outputs": [
    {
     "name": "stdout",
     "output_type": "stream",
     "text": [
      "False\n"
     ]
    }
   ],
   "source": [
    "print('Nadk2' in hughes_unique.symbol)"
   ]
  },
  {
   "cell_type": "code",
   "execution_count": 91,
   "metadata": {
    "collapsed": false
   },
   "outputs": [],
   "source": [
    "to_fix['1110020G09Rik'] = 'Nadk2'"
   ]
  },
  {
   "cell_type": "markdown",
   "metadata": {},
   "source": [
    "OK, now we can use our `fix` function from above, which will use our `to_fix` dictionary and `to_remove` list (which happens to be empty here) to fix the query genes:"
   ]
  },
  {
   "cell_type": "code",
   "execution_count": 92,
   "metadata": {
    "collapsed": false
   },
   "outputs": [],
   "source": [
    "hughes_fixed = fix(hughes_unique.symbol, to_fix, to_remove)        "
   ]
  },
  {
   "cell_type": "markdown",
   "metadata": {},
   "source": [
    "Then redo the query using the fixed names:"
   ]
  },
  {
   "cell_type": "code",
   "execution_count": 93,
   "metadata": {
    "collapsed": false
   },
   "outputs": [
    {
     "name": "stdout",
     "output_type": "stream",
     "text": [
      "Finished.\n",
      "25 input query terms found dup hits:\n",
      "\t[('Snhg1', 2), ('Mir144', 2), ('Fbxo30', 2), ('Sp2', 2), ('Mpg', 2), ('Mpl', 3), ('AW011738', 2), ('\n"
     ]
    }
   ],
   "source": [
    "results = mg.querymany(\n",
    "    list(hughes_fixed),\n",
    "    species='mouse',\n",
    "    scopes='symbol,alias',\n",
    "    fields='symbol,ensembl.gene,entrezgene,name,alias',\n",
    "    as_dataframe=True,\n",
    "    returnall=True\n",
    ")"
   ]
  },
  {
   "cell_type": "markdown",
   "metadata": {},
   "source": [
    "Good, no missing results. We still have the duplicates as expected, but we know how to remove them by now.\n",
    "\n",
    "Let's check progress at each stage:"
   ]
  },
  {
   "cell_type": "code",
   "execution_count": 94,
   "metadata": {
    "collapsed": false
   },
   "outputs": [
    {
     "name": "stdout",
     "output_type": "stream",
     "text": [
      "438 symbols in original list\n",
      "0 ID not found\n",
      "473 unique IDs in results\n",
      "465 unique symbols in results\n",
      "474 total rows in results\n"
     ]
    }
   ],
   "source": [
    "check(hughes_fixed, results, results['out']);"
   ]
  },
  {
   "cell_type": "markdown",
   "metadata": {},
   "source": [
    "We have a lot of duplicates showing up; how do things change when we keep just those whose query matches symbol?"
   ]
  },
  {
   "cell_type": "code",
   "execution_count": 95,
   "metadata": {
    "collapsed": false
   },
   "outputs": [
    {
     "name": "stdout",
     "output_type": "stream",
     "text": [
      "438 symbols in original list\n",
      "0 ID not found\n",
      "446 unique IDs in results\n",
      "438 unique symbols in results\n",
      "446 total rows in results\n"
     ]
    }
   ],
   "source": [
    "deduped = dedup_multiple_hits(results)\n",
    "check(hughes_fixed, results, deduped);"
   ]
  },
  {
   "cell_type": "markdown",
   "metadata": {},
   "source": [
    "Still looks like we could have either some synonyms or multiple hits. Let's remove synonyms and check the results:"
   ]
  },
  {
   "cell_type": "code",
   "execution_count": 96,
   "metadata": {
    "collapsed": false
   },
   "outputs": [
    {
     "name": "stdout",
     "output_type": "stream",
     "text": [
      "438 symbols in original list\n",
      "0 ID not found\n",
      "446 unique IDs in results\n",
      "438 unique symbols in results\n",
      "446 total rows in results\n"
     ]
    },
    {
     "data": {
      "text/html": [
       "<div>\n",
       "<table border=\"1\" class=\"dataframe\">\n",
       "  <thead>\n",
       "    <tr style=\"text-align: right;\">\n",
       "      <th></th>\n",
       "      <th>_id</th>\n",
       "      <th>alias</th>\n",
       "      <th>ensembl</th>\n",
       "      <th>ensembl.gene</th>\n",
       "      <th>entrezgene</th>\n",
       "      <th>name</th>\n",
       "      <th>symbol</th>\n",
       "    </tr>\n",
       "    <tr>\n",
       "      <th>query</th>\n",
       "      <th></th>\n",
       "      <th></th>\n",
       "      <th></th>\n",
       "      <th></th>\n",
       "      <th></th>\n",
       "      <th></th>\n",
       "      <th></th>\n",
       "    </tr>\n",
       "  </thead>\n",
       "  <tbody>\n",
       "    <tr>\n",
       "      <th>1810058I24Rik</th>\n",
       "      <td>ENSMUSG00000073155</td>\n",
       "      <td>NaN</td>\n",
       "      <td>NaN</td>\n",
       "      <td>ENSMUSG00000073155</td>\n",
       "      <td>NaN</td>\n",
       "      <td>RIKEN cDNA 1810058I24 gene</td>\n",
       "      <td>1810058I24Rik</td>\n",
       "    </tr>\n",
       "    <tr>\n",
       "      <th>1810058I24Rik</th>\n",
       "      <td>67705</td>\n",
       "      <td>[AI414869, AI848234]</td>\n",
       "      <td>NaN</td>\n",
       "      <td>NaN</td>\n",
       "      <td>67705</td>\n",
       "      <td>RIKEN cDNA 1810058I24 gene</td>\n",
       "      <td>1810058I24Rik</td>\n",
       "    </tr>\n",
       "    <tr>\n",
       "      <th>AI662270</th>\n",
       "      <td>ENSMUSG00000087107</td>\n",
       "      <td>NaN</td>\n",
       "      <td>NaN</td>\n",
       "      <td>ENSMUSG00000087107</td>\n",
       "      <td>NaN</td>\n",
       "      <td>expressed sequence AI662270</td>\n",
       "      <td>AI662270</td>\n",
       "    </tr>\n",
       "    <tr>\n",
       "      <th>AI662270</th>\n",
       "      <td>100043636</td>\n",
       "      <td>AW496474</td>\n",
       "      <td>NaN</td>\n",
       "      <td>NaN</td>\n",
       "      <td>100043636</td>\n",
       "      <td>expressed sequence AI662270</td>\n",
       "      <td>AI662270</td>\n",
       "    </tr>\n",
       "    <tr>\n",
       "      <th>AW011738</th>\n",
       "      <td>ENSMUSG00000078349</td>\n",
       "      <td>NaN</td>\n",
       "      <td>NaN</td>\n",
       "      <td>ENSMUSG00000078349</td>\n",
       "      <td>NaN</td>\n",
       "      <td>expressed sequence AW011738</td>\n",
       "      <td>AW011738</td>\n",
       "    </tr>\n",
       "    <tr>\n",
       "      <th>AW011738</th>\n",
       "      <td>100382</td>\n",
       "      <td>NaN</td>\n",
       "      <td>NaN</td>\n",
       "      <td>NaN</td>\n",
       "      <td>100382</td>\n",
       "      <td>expressed sequence AW011738</td>\n",
       "      <td>AW011738</td>\n",
       "    </tr>\n",
       "    <tr>\n",
       "      <th>Cebpd</th>\n",
       "      <td>ENSMUSG00000071637</td>\n",
       "      <td>NaN</td>\n",
       "      <td>NaN</td>\n",
       "      <td>ENSMUSG00000071637</td>\n",
       "      <td>NaN</td>\n",
       "      <td>CCAAT/enhancer binding protein (C/EBP), delta</td>\n",
       "      <td>Cebpd</td>\n",
       "    </tr>\n",
       "    <tr>\n",
       "      <th>Cebpd</th>\n",
       "      <td>12609</td>\n",
       "      <td>c/EBPdelta</td>\n",
       "      <td>NaN</td>\n",
       "      <td>NaN</td>\n",
       "      <td>12609</td>\n",
       "      <td>CCAAT/enhancer binding protein (C/EBP), delta</td>\n",
       "      <td>Cebpd</td>\n",
       "    </tr>\n",
       "    <tr>\n",
       "      <th>Mir142hg</th>\n",
       "      <td>ENSMUSG00000084796</td>\n",
       "      <td>NaN</td>\n",
       "      <td>NaN</td>\n",
       "      <td>ENSMUSG00000084796</td>\n",
       "      <td>NaN</td>\n",
       "      <td>Mir142 host gene (non-protein coding)</td>\n",
       "      <td>Mir142hg</td>\n",
       "    </tr>\n",
       "    <tr>\n",
       "      <th>Mir142hg</th>\n",
       "      <td>78591</td>\n",
       "      <td>[A430104N18Rik, AW909330]</td>\n",
       "      <td>NaN</td>\n",
       "      <td>NaN</td>\n",
       "      <td>78591</td>\n",
       "      <td>Mir142 host gene (non-protein coding)</td>\n",
       "      <td>Mir142hg</td>\n",
       "    </tr>\n",
       "    <tr>\n",
       "      <th>Mir144</th>\n",
       "      <td>ENSMUSG00000065401</td>\n",
       "      <td>NaN</td>\n",
       "      <td>NaN</td>\n",
       "      <td>ENSMUSG00000065401</td>\n",
       "      <td>NaN</td>\n",
       "      <td>microRNA 144</td>\n",
       "      <td>Mir144</td>\n",
       "    </tr>\n",
       "    <tr>\n",
       "      <th>Mir144</th>\n",
       "      <td>387162</td>\n",
       "      <td>[Mirn144, mir-144, mmu-mir-144]</td>\n",
       "      <td>NaN</td>\n",
       "      <td>NaN</td>\n",
       "      <td>387162</td>\n",
       "      <td>microRNA 144</td>\n",
       "      <td>Mir144</td>\n",
       "    </tr>\n",
       "    <tr>\n",
       "      <th>Neat1</th>\n",
       "      <td>66961</td>\n",
       "      <td>[2310043N10Rik, VINC]</td>\n",
       "      <td>NaN</td>\n",
       "      <td>NaN</td>\n",
       "      <td>66961</td>\n",
       "      <td>nuclear paraspeckle assembly transcript 1 (non...</td>\n",
       "      <td>Neat1</td>\n",
       "    </tr>\n",
       "    <tr>\n",
       "      <th>Neat1</th>\n",
       "      <td>ENSMUSG00000092274</td>\n",
       "      <td>NaN</td>\n",
       "      <td>NaN</td>\n",
       "      <td>ENSMUSG00000092274</td>\n",
       "      <td>NaN</td>\n",
       "      <td>nuclear paraspeckle assembly transcript 1 (non...</td>\n",
       "      <td>Neat1</td>\n",
       "    </tr>\n",
       "    <tr>\n",
       "      <th>Snhg1</th>\n",
       "      <td>83673</td>\n",
       "      <td>NaN</td>\n",
       "      <td>NaN</td>\n",
       "      <td>NaN</td>\n",
       "      <td>83673</td>\n",
       "      <td>small nucleolar RNA host gene 1</td>\n",
       "      <td>Snhg1</td>\n",
       "    </tr>\n",
       "    <tr>\n",
       "      <th>Snhg1</th>\n",
       "      <td>ENSMUSG00000108414</td>\n",
       "      <td>NaN</td>\n",
       "      <td>NaN</td>\n",
       "      <td>ENSMUSG00000108414</td>\n",
       "      <td>NaN</td>\n",
       "      <td>small nucleolar RNA host gene 1</td>\n",
       "      <td>Snhg1</td>\n",
       "    </tr>\n",
       "  </tbody>\n",
       "</table>\n",
       "</div>"
      ],
      "text/plain": [
       "                              _id                            alias ensembl  \\\n",
       "query                                                                        \n",
       "1810058I24Rik  ENSMUSG00000073155                              NaN     NaN   \n",
       "1810058I24Rik               67705             [AI414869, AI848234]     NaN   \n",
       "AI662270       ENSMUSG00000087107                              NaN     NaN   \n",
       "AI662270                100043636                         AW496474     NaN   \n",
       "AW011738       ENSMUSG00000078349                              NaN     NaN   \n",
       "AW011738                   100382                              NaN     NaN   \n",
       "Cebpd          ENSMUSG00000071637                              NaN     NaN   \n",
       "Cebpd                       12609                       c/EBPdelta     NaN   \n",
       "Mir142hg       ENSMUSG00000084796                              NaN     NaN   \n",
       "Mir142hg                    78591        [A430104N18Rik, AW909330]     NaN   \n",
       "Mir144         ENSMUSG00000065401                              NaN     NaN   \n",
       "Mir144                     387162  [Mirn144, mir-144, mmu-mir-144]     NaN   \n",
       "Neat1                       66961            [2310043N10Rik, VINC]     NaN   \n",
       "Neat1          ENSMUSG00000092274                              NaN     NaN   \n",
       "Snhg1                       83673                              NaN     NaN   \n",
       "Snhg1          ENSMUSG00000108414                              NaN     NaN   \n",
       "\n",
       "                     ensembl.gene  entrezgene  \\\n",
       "query                                           \n",
       "1810058I24Rik  ENSMUSG00000073155         NaN   \n",
       "1810058I24Rik                 NaN       67705   \n",
       "AI662270       ENSMUSG00000087107         NaN   \n",
       "AI662270                      NaN   100043636   \n",
       "AW011738       ENSMUSG00000078349         NaN   \n",
       "AW011738                      NaN      100382   \n",
       "Cebpd          ENSMUSG00000071637         NaN   \n",
       "Cebpd                         NaN       12609   \n",
       "Mir142hg       ENSMUSG00000084796         NaN   \n",
       "Mir142hg                      NaN       78591   \n",
       "Mir144         ENSMUSG00000065401         NaN   \n",
       "Mir144                        NaN      387162   \n",
       "Neat1                         NaN       66961   \n",
       "Neat1          ENSMUSG00000092274         NaN   \n",
       "Snhg1                         NaN       83673   \n",
       "Snhg1          ENSMUSG00000108414         NaN   \n",
       "\n",
       "                                                            name  \\\n",
       "query                                                              \n",
       "1810058I24Rik                         RIKEN cDNA 1810058I24 gene   \n",
       "1810058I24Rik                         RIKEN cDNA 1810058I24 gene   \n",
       "AI662270                             expressed sequence AI662270   \n",
       "AI662270                             expressed sequence AI662270   \n",
       "AW011738                             expressed sequence AW011738   \n",
       "AW011738                             expressed sequence AW011738   \n",
       "Cebpd              CCAAT/enhancer binding protein (C/EBP), delta   \n",
       "Cebpd              CCAAT/enhancer binding protein (C/EBP), delta   \n",
       "Mir142hg                   Mir142 host gene (non-protein coding)   \n",
       "Mir142hg                   Mir142 host gene (non-protein coding)   \n",
       "Mir144                                              microRNA 144   \n",
       "Mir144                                              microRNA 144   \n",
       "Neat1          nuclear paraspeckle assembly transcript 1 (non...   \n",
       "Neat1          nuclear paraspeckle assembly transcript 1 (non...   \n",
       "Snhg1                            small nucleolar RNA host gene 1   \n",
       "Snhg1                            small nucleolar RNA host gene 1   \n",
       "\n",
       "                      symbol  \n",
       "query                         \n",
       "1810058I24Rik  1810058I24Rik  \n",
       "1810058I24Rik  1810058I24Rik  \n",
       "AI662270            AI662270  \n",
       "AI662270            AI662270  \n",
       "AW011738            AW011738  \n",
       "AW011738            AW011738  \n",
       "Cebpd                  Cebpd  \n",
       "Cebpd                  Cebpd  \n",
       "Mir142hg            Mir142hg  \n",
       "Mir142hg            Mir142hg  \n",
       "Mir144                Mir144  \n",
       "Mir144                Mir144  \n",
       "Neat1                  Neat1  \n",
       "Neat1                  Neat1  \n",
       "Snhg1                  Snhg1  \n",
       "Snhg1                  Snhg1  "
      ]
     },
     "execution_count": 96,
     "metadata": {},
     "output_type": "execute_result"
    }
   ],
   "source": [
    "rm_syn = remove_synonyms(deduped)\n",
    "check(hughes_fixed, results, rm_syn)"
   ]
  },
  {
   "cell_type": "markdown",
   "metadata": {},
   "source": [
    "Looks like a lot of the same problem we've been seeing before: separate entries for each gene. Luckily we have the machinery in place to fix this; let's run our do-it-all function and check the unresolved genes:"
   ]
  },
  {
   "cell_type": "code",
   "execution_count": 97,
   "metadata": {
    "collapsed": false
   },
   "outputs": [
    {
     "name": "stdout",
     "output_type": "stream",
     "text": [
      "438 symbols in original list\n",
      "0 ID not found\n",
      "438 unique IDs in results\n",
      "438 unique symbols in results\n",
      "438 total rows in results\n"
     ]
    },
    {
     "data": {
      "text/html": [
       "<div>\n",
       "<table border=\"1\" class=\"dataframe\">\n",
       "  <thead>\n",
       "    <tr style=\"text-align: right;\">\n",
       "      <th></th>\n",
       "    </tr>\n",
       "  </thead>\n",
       "  <tbody>\n",
       "  </tbody>\n",
       "</table>\n",
       "</div>"
      ],
      "text/plain": [
       "Empty DataFrame\n",
       "Columns: []\n",
       "Index: []"
      ]
     },
     "execution_count": 97,
     "metadata": {},
     "output_type": "execute_result"
    }
   ],
   "source": [
    "final_hughes = corrected_results(results)\n",
    "check(hughes_fixed, results, final_hughes)"
   ]
  },
  {
   "cell_type": "markdown",
   "metadata": {},
   "source": [
    "Victory! Let's clean things up and write a function so we can 1) provide a list of fields we want to query MyGene for, and 2) get a final dataframe for everything."
   ]
  },
  {
   "cell_type": "code",
   "execution_count": 98,
   "metadata": {
    "collapsed": false
   },
   "outputs": [],
   "source": [
    "def dataframe_from_genes(genes, fields):\n",
    "    if 'symbol' not in fields:\n",
    "        raise ValueError(\"Deduping needs 'symbol' to be in fields\")\n",
    "        \n",
    "    return corrected_results(\n",
    "        mg.querymany(\n",
    "            genes,\n",
    "            species='mouse',\n",
    "            scopes='symbol,alias',\n",
    "            fields=fields,\n",
    "            as_dataframe=True,\n",
    "            returnall=True,\n",
    "            verbose=False\n",
    "        )\n",
    "    )"
   ]
  },
  {
   "cell_type": "markdown",
   "metadata": {},
   "source": [
    "With everything in place now, we can re-generate the final fixed and de-duplicated dataframes from both gene lists like this:"
   ]
  },
  {
   "cell_type": "code",
   "execution_count": 99,
   "metadata": {
    "collapsed": false
   },
   "outputs": [],
   "source": [
    "fields = 'symbol,ensembl.gene,entrezgene,name,alias'\n",
    "li = dataframe_from_genes(li_fixed, fields)\n",
    "hughes = dataframe_from_genes(hughes_fixed, fields)"
   ]
  },
  {
   "cell_type": "markdown",
   "metadata": {},
   "source": [
    "Let's check the intersection again. For reference, here's what we started with by doing the easy thing -- intersecting the gene symbols as provided by each paper:"
   ]
  },
  {
   "cell_type": "code",
   "execution_count": 100,
   "metadata": {
    "collapsed": false
   },
   "outputs": [
    {
     "name": "stdout",
     "output_type": "stream",
     "text": [
      "Li: 528\n",
      "Hughes: 438\n",
      "Shared: 110\n",
      "Unique to Li et al: 418\n",
      "Unique to Hughes et al: 328\n"
     ]
    }
   ],
   "source": [
    "li_set = set(li_unique.symbol)\n",
    "hughes_set = set(hughes_unique.symbol)\n",
    "print(\"Li:\", len(li_set))\n",
    "print(\"Hughes:\", len(hughes_set))\n",
    "print(\"Shared:\", len(li_set.intersection(hughes_set)))\n",
    "print(\"Unique to Li et al:\", len(li_set.difference(hughes_set)))\n",
    "print(\"Unique to Hughes et al:\", len(hughes_set.difference(li_set)))"
   ]
  },
  {
   "cell_type": "markdown",
   "metadata": {},
   "source": [
    "And here's the new version:"
   ]
  },
  {
   "cell_type": "code",
   "execution_count": 101,
   "metadata": {
    "collapsed": false
   },
   "outputs": [
    {
     "name": "stdout",
     "output_type": "stream",
     "text": [
      "Li: 497\n",
      "Hughes: 438\n",
      "Shared: 114\n",
      "Unique to Li et al: 383\n",
      "Unique to Hughes et al: 324\n"
     ]
    }
   ],
   "source": [
    "li_set = set(li.symbol)\n",
    "hughes_set = set(hughes.symbol)\n",
    "print(\"Li:\", len(li_set))\n",
    "print(\"Hughes:\", len(hughes_set))\n",
    "print(\"Shared:\", len(li_set.intersection(hughes_set)))\n",
    "print(\"Unique to Li et al:\", len(li_set.difference(hughes_set)))\n",
    "print(\"Unique to Hughes et al:\", len(hughes_set.difference(li_set)))"
   ]
  },
  {
   "cell_type": "markdown",
   "metadata": {},
   "source": [
    "It actually didn't change that much -- we're still sitting at about 1/3 overlap between these gene lists. But the important thing is that we now have lists of genes -- complete with symbol, Ensembl, and Entrez accessions -- that we can use for downstream work.\n",
    "\n",
    "Let's get some final lists together."
   ]
  },
  {
   "cell_type": "code",
   "execution_count": 102,
   "metadata": {
    "collapsed": false
   },
   "outputs": [],
   "source": [
    "def get_human_genes(ids):\n",
    "    \"\"\"\n",
    "    Given a list of MyGene.info IDs:\n",
    "    \n",
    "        - Query MyGene.info to retrieve Homologene entries\n",
    "        - extract human homologs from the Homologene results\n",
    "        - re-query MyGene.info using the human homologs, and attach\n",
    "          additional fields\n",
    "        - return the human homolog dataframe\n",
    "        \n",
    "    If `ids` is a DataFrame, then use the `_id` field. Otherwise\n",
    "    expect a list of MyGene.info IDs.\n",
    "    \"\"\"\n",
    "    \n",
    "    if isinstance(ids, pandas.DataFrame):\n",
    "        ids = list(ids._id)\n",
    "    \n",
    "    # Just ask for the homologene genes\n",
    "    results = mg.querymany(\n",
    "        ids,\n",
    "        fields='homologene.genes',\n",
    "        species='mouse',\n",
    "        as_dataframe=True,\n",
    "        verbose=False,\n",
    "    )\n",
    "    \n",
    "    # Homologene results come back as lists of items. Multiple orthologs \n",
    "    # from the same species will manifest as multiple entries in the list.\n",
    "    human_orthologs = []\n",
    "    human_taxon_id = 9606\n",
    "    for x in results['homologene.genes']:\n",
    "        if isinstance(x, list):\n",
    "            for i in x:\n",
    "                if i[0] == human_taxon_id:\n",
    "                    human_orthologs.append(i[1])\n",
    "\n",
    "    # Re-query, using the human genes.\n",
    "    return mg.querymany(\n",
    "        human_orthologs,\n",
    "        species='human',\n",
    "        fields='symbol,name,alias,entrezgene,ensembl.gene',\n",
    "        as_dataframe=True,\n",
    "        verbose=False)\n",
    "    \n",
    "\n",
    "\n",
    "\n",
    "# intersection of both lists\n",
    "found_in_both = li[li._id.isin(hughes._id)]\n",
    "\n",
    "# union of both lists\n",
    "found_in_either = pandas.concat((li, hughes)).drop_duplicates('_id')\n",
    "\n",
    "# human orthologs of each\n",
    "human_found_in_both = get_human_genes(found_in_both)\n",
    "human_found_in_either = get_human_genes(found_in_either)\n",
    "human_li = get_human_genes(li)\n",
    "human_hughes = get_human_genes(hughes)\n",
    "\n",
    "\n",
    "\n",
    "def export_gene_lists(df, label, prefix='gene-lists/',\n",
    "                      fields=['_id', 'entrezgene', 'ensembl.gene', 'symbol', 'alias']):\n",
    "    \"\"\"\n",
    "    For each of the specified fields, creates a new file named after\n",
    "    the pattern\n",
    "    \n",
    "        <prefix><label>-<field>.txt\n",
    "\n",
    "    containing the unique set of identifiers for that field.\n",
    "    \"\"\"\n",
    "\n",
    "    for field in fields:\n",
    "        filename = prefix + label + '-' + field + '.txt'\n",
    "        df2 = df[field].dropna()\n",
    "        with open(filename, 'w') as fout:\n",
    "            for i in df2:\n",
    "                if isinstance(i, list):\n",
    "                    i = i = '|'.join(i)\n",
    "                fout.write('%s\\n' % i)\n",
    "\n",
    "\n",
    "\n",
    "import os\n",
    "if not os.path.exists('gene-lists'):\n",
    "    os.makedirs('gene-lists')\n",
    "    \n",
    "export_gene_lists(li, 'li')\n",
    "export_gene_lists(human_li, 'li_human_orthologs')\n",
    "export_gene_lists(hughes, 'hughes')\n",
    "export_gene_lists(human_hughes, 'hughes_human_orthologs')\n",
    "export_gene_lists(found_in_either, 'union')\n",
    "export_gene_lists(human_found_in_either, 'union_human_orthologs')\n",
    "export_gene_lists(found_in_both, 'intersection')\n",
    "export_gene_lists(human_found_in_both, 'intersection_human_orthologs')           "
   ]
  },
  {
   "cell_type": "markdown",
   "metadata": {},
   "source": [
    "Now we have lists of genes we can use for downstream analysis, depending on which gene accession we need. Note that not all genes have all accession types, and that sometimes we can get an expansion of genes (like in the `intersection` case) where one mouse gene can have multiple human homologs:"
   ]
  },
  {
   "cell_type": "code",
   "execution_count": 103,
   "metadata": {
    "collapsed": false
   },
   "outputs": [
    {
     "name": "stdout",
     "output_type": "stream",
     "text": [
      "   413 gene-lists/hughes-alias.txt\n",
      "   434 gene-lists/hughes-ensembl.gene.txt\n",
      "   438 gene-lists/hughes-entrezgene.txt\n",
      "   375 gene-lists/hughes_human_orthologs-alias.txt\n",
      "   399 gene-lists/hughes_human_orthologs-ensembl.gene.txt\n",
      "   421 gene-lists/hughes_human_orthologs-entrezgene.txt\n",
      "   421 gene-lists/hughes_human_orthologs-_id.txt\n",
      "   421 gene-lists/hughes_human_orthologs-symbol.txt\n",
      "   438 gene-lists/hughes-_id.txt\n",
      "   438 gene-lists/hughes-symbol.txt\n",
      "   110 gene-lists/intersection-alias.txt\n",
      "   113 gene-lists/intersection-ensembl.gene.txt\n",
      "   114 gene-lists/intersection-entrezgene.txt\n",
      "   110 gene-lists/intersection_human_orthologs-alias.txt\n",
      "   110 gene-lists/intersection_human_orthologs-ensembl.gene.txt\n",
      "   115 gene-lists/intersection_human_orthologs-entrezgene.txt\n",
      "   115 gene-lists/intersection_human_orthologs-_id.txt\n",
      "   115 gene-lists/intersection_human_orthologs-symbol.txt\n",
      "   114 gene-lists/intersection-_id.txt\n",
      "   114 gene-lists/intersection-symbol.txt\n",
      "   477 gene-lists/li-alias.txt\n",
      "   487 gene-lists/li-ensembl.gene.txt\n",
      "   497 gene-lists/li-entrezgene.txt\n",
      "   437 gene-lists/li_human_orthologs-alias.txt\n",
      "   452 gene-lists/li_human_orthologs-ensembl.gene.txt\n",
      "   473 gene-lists/li_human_orthologs-entrezgene.txt\n",
      "   473 gene-lists/li_human_orthologs-_id.txt\n",
      "   473 gene-lists/li_human_orthologs-symbol.txt\n",
      "   497 gene-lists/li-_id.txt\n",
      "   497 gene-lists/li-symbol.txt\n",
      "   780 gene-lists/union-alias.txt\n",
      "   808 gene-lists/union-ensembl.gene.txt\n",
      "   821 gene-lists/union-entrezgene.txt\n",
      "   702 gene-lists/union_human_orthologs-alias.txt\n",
      "   741 gene-lists/union_human_orthologs-ensembl.gene.txt\n",
      "   779 gene-lists/union_human_orthologs-entrezgene.txt\n",
      "   779 gene-lists/union_human_orthologs-_id.txt\n",
      "   779 gene-lists/union_human_orthologs-symbol.txt\n",
      "   821 gene-lists/union-_id.txt\n",
      "   821 gene-lists/union-symbol.txt\n",
      " 17922 total\n"
     ]
    }
   ],
   "source": [
    "%%bash\n",
    "wc -l gene-lists/*"
   ]
  }
 ],
 "metadata": {
  "anaconda-cloud": {},
  "kernelspec": {
   "display_name": "Python 3",
   "language": "python",
   "name": "python3"
  },
  "language_info": {
   "codemirror_mode": {
    "name": "ipython",
    "version": 3
   },
   "file_extension": ".py",
   "mimetype": "text/x-python",
   "name": "python",
   "nbconvert_exporter": "python",
   "pygments_lexer": "ipython3",
   "version": "3.5.2"
  }
 },
 "nbformat": 4,
 "nbformat_minor": 0
}
